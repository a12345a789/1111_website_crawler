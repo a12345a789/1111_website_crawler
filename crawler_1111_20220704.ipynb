{
 "cells": [
  {
   "cell_type": "code",
   "execution_count": 1,
   "id": "009a9d66",
   "metadata": {},
   "outputs": [],
   "source": [
    "#載入套件\n",
    "import requests\n",
    "from bs4 import BeautifulSoup\n",
    "import re\n",
    "import pandas as pd\n",
    "import numpy as np\n",
    "import datetime\n",
    "import selenium\n",
    "import json\n",
    "from tqdm import tqdm, trange\n",
    "import time\n",
    "import random"
   ]
  },
  {
   "cell_type": "code",
   "execution_count": 2,
   "id": "78cb3fca",
   "metadata": {},
   "outputs": [],
   "source": [
    "#設定DataFrame顯示方式\n",
    "pd.set_option('display.max_columns',None)\n",
    "pd.set_option('display.max_rows',None)\n",
    "pd.set_option('display.float_format',lambda x:'%4.4f'% x)"
   ]
  },
  {
   "cell_type": "code",
   "execution_count": 3,
   "id": "759c841e",
   "metadata": {},
   "outputs": [],
   "source": [
    "#加入反爬元素\n",
    "headers = {'User-Agent': 'Mozilla/5.0 (Macintosh; Intel Mac OS X 10_15_7) AppleWebKit/537.36 (KHTML, like Gecko) Chrome/101.0.4951.64 Safari/537.36'\n",
    "     }"
   ]
  },
  {
   "cell_type": "code",
   "execution_count": 4,
   "id": "f17987fa",
   "metadata": {},
   "outputs": [],
   "source": [
    "def getFreeIpProxy():\n",
    "    \"\"\"\n",
    "    取得 Free Proxy List\n",
    "    \"\"\"\n",
    "    free_proxy_urls = [\n",
    "        f\"https://proxylist.geonode.com/api/proxy-list?limit=200&sort_by=lastChecked&sort_type=desc&google=true&protocols=https\",\n",
    "        \"https://free-proxy-list.net/\"\n",
    "    ]\n",
    "    ip_list = []\n",
    "    for url in tqdm(free_proxy_urls):\n",
    "        if \"geonode\" in url:\n",
    "            res = requests.get(url).json()\n",
    "            ip_list += [item[\"ip\"]+\":\"+item[\"port\"] for item in res[\"data\"]]\n",
    "        elif \"free-proxy-list\" in url:\n",
    "            res = requests.get(url)\n",
    "            ip_list += re.findall('\\d+\\.\\d+\\.\\d+\\.\\d+:\\d+', res.text)\n",
    "    return ip_list\n",
    "    \n",
    "\n",
    "def getValidIpProxy(num_use):\n",
    "    \"\"\"\n",
    "    透過 ipify 檢驗是否為可用 IP\n",
    "    \"\"\"\n",
    "    \n",
    "    valid_ips = []\n",
    "    check_ip_url = \"https://api.ipify.org/?format=json\"\n",
    "    ip_list = getFreeIpProxy()\n",
    "\n",
    "    for ip in tqdm(ip_list):\n",
    "        try:\n",
    "            res = requests.get(check_ip_url, proxies={\"http\": ip, \"https\": ip}, timeout=5)\n",
    "            valid_ips.append(ip)\n",
    "            print(res.json())\n",
    "        except:\n",
    "            print(\"Invalid: \", ip)\n",
    "\n",
    "        if len(valid_ips) >= num_use:\n",
    "            break\n",
    "    \n",
    "    return valid_ips\n"
   ]
  },
  {
   "cell_type": "code",
   "execution_count": 5,
   "id": "5e282338",
   "metadata": {},
   "outputs": [
    {
     "name": "stderr",
     "output_type": "stream",
     "text": [
      "100%|██████████| 2/2 [00:01<00:00,  1.26it/s]\n",
      "  0%|          | 1/310 [00:00<03:56,  1.30it/s]"
     ]
    },
    {
     "name": "stdout",
     "output_type": "stream",
     "text": [
      "Invalid:  192.195.57.72:3128\n"
     ]
    },
    {
     "name": "stderr",
     "output_type": "stream",
     "text": [
      "\r",
      "  1%|          | 2/310 [00:04<12:45,  2.49s/it]"
     ]
    },
    {
     "name": "stdout",
     "output_type": "stream",
     "text": [
      "Invalid:  207.180.217.107:3128\n"
     ]
    },
    {
     "name": "stderr",
     "output_type": "stream",
     "text": [
      "\r",
      "  1%|          | 3/310 [00:06<10:59,  2.15s/it]"
     ]
    },
    {
     "name": "stdout",
     "output_type": "stream",
     "text": [
      "Invalid:  51.250.80.131:80\n"
     ]
    },
    {
     "name": "stderr",
     "output_type": "stream",
     "text": [
      "\r",
      "  1%|▏         | 4/310 [00:11<16:43,  3.28s/it]"
     ]
    },
    {
     "name": "stdout",
     "output_type": "stream",
     "text": [
      "Invalid:  173.212.245.135:3128\n"
     ]
    },
    {
     "name": "stderr",
     "output_type": "stream",
     "text": [
      "\r",
      "  2%|▏         | 5/310 [00:16<19:49,  3.90s/it]"
     ]
    },
    {
     "name": "stdout",
     "output_type": "stream",
     "text": [
      "Invalid:  37.120.192.154:8080\n"
     ]
    },
    {
     "name": "stderr",
     "output_type": "stream",
     "text": [
      "\r",
      "  2%|▏         | 6/310 [00:16<13:58,  2.76s/it]"
     ]
    },
    {
     "name": "stdout",
     "output_type": "stream",
     "text": [
      "Invalid:  144.76.60.58:8118\n"
     ]
    },
    {
     "name": "stderr",
     "output_type": "stream",
     "text": [
      "\r",
      "  2%|▏         | 7/310 [00:21<17:38,  3.49s/it]"
     ]
    },
    {
     "name": "stdout",
     "output_type": "stream",
     "text": [
      "Invalid:  116.203.201.82:8443\n"
     ]
    },
    {
     "name": "stderr",
     "output_type": "stream",
     "text": [
      "\r",
      "  3%|▎         | 8/310 [00:23<15:31,  3.08s/it]"
     ]
    },
    {
     "name": "stdout",
     "output_type": "stream",
     "text": [
      "{'ip': '85.14.243.31'}\n"
     ]
    },
    {
     "name": "stderr",
     "output_type": "stream",
     "text": [
      "\r",
      "  3%|▎         | 9/310 [00:25<12:47,  2.55s/it]"
     ]
    },
    {
     "name": "stdout",
     "output_type": "stream",
     "text": [
      "{'ip': '34.215.30.215'}\n"
     ]
    },
    {
     "name": "stderr",
     "output_type": "stream",
     "text": [
      "\r",
      "  3%|▎         | 10/310 [00:28<14:16,  2.85s/it]"
     ]
    },
    {
     "name": "stdout",
     "output_type": "stream",
     "text": [
      "Invalid:  147.135.255.62:8139\n"
     ]
    },
    {
     "name": "stderr",
     "output_type": "stream",
     "text": [
      "\r",
      "  4%|▎         | 11/310 [00:30<12:03,  2.42s/it]"
     ]
    },
    {
     "name": "stdout",
     "output_type": "stream",
     "text": [
      "{'ip': '110.170.126.13'}\n"
     ]
    },
    {
     "name": "stderr",
     "output_type": "stream",
     "text": [
      "\r",
      "  4%|▍         | 12/310 [00:30<09:19,  1.88s/it]"
     ]
    },
    {
     "name": "stdout",
     "output_type": "stream",
     "text": [
      "Invalid:  67.212.186.102:80\n"
     ]
    },
    {
     "name": "stderr",
     "output_type": "stream",
     "text": [
      "\r",
      "  4%|▍         | 13/310 [00:31<07:26,  1.50s/it]"
     ]
    },
    {
     "name": "stdout",
     "output_type": "stream",
     "text": [
      "Invalid:  80.48.119.28:8080\n"
     ]
    },
    {
     "name": "stderr",
     "output_type": "stream",
     "text": [
      "\r",
      "  5%|▍         | 14/310 [00:32<06:09,  1.25s/it]"
     ]
    },
    {
     "name": "stdout",
     "output_type": "stream",
     "text": [
      "Invalid:  66.29.154.103:3128\n"
     ]
    },
    {
     "name": "stderr",
     "output_type": "stream",
     "text": [
      "\r",
      "  5%|▍         | 15/310 [00:32<05:13,  1.06s/it]"
     ]
    },
    {
     "name": "stdout",
     "output_type": "stream",
     "text": [
      "Invalid:  169.57.1.85:8123\n"
     ]
    },
    {
     "name": "stderr",
     "output_type": "stream",
     "text": [
      "\r",
      "  5%|▌         | 16/310 [00:33<04:21,  1.13it/s]"
     ]
    },
    {
     "name": "stdout",
     "output_type": "stream",
     "text": [
      "Invalid:  195.80.49.231:80\n"
     ]
    },
    {
     "name": "stderr",
     "output_type": "stream",
     "text": [
      "\r",
      "  5%|▌         | 17/310 [00:38<10:23,  2.13s/it]"
     ]
    },
    {
     "name": "stdout",
     "output_type": "stream",
     "text": [
      "Invalid:  51.250.80.131:80\n"
     ]
    },
    {
     "name": "stderr",
     "output_type": "stream",
     "text": [
      "\r",
      "  6%|▌         | 18/310 [00:39<08:14,  1.69s/it]"
     ]
    },
    {
     "name": "stdout",
     "output_type": "stream",
     "text": [
      "Invalid:  198.199.86.11:8080\n"
     ]
    },
    {
     "name": "stderr",
     "output_type": "stream",
     "text": [
      "\r",
      "  6%|▌         | 19/310 [00:44<13:06,  2.70s/it]"
     ]
    },
    {
     "name": "stdout",
     "output_type": "stream",
     "text": [
      "Invalid:  47.240.160.90:10001\n"
     ]
    },
    {
     "name": "stderr",
     "output_type": "stream",
     "text": [
      "\r",
      "  6%|▋         | 20/310 [00:44<09:27,  1.96s/it]"
     ]
    },
    {
     "name": "stdout",
     "output_type": "stream",
     "text": [
      "Invalid:  49.207.36.81:80\n"
     ]
    },
    {
     "name": "stderr",
     "output_type": "stream",
     "text": [
      "\r",
      "  7%|▋         | 21/310 [00:44<07:09,  1.49s/it]"
     ]
    },
    {
     "name": "stdout",
     "output_type": "stream",
     "text": [
      "Invalid:  107.179.33.13:80\n"
     ]
    },
    {
     "name": "stderr",
     "output_type": "stream",
     "text": [
      "\r",
      "  7%|▋         | 22/310 [00:45<06:08,  1.28s/it]"
     ]
    },
    {
     "name": "stdout",
     "output_type": "stream",
     "text": [
      "Invalid:  5.252.161.48:3128\n",
      "Invalid:  05.252.161.48:8080\n"
     ]
    },
    {
     "name": "stderr",
     "output_type": "stream",
     "text": [
      "\r",
      "  8%|▊         | 24/310 [00:45<03:45,  1.27it/s]"
     ]
    },
    {
     "name": "stdout",
     "output_type": "stream",
     "text": [
      "Invalid:  20.110.214.83:80\n"
     ]
    },
    {
     "name": "stderr",
     "output_type": "stream",
     "text": [
      "\r",
      "  8%|▊         | 25/310 [00:46<03:28,  1.37it/s]"
     ]
    },
    {
     "name": "stdout",
     "output_type": "stream",
     "text": [
      "Invalid:  159.203.61.169:8080\n",
      "Invalid:  005.252.161.48:8080\n"
     ]
    },
    {
     "name": "stderr",
     "output_type": "stream",
     "text": [
      "\r",
      "  9%|▊         | 27/310 [00:51<06:55,  1.47s/it]"
     ]
    },
    {
     "name": "stdout",
     "output_type": "stream",
     "text": [
      "Invalid:  151.106.18.122:1080\n"
     ]
    },
    {
     "name": "stderr",
     "output_type": "stream",
     "text": [
      "\r",
      "  9%|▉         | 28/310 [00:52<05:55,  1.26s/it]"
     ]
    },
    {
     "name": "stdout",
     "output_type": "stream",
     "text": [
      "Invalid:  115.96.208.124:8080\n"
     ]
    },
    {
     "name": "stderr",
     "output_type": "stream",
     "text": [
      "\r",
      "  9%|▉         | 29/310 [00:52<04:43,  1.01s/it]"
     ]
    },
    {
     "name": "stdout",
     "output_type": "stream",
     "text": [
      "Invalid:  103.232.215.194:80\n"
     ]
    },
    {
     "name": "stderr",
     "output_type": "stream",
     "text": [
      "\r",
      " 10%|▉         | 30/310 [00:53<04:33,  1.02it/s]"
     ]
    },
    {
     "name": "stdout",
     "output_type": "stream",
     "text": [
      "Invalid:  66.29.154.105:3128\n"
     ]
    },
    {
     "name": "stderr",
     "output_type": "stream",
     "text": [
      "\r",
      " 10%|█         | 31/310 [00:53<03:40,  1.27it/s]"
     ]
    },
    {
     "name": "stdout",
     "output_type": "stream",
     "text": [
      "Invalid:  103.149.162.195:80\n"
     ]
    },
    {
     "name": "stderr",
     "output_type": "stream",
     "text": [
      "\r",
      " 10%|█         | 32/310 [00:54<03:25,  1.35it/s]"
     ]
    },
    {
     "name": "stdout",
     "output_type": "stream",
     "text": [
      "Invalid:  209.97.150.167:8080\n"
     ]
    },
    {
     "name": "stderr",
     "output_type": "stream",
     "text": [
      "\r",
      " 11%|█         | 33/310 [00:56<05:34,  1.21s/it]"
     ]
    },
    {
     "name": "stdout",
     "output_type": "stream",
     "text": [
      "Invalid:  151.106.17.124:1080\n"
     ]
    },
    {
     "name": "stderr",
     "output_type": "stream",
     "text": [
      "\r",
      " 11%|█         | 34/310 [01:01<10:36,  2.31s/it]"
     ]
    },
    {
     "name": "stdout",
     "output_type": "stream",
     "text": [
      "Invalid:  131.0.207.79:8080\n"
     ]
    },
    {
     "name": "stderr",
     "output_type": "stream",
     "text": [
      "\r",
      " 11%|█▏        | 35/310 [01:05<12:28,  2.72s/it]"
     ]
    },
    {
     "name": "stdout",
     "output_type": "stream",
     "text": [
      "Invalid:  195.189.123.213:3128\n"
     ]
    },
    {
     "name": "stderr",
     "output_type": "stream",
     "text": [
      "\r",
      " 12%|█▏        | 36/310 [01:10<15:30,  3.40s/it]"
     ]
    },
    {
     "name": "stdout",
     "output_type": "stream",
     "text": [
      "Invalid:  36.95.156.127:6969\n"
     ]
    },
    {
     "name": "stderr",
     "output_type": "stream",
     "text": [
      "\r",
      " 12%|█▏        | 37/310 [01:15<17:47,  3.91s/it]"
     ]
    },
    {
     "name": "stdout",
     "output_type": "stream",
     "text": [
      "Invalid:  128.199.202.122:3128\n"
     ]
    },
    {
     "name": "stderr",
     "output_type": "stream",
     "text": [
      "\r",
      " 12%|█▏        | 38/310 [01:15<13:12,  2.91s/it]"
     ]
    },
    {
     "name": "stdout",
     "output_type": "stream",
     "text": [
      "Invalid:  185.61.152.137:8080\n"
     ]
    },
    {
     "name": "stderr",
     "output_type": "stream",
     "text": [
      "\r",
      " 13%|█▎        | 39/310 [01:20<15:59,  3.54s/it]"
     ]
    },
    {
     "name": "stdout",
     "output_type": "stream",
     "text": [
      "Invalid:  130.41.85.158:8080\n"
     ]
    },
    {
     "name": "stderr",
     "output_type": "stream",
     "text": [
      "\r",
      " 13%|█▎        | 40/310 [01:22<13:32,  3.01s/it]"
     ]
    },
    {
     "name": "stdout",
     "output_type": "stream",
     "text": [
      "Invalid:  197.243.14.90:8888\n"
     ]
    },
    {
     "name": "stderr",
     "output_type": "stream",
     "text": [
      "\r",
      " 13%|█▎        | 41/310 [01:27<16:10,  3.61s/it]"
     ]
    },
    {
     "name": "stdout",
     "output_type": "stream",
     "text": [
      "Invalid:  107.167.6.109:59394\n"
     ]
    },
    {
     "name": "stderr",
     "output_type": "stream",
     "text": [
      " 14%|█▍        | 43/310 [01:30<10:17,  2.31s/it]"
     ]
    },
    {
     "name": "stdout",
     "output_type": "stream",
     "text": [
      "Invalid:  5.183.102.169:80\n",
      "Invalid:  47.74.152.29:8888\n"
     ]
    },
    {
     "name": "stderr",
     "output_type": "stream",
     "text": [
      "\r",
      " 14%|█▍        | 44/310 [01:35<13:53,  3.13s/it]"
     ]
    },
    {
     "name": "stdout",
     "output_type": "stream",
     "text": [
      "Invalid:  103.148.72.106:80\n"
     ]
    },
    {
     "name": "stderr",
     "output_type": "stream",
     "text": [
      "\r",
      " 15%|█▍        | 45/310 [01:38<13:55,  3.15s/it]"
     ]
    },
    {
     "name": "stdout",
     "output_type": "stream",
     "text": [
      "Invalid:  189.164.118.26:3128\n"
     ]
    },
    {
     "name": "stderr",
     "output_type": "stream",
     "text": [
      "\r",
      " 15%|█▍        | 46/310 [01:43<16:19,  3.71s/it]"
     ]
    },
    {
     "name": "stdout",
     "output_type": "stream",
     "text": [
      "Invalid:  151.106.17.125:1080\n"
     ]
    },
    {
     "name": "stderr",
     "output_type": "stream",
     "text": [
      "\r",
      " 15%|█▌        | 47/310 [01:48<17:58,  4.10s/it]"
     ]
    },
    {
     "name": "stdout",
     "output_type": "stream",
     "text": [
      "Invalid:  185.221.134.234:3129\n"
     ]
    },
    {
     "name": "stderr",
     "output_type": "stream",
     "text": [
      "\r",
      " 15%|█▌        | 48/310 [01:48<12:51,  2.95s/it]"
     ]
    },
    {
     "name": "stdout",
     "output_type": "stream",
     "text": [
      "Invalid:  159.89.195.14:80\n"
     ]
    },
    {
     "name": "stderr",
     "output_type": "stream",
     "text": [
      "\r",
      " 16%|█▌        | 49/310 [01:53<15:30,  3.57s/it]"
     ]
    },
    {
     "name": "stdout",
     "output_type": "stream",
     "text": [
      "Invalid:  85.214.71.122:8118\n"
     ]
    },
    {
     "name": "stderr",
     "output_type": "stream",
     "text": [
      "\r",
      " 16%|█▌        | 50/310 [01:58<17:19,  4.00s/it]"
     ]
    },
    {
     "name": "stdout",
     "output_type": "stream",
     "text": [
      "Invalid:  103.160.202.218:8085\n"
     ]
    },
    {
     "name": "stderr",
     "output_type": "stream",
     "text": [
      "\r",
      " 16%|█▋        | 51/310 [02:03<18:34,  4.30s/it]"
     ]
    },
    {
     "name": "stdout",
     "output_type": "stream",
     "text": [
      "Invalid:  93.63.78.7:3128\n"
     ]
    },
    {
     "name": "stderr",
     "output_type": "stream",
     "text": [
      "\r",
      " 17%|█▋        | 52/310 [02:08<19:25,  4.52s/it]"
     ]
    },
    {
     "name": "stdout",
     "output_type": "stream",
     "text": [
      "Invalid:  38.108.119.176:59394\n"
     ]
    },
    {
     "name": "stderr",
     "output_type": "stream",
     "text": [
      "\r",
      " 17%|█▋        | 53/310 [02:13<19:58,  4.66s/it]"
     ]
    },
    {
     "name": "stdout",
     "output_type": "stream",
     "text": [
      "Invalid:  154.13.5.42:59394\n"
     ]
    },
    {
     "name": "stderr",
     "output_type": "stream",
     "text": [
      "\r",
      " 17%|█▋        | 54/310 [02:18<20:20,  4.77s/it]"
     ]
    },
    {
     "name": "stdout",
     "output_type": "stream",
     "text": [
      "Invalid:  107.167.6.106:59394\n"
     ]
    },
    {
     "name": "stderr",
     "output_type": "stream",
     "text": [
      "\r",
      " 18%|█▊        | 55/310 [02:19<14:46,  3.48s/it]"
     ]
    },
    {
     "name": "stdout",
     "output_type": "stream",
     "text": [
      "Invalid:  35.234.248.49:3128\n"
     ]
    },
    {
     "name": "stderr",
     "output_type": "stream",
     "text": [
      "\r",
      " 18%|█▊        | 56/310 [02:25<18:35,  4.39s/it]"
     ]
    },
    {
     "name": "stdout",
     "output_type": "stream",
     "text": [
      "Invalid:  20.81.62.32:3128\n"
     ]
    },
    {
     "name": "stderr",
     "output_type": "stream",
     "text": [
      "\r",
      " 18%|█▊        | 57/310 [02:26<13:31,  3.21s/it]"
     ]
    },
    {
     "name": "stdout",
     "output_type": "stream",
     "text": [
      "Invalid:  20.47.108.204:8888\n"
     ]
    },
    {
     "name": "stderr",
     "output_type": "stream",
     "text": [
      "\r",
      " 19%|█▊        | 58/310 [02:31<16:19,  3.89s/it]"
     ]
    },
    {
     "name": "stdout",
     "output_type": "stream",
     "text": [
      "Invalid:  177.141.99.50:8080\n"
     ]
    },
    {
     "name": "stderr",
     "output_type": "stream",
     "text": [
      "\r",
      " 19%|█▉        | 59/310 [02:36<17:40,  4.22s/it]"
     ]
    },
    {
     "name": "stdout",
     "output_type": "stream",
     "text": [
      "Invalid:  58.162.157.236:3128\n"
     ]
    },
    {
     "name": "stderr",
     "output_type": "stream",
     "text": [
      "\r",
      " 19%|█▉        | 60/310 [02:41<18:34,  4.46s/it]"
     ]
    },
    {
     "name": "stdout",
     "output_type": "stream",
     "text": [
      "Invalid:  216.74.246.194:3129\n"
     ]
    },
    {
     "name": "stderr",
     "output_type": "stream",
     "text": [
      "\r",
      " 20%|█▉        | 61/310 [02:46<19:12,  4.63s/it]"
     ]
    },
    {
     "name": "stdout",
     "output_type": "stream",
     "text": [
      "Invalid:  85.14.243.31:3128\n"
     ]
    },
    {
     "name": "stderr",
     "output_type": "stream",
     "text": [
      "\r",
      " 20%|██        | 62/310 [02:48<15:34,  3.77s/it]"
     ]
    },
    {
     "name": "stdout",
     "output_type": "stream",
     "text": [
      "{'ip': '122.155.165.191'}\n"
     ]
    },
    {
     "name": "stderr",
     "output_type": "stream",
     "text": [
      "\r",
      " 20%|██        | 63/310 [02:49<11:27,  2.78s/it]"
     ]
    },
    {
     "name": "stdout",
     "output_type": "stream",
     "text": [
      "Invalid:  210.212.227.68:3128\n"
     ]
    },
    {
     "name": "stderr",
     "output_type": "stream",
     "text": [
      "\r",
      " 21%|██        | 64/310 [02:54<14:09,  3.45s/it]"
     ]
    },
    {
     "name": "stdout",
     "output_type": "stream",
     "text": [
      "Invalid:  45.5.68.134:999\n"
     ]
    },
    {
     "name": "stderr",
     "output_type": "stream",
     "text": [
      "\r",
      " 21%|██        | 65/310 [03:00<17:34,  4.31s/it]"
     ]
    },
    {
     "name": "stdout",
     "output_type": "stream",
     "text": [
      "Invalid:  47.252.4.64:8888\n"
     ]
    },
    {
     "name": "stderr",
     "output_type": "stream",
     "text": [
      "\r",
      " 21%|██▏       | 66/310 [03:05<18:22,  4.52s/it]"
     ]
    },
    {
     "name": "stdout",
     "output_type": "stream",
     "text": [
      "Invalid:  186.248.89.6:5005\n"
     ]
    },
    {
     "name": "stderr",
     "output_type": "stream",
     "text": [
      "\r",
      " 22%|██▏       | 67/310 [03:11<20:43,  5.12s/it]"
     ]
    },
    {
     "name": "stdout",
     "output_type": "stream",
     "text": [
      "{'ip': '194.169.167.199'}\n"
     ]
    },
    {
     "name": "stderr",
     "output_type": "stream",
     "text": [
      "\r",
      " 22%|██▏       | 68/310 [03:15<19:00,  4.71s/it]"
     ]
    },
    {
     "name": "stdout",
     "output_type": "stream",
     "text": [
      "Invalid:  119.59.125.191:3128\n"
     ]
    },
    {
     "name": "stderr",
     "output_type": "stream",
     "text": [
      "\r",
      " 22%|██▏       | 69/310 [03:19<18:18,  4.56s/it]"
     ]
    },
    {
     "name": "stdout",
     "output_type": "stream",
     "text": [
      "{'ip': '14.140.131.82'}\n",
      "Invalid:  05.189.229.42:1081\n"
     ]
    },
    {
     "name": "stderr",
     "output_type": "stream",
     "text": [
      "\r",
      " 23%|██▎       | 71/310 [03:24<14:23,  3.61s/it]"
     ]
    },
    {
     "name": "stdout",
     "output_type": "stream",
     "text": [
      "Invalid:  190.13.150.27:999\n"
     ]
    },
    {
     "name": "stderr",
     "output_type": "stream",
     "text": [
      "\r",
      " 23%|██▎       | 72/310 [03:29<15:42,  3.96s/it]"
     ]
    },
    {
     "name": "stdout",
     "output_type": "stream",
     "text": [
      "Invalid:  190.247.250.112:8080\n"
     ]
    },
    {
     "name": "stderr",
     "output_type": "stream",
     "text": [
      "\r",
      " 24%|██▎       | 73/310 [03:34<16:43,  4.23s/it]"
     ]
    },
    {
     "name": "stdout",
     "output_type": "stream",
     "text": [
      "Invalid:  193.138.178.6:8282\n"
     ]
    },
    {
     "name": "stderr",
     "output_type": "stream",
     "text": [
      "\r",
      " 24%|██▍       | 74/310 [03:40<17:45,  4.51s/it]"
     ]
    },
    {
     "name": "stdout",
     "output_type": "stream",
     "text": [
      "Invalid:  50.205.202.249:3128\n"
     ]
    },
    {
     "name": "stderr",
     "output_type": "stream",
     "text": [
      "\r",
      " 24%|██▍       | 75/310 [03:45<18:13,  4.65s/it]"
     ]
    },
    {
     "name": "stdout",
     "output_type": "stream",
     "text": [
      "Invalid:  122.3.41.154:8090\n"
     ]
    },
    {
     "name": "stderr",
     "output_type": "stream",
     "text": [
      "\r",
      " 25%|██▍       | 76/310 [03:50<18:32,  4.76s/it]"
     ]
    },
    {
     "name": "stdout",
     "output_type": "stream",
     "text": [
      "Invalid:  159.192.138.170:8080\n"
     ]
    },
    {
     "name": "stderr",
     "output_type": "stream",
     "text": [
      "\r",
      " 25%|██▍       | 77/310 [03:55<18:45,  4.83s/it]"
     ]
    },
    {
     "name": "stdout",
     "output_type": "stream",
     "text": [
      "Invalid:  178.137.8.193:81\n"
     ]
    },
    {
     "name": "stderr",
     "output_type": "stream",
     "text": [
      "\r",
      " 25%|██▌       | 78/310 [04:00<18:53,  4.89s/it]"
     ]
    },
    {
     "name": "stdout",
     "output_type": "stream",
     "text": [
      "Invalid:  103.117.150.100:8080\n"
     ]
    },
    {
     "name": "stderr",
     "output_type": "stream",
     "text": [
      "\r",
      " 25%|██▌       | 79/310 [04:05<19:17,  5.01s/it]"
     ]
    },
    {
     "name": "stdout",
     "output_type": "stream",
     "text": [
      "Invalid:  185.76.9.123:3128\n"
     ]
    },
    {
     "name": "stderr",
     "output_type": "stream",
     "text": [
      "\r",
      " 26%|██▌       | 80/310 [04:10<19:13,  5.01s/it]"
     ]
    },
    {
     "name": "stdout",
     "output_type": "stream",
     "text": [
      "Invalid:  190.187.201.26:8080\n"
     ]
    },
    {
     "name": "stderr",
     "output_type": "stream",
     "text": [
      "\r",
      " 26%|██▌       | 81/310 [04:15<19:08,  5.01s/it]"
     ]
    },
    {
     "name": "stdout",
     "output_type": "stream",
     "text": [
      "Invalid:  185.141.233.47:9443\n"
     ]
    },
    {
     "name": "stderr",
     "output_type": "stream",
     "text": [
      "\r",
      " 26%|██▋       | 82/310 [04:20<19:03,  5.01s/it]"
     ]
    },
    {
     "name": "stdout",
     "output_type": "stream",
     "text": [
      "Invalid:  143.198.182.218:80\n"
     ]
    },
    {
     "name": "stderr",
     "output_type": "stream",
     "text": [
      "\r",
      " 27%|██▋       | 83/310 [04:21<14:14,  3.76s/it]"
     ]
    },
    {
     "name": "stdout",
     "output_type": "stream",
     "text": [
      "Invalid:  195.211.180.156:3128\n"
     ]
    },
    {
     "name": "stderr",
     "output_type": "stream",
     "text": [
      "\r",
      " 27%|██▋       | 84/310 [04:26<15:38,  4.15s/it]"
     ]
    },
    {
     "name": "stdout",
     "output_type": "stream",
     "text": [
      "{'ip': '180.191.20.102'}\n"
     ]
    },
    {
     "name": "stderr",
     "output_type": "stream",
     "text": [
      "\r",
      " 27%|██▋       | 85/310 [04:32<17:50,  4.76s/it]"
     ]
    },
    {
     "name": "stdout",
     "output_type": "stream",
     "text": [
      "Invalid:  198.211.28.19:59394\n"
     ]
    },
    {
     "name": "stderr",
     "output_type": "stream",
     "text": [
      "\r",
      " 28%|██▊       | 86/310 [04:37<18:03,  4.84s/it]"
     ]
    },
    {
     "name": "stdout",
     "output_type": "stream",
     "text": [
      "Invalid:  89.107.197.165:3128\n"
     ]
    },
    {
     "name": "stderr",
     "output_type": "stream",
     "text": [
      "\r",
      " 28%|██▊       | 87/310 [04:42<18:09,  4.89s/it]"
     ]
    },
    {
     "name": "stdout",
     "output_type": "stream",
     "text": [
      "Invalid:  179.49.157.24:999\n"
     ]
    },
    {
     "name": "stderr",
     "output_type": "stream",
     "text": [
      "\r",
      " 28%|██▊       | 88/310 [04:46<16:59,  4.59s/it]"
     ]
    },
    {
     "name": "stdout",
     "output_type": "stream",
     "text": [
      "Invalid:  45.229.205.101:55555\n"
     ]
    },
    {
     "name": "stderr",
     "output_type": "stream",
     "text": [
      "\r",
      " 29%|██▊       | 89/310 [04:54<20:33,  5.58s/it]"
     ]
    },
    {
     "name": "stdout",
     "output_type": "stream",
     "text": [
      "Invalid:  34.215.30.215:3128\n"
     ]
    },
    {
     "name": "stderr",
     "output_type": "stream",
     "text": [
      "\r",
      " 29%|██▉       | 90/310 [04:59<19:50,  5.41s/it]"
     ]
    },
    {
     "name": "stdout",
     "output_type": "stream",
     "text": [
      "Invalid:  85.187.195.145:8080\n"
     ]
    },
    {
     "name": "stderr",
     "output_type": "stream",
     "text": [
      "\r",
      " 29%|██▉       | 91/310 [05:04<19:18,  5.29s/it]"
     ]
    },
    {
     "name": "stdout",
     "output_type": "stream",
     "text": [
      "Invalid:  198.211.28.29:59394\n"
     ]
    },
    {
     "name": "stderr",
     "output_type": "stream",
     "text": [
      "\r",
      " 30%|██▉       | 92/310 [05:09<18:55,  5.21s/it]"
     ]
    },
    {
     "name": "stdout",
     "output_type": "stream",
     "text": [
      "Invalid:  110.77.246.251:8080\n"
     ]
    },
    {
     "name": "stderr",
     "output_type": "stream",
     "text": [
      "\r",
      " 30%|███       | 93/310 [05:19<24:22,  6.74s/it]"
     ]
    },
    {
     "name": "stdout",
     "output_type": "stream",
     "text": [
      "Invalid:  192.195.57.72:3128\n"
     ]
    },
    {
     "name": "stderr",
     "output_type": "stream",
     "text": [
      "\r",
      " 30%|███       | 94/310 [05:24<22:23,  6.22s/it]"
     ]
    },
    {
     "name": "stdout",
     "output_type": "stream",
     "text": [
      "Invalid:  162.215.22.230:59394\n"
     ]
    },
    {
     "name": "stderr",
     "output_type": "stream",
     "text": [
      "\r",
      " 31%|███       | 95/310 [05:29<20:59,  5.86s/it]"
     ]
    },
    {
     "name": "stdout",
     "output_type": "stream",
     "text": [
      "Invalid:  5.161.105.105:80\n"
     ]
    },
    {
     "name": "stderr",
     "output_type": "stream",
     "text": [
      "\r",
      " 31%|███       | 96/310 [05:34<19:58,  5.60s/it]"
     ]
    },
    {
     "name": "stdout",
     "output_type": "stream",
     "text": [
      "Invalid:  13.49.158.24:3128\n"
     ]
    },
    {
     "name": "stderr",
     "output_type": "stream",
     "text": [
      "\r",
      " 31%|███▏      | 97/310 [05:39<19:15,  5.43s/it]"
     ]
    },
    {
     "name": "stdout",
     "output_type": "stream",
     "text": [
      "Invalid:  162.215.22.176:59394\n"
     ]
    },
    {
     "name": "stderr",
     "output_type": "stream",
     "text": [
      "\r",
      " 32%|███▏      | 98/310 [05:44<18:43,  5.30s/it]"
     ]
    },
    {
     "name": "stdout",
     "output_type": "stream",
     "text": [
      "Invalid:  107.167.6.103:59394\n"
     ]
    },
    {
     "name": "stderr",
     "output_type": "stream",
     "text": [
      "\r",
      " 32%|███▏      | 99/310 [05:50<18:31,  5.27s/it]"
     ]
    },
    {
     "name": "stdout",
     "output_type": "stream",
     "text": [
      "Invalid:  210.179.58.236:80\n"
     ]
    },
    {
     "name": "stderr",
     "output_type": "stream",
     "text": [
      "\r",
      " 32%|███▏      | 100/310 [05:52<15:12,  4.35s/it]"
     ]
    },
    {
     "name": "stdout",
     "output_type": "stream",
     "text": [
      "{'ip': '45.167.125.97'}\n"
     ]
    },
    {
     "name": "stderr",
     "output_type": "stream",
     "text": [
      "\r",
      " 33%|███▎      | 101/310 [05:54<13:16,  3.81s/it]"
     ]
    },
    {
     "name": "stdout",
     "output_type": "stream",
     "text": [
      "{'ip': '157.100.12.138'}\n"
     ]
    },
    {
     "name": "stderr",
     "output_type": "stream",
     "text": [
      "\r",
      " 33%|███▎      | 102/310 [05:59<14:27,  4.17s/it]"
     ]
    },
    {
     "name": "stdout",
     "output_type": "stream",
     "text": [
      "Invalid:  190.15.208.66:8080\n"
     ]
    },
    {
     "name": "stderr",
     "output_type": "stream",
     "text": [
      "\r",
      " 33%|███▎      | 103/310 [06:04<15:15,  4.42s/it]"
     ]
    },
    {
     "name": "stdout",
     "output_type": "stream",
     "text": [
      "Invalid:  107.167.6.100:59394\n"
     ]
    },
    {
     "name": "stderr",
     "output_type": "stream",
     "text": [
      "\r",
      " 34%|███▎      | 104/310 [06:09<15:47,  4.60s/it]"
     ]
    },
    {
     "name": "stdout",
     "output_type": "stream",
     "text": [
      "Invalid:  190.186.18.177:999\n"
     ]
    },
    {
     "name": "stderr",
     "output_type": "stream",
     "text": [
      "\r",
      " 34%|███▍      | 105/310 [06:12<13:29,  3.95s/it]"
     ]
    },
    {
     "name": "stdout",
     "output_type": "stream",
     "text": [
      "{'ip': '162.215.22.108'}\n"
     ]
    },
    {
     "name": "stderr",
     "output_type": "stream",
     "text": [
      "\r",
      " 34%|███▍      | 106/310 [06:17<14:30,  4.27s/it]"
     ]
    },
    {
     "name": "stdout",
     "output_type": "stream",
     "text": [
      "Invalid:  107.189.11.228:80\n"
     ]
    },
    {
     "name": "stderr",
     "output_type": "stream",
     "text": [
      "\r",
      " 35%|███▍      | 107/310 [06:20<13:35,  4.02s/it]"
     ]
    },
    {
     "name": "stdout",
     "output_type": "stream",
     "text": [
      "{'ip': '45.174.77.113'}\n"
     ]
    },
    {
     "name": "stderr",
     "output_type": "stream",
     "text": [
      "\r",
      " 35%|███▍      | 108/310 [06:25<14:31,  4.31s/it]"
     ]
    },
    {
     "name": "stdout",
     "output_type": "stream",
     "text": [
      "Invalid:  200.105.215.18:33630\n"
     ]
    },
    {
     "name": "stderr",
     "output_type": "stream",
     "text": [
      "\r",
      " 35%|███▌      | 109/310 [06:31<16:20,  4.88s/it]"
     ]
    },
    {
     "name": "stdout",
     "output_type": "stream",
     "text": [
      "Invalid:  162.215.22.165:59394\n"
     ]
    },
    {
     "name": "stderr",
     "output_type": "stream",
     "text": [
      "\r",
      " 35%|███▌      | 110/310 [06:36<16:23,  4.92s/it]"
     ]
    },
    {
     "name": "stdout",
     "output_type": "stream",
     "text": [
      "Invalid:  162.215.22.111:59394\n"
     ]
    },
    {
     "name": "stderr",
     "output_type": "stream",
     "text": [
      "\r",
      " 36%|███▌      | 111/310 [06:41<16:24,  4.95s/it]"
     ]
    },
    {
     "name": "stdout",
     "output_type": "stream",
     "text": [
      "Invalid:  162.215.22.126:59394\n"
     ]
    },
    {
     "name": "stderr",
     "output_type": "stream",
     "text": [
      "\r",
      " 36%|███▌      | 112/310 [06:46<16:23,  4.97s/it]"
     ]
    },
    {
     "name": "stdout",
     "output_type": "stream",
     "text": [
      "Invalid:  45.149.43.56:53281\n"
     ]
    },
    {
     "name": "stderr",
     "output_type": "stream",
     "text": [
      "\r",
      " 36%|███▋      | 113/310 [06:47<12:13,  3.72s/it]"
     ]
    },
    {
     "name": "stdout",
     "output_type": "stream",
     "text": [
      "Invalid:  195.158.3.198:3128\n"
     ]
    },
    {
     "name": "stderr",
     "output_type": "stream",
     "text": [
      "\r",
      " 37%|███▋      | 114/310 [06:54<14:47,  4.53s/it]"
     ]
    },
    {
     "name": "stdout",
     "output_type": "stream",
     "text": [
      "{'ip': '185.15.172.212'}\n"
     ]
    },
    {
     "name": "stderr",
     "output_type": "stream",
     "text": [
      "\r",
      " 37%|███▋      | 115/310 [07:00<16:06,  4.96s/it]"
     ]
    },
    {
     "name": "stdout",
     "output_type": "stream",
     "text": [
      "{'ip': '200.137.134.131'}\n"
     ]
    },
    {
     "name": "stderr",
     "output_type": "stream",
     "text": [
      "\r",
      " 37%|███▋      | 116/310 [07:05<16:04,  4.97s/it]"
     ]
    },
    {
     "name": "stdout",
     "output_type": "stream",
     "text": [
      "Invalid:  165.16.113.98:8080\n"
     ]
    },
    {
     "name": "stderr",
     "output_type": "stream",
     "text": [
      "\r",
      " 38%|███▊      | 117/310 [07:10<16:02,  4.99s/it]"
     ]
    },
    {
     "name": "stdout",
     "output_type": "stream",
     "text": [
      "Invalid:  184.95.0.218:8181\n"
     ]
    },
    {
     "name": "stderr",
     "output_type": "stream",
     "text": [
      "\r",
      " 38%|███▊      | 118/310 [07:15<15:58,  4.99s/it]"
     ]
    },
    {
     "name": "stdout",
     "output_type": "stream",
     "text": [
      "Invalid:  162.215.22.132:59394\n"
     ]
    },
    {
     "name": "stderr",
     "output_type": "stream",
     "text": [
      "\r",
      " 38%|███▊      | 119/310 [07:20<15:54,  5.00s/it]"
     ]
    },
    {
     "name": "stdout",
     "output_type": "stream",
     "text": [
      "Invalid:  181.31.225.234:3128\n"
     ]
    },
    {
     "name": "stderr",
     "output_type": "stream",
     "text": [
      "\r",
      " 39%|███▊      | 120/310 [07:25<15:50,  5.00s/it]"
     ]
    },
    {
     "name": "stdout",
     "output_type": "stream",
     "text": [
      "Invalid:  182.160.108.188:8090\n"
     ]
    },
    {
     "name": "stderr",
     "output_type": "stream",
     "text": [
      "\r",
      " 39%|███▉      | 121/310 [07:29<14:44,  4.68s/it]"
     ]
    },
    {
     "name": "stdout",
     "output_type": "stream",
     "text": [
      "{'ip': '140.227.79.50'}\n"
     ]
    },
    {
     "name": "stderr",
     "output_type": "stream",
     "text": [
      "\r",
      " 39%|███▉      | 122/310 [07:37<18:01,  5.75s/it]"
     ]
    },
    {
     "name": "stdout",
     "output_type": "stream",
     "text": [
      "Invalid:  72.14.185.111:3128\n"
     ]
    },
    {
     "name": "stderr",
     "output_type": "stream",
     "text": [
      "\r",
      " 40%|███▉      | 123/310 [07:42<17:14,  5.53s/it]"
     ]
    },
    {
     "name": "stdout",
     "output_type": "stream",
     "text": [
      "Invalid:  104.144.190.128:3129\n"
     ]
    },
    {
     "name": "stderr",
     "output_type": "stream",
     "text": [
      "\r",
      " 40%|████      | 124/310 [07:47<16:39,  5.37s/it]"
     ]
    },
    {
     "name": "stdout",
     "output_type": "stream",
     "text": [
      "Invalid:  104.144.190.15:3129\n"
     ]
    },
    {
     "name": "stderr",
     "output_type": "stream",
     "text": [
      "\r",
      " 40%|████      | 125/310 [07:52<16:14,  5.27s/it]"
     ]
    },
    {
     "name": "stdout",
     "output_type": "stream",
     "text": [
      "Invalid:  104.144.190.51:3129\n"
     ]
    },
    {
     "name": "stderr",
     "output_type": "stream",
     "text": [
      "\r",
      " 41%|████      | 126/310 [07:57<15:55,  5.19s/it]"
     ]
    },
    {
     "name": "stdout",
     "output_type": "stream",
     "text": [
      "Invalid:  154.30.184.30:3129\n"
     ]
    },
    {
     "name": "stderr",
     "output_type": "stream",
     "text": [
      "\r",
      " 41%|████      | 127/310 [08:05<18:39,  6.12s/it]"
     ]
    },
    {
     "name": "stdout",
     "output_type": "stream",
     "text": [
      "Invalid:  104.144.190.132:3129\n"
     ]
    },
    {
     "name": "stderr",
     "output_type": "stream",
     "text": [
      "\r",
      " 41%|████▏     | 128/310 [08:10<17:33,  5.79s/it]"
     ]
    },
    {
     "name": "stdout",
     "output_type": "stream",
     "text": [
      "Invalid:  45.57.202.184:3129\n"
     ]
    },
    {
     "name": "stderr",
     "output_type": "stream",
     "text": [
      "\r",
      " 42%|████▏     | 129/310 [08:15<16:45,  5.55s/it]"
     ]
    },
    {
     "name": "stdout",
     "output_type": "stream",
     "text": [
      "Invalid:  45.57.202.28:3129\n"
     ]
    },
    {
     "name": "stderr",
     "output_type": "stream",
     "text": [
      "\r",
      " 42%|████▏     | 130/310 [08:17<13:16,  4.43s/it]"
     ]
    },
    {
     "name": "stdout",
     "output_type": "stream",
     "text": [
      "Invalid:  185.235.43.196:8118\n"
     ]
    },
    {
     "name": "stderr",
     "output_type": "stream",
     "text": [
      "\r",
      " 42%|████▏     | 131/310 [08:22<13:43,  4.60s/it]"
     ]
    },
    {
     "name": "stdout",
     "output_type": "stream",
     "text": [
      "Invalid:  201.182.251.154:8080\n"
     ]
    },
    {
     "name": "stderr",
     "output_type": "stream",
     "text": [
      "\r",
      " 43%|████▎     | 132/310 [08:27<14:00,  4.72s/it]"
     ]
    },
    {
     "name": "stdout",
     "output_type": "stream",
     "text": [
      "Invalid:  185.51.10.19:80\n"
     ]
    },
    {
     "name": "stderr",
     "output_type": "stream",
     "text": [
      "\r",
      " 43%|████▎     | 133/310 [08:32<14:30,  4.92s/it]"
     ]
    },
    {
     "name": "stdout",
     "output_type": "stream",
     "text": [
      "Invalid:  5.189.229.42:1081\n"
     ]
    },
    {
     "name": "stderr",
     "output_type": "stream",
     "text": [
      "\r",
      " 43%|████▎     | 134/310 [08:37<14:30,  4.94s/it]"
     ]
    },
    {
     "name": "stdout",
     "output_type": "stream",
     "text": [
      "Invalid:  193.31.27.123:80\n"
     ]
    },
    {
     "name": "stderr",
     "output_type": "stream",
     "text": [
      "\r",
      " 44%|████▎     | 135/310 [08:46<17:22,  5.96s/it]"
     ]
    },
    {
     "name": "stdout",
     "output_type": "stream",
     "text": [
      "Invalid:  134.209.28.98:3128\n"
     ]
    },
    {
     "name": "stderr",
     "output_type": "stream",
     "text": [
      "\r",
      " 44%|████▍     | 136/310 [08:51<16:27,  5.67s/it]"
     ]
    },
    {
     "name": "stdout",
     "output_type": "stream",
     "text": [
      "Invalid:  43.255.113.232:8082\n"
     ]
    },
    {
     "name": "stderr",
     "output_type": "stream",
     "text": [
      "\r",
      " 44%|████▍     | 137/310 [08:56<15:46,  5.47s/it]"
     ]
    },
    {
     "name": "stdout",
     "output_type": "stream",
     "text": [
      "Invalid:  93.91.112.247:41258\n"
     ]
    },
    {
     "name": "stderr",
     "output_type": "stream",
     "text": [
      "\r",
      " 45%|████▍     | 138/310 [09:01<15:17,  5.33s/it]"
     ]
    },
    {
     "name": "stdout",
     "output_type": "stream",
     "text": [
      "Invalid:  182.72.150.242:8080\n"
     ]
    },
    {
     "name": "stderr",
     "output_type": "stream",
     "text": [
      "\r",
      " 45%|████▍     | 139/310 [09:06<14:55,  5.24s/it]"
     ]
    },
    {
     "name": "stdout",
     "output_type": "stream",
     "text": [
      "Invalid:  62.193.68.80:1976\n"
     ]
    },
    {
     "name": "stderr",
     "output_type": "stream",
     "text": [
      "\r",
      " 45%|████▌     | 140/310 [09:11<14:38,  5.17s/it]"
     ]
    },
    {
     "name": "stdout",
     "output_type": "stream",
     "text": [
      "Invalid:  102.68.128.217:8080\n"
     ]
    },
    {
     "name": "stderr",
     "output_type": "stream",
     "text": [
      "\r",
      " 45%|████▌     | 141/310 [09:16<14:30,  5.15s/it]"
     ]
    },
    {
     "name": "stdout",
     "output_type": "stream",
     "text": [
      "Invalid:  139.59.1.14:8080\n"
     ]
    },
    {
     "name": "stderr",
     "output_type": "stream",
     "text": [
      "\r",
      " 46%|████▌     | 142/310 [09:21<14:18,  5.11s/it]"
     ]
    },
    {
     "name": "stdout",
     "output_type": "stream",
     "text": [
      "Invalid:  103.133.26.107:8181\n"
     ]
    },
    {
     "name": "stderr",
     "output_type": "stream",
     "text": [
      "\r",
      " 46%|████▌     | 143/310 [09:21<10:22,  3.73s/it]"
     ]
    },
    {
     "name": "stdout",
     "output_type": "stream",
     "text": [
      "Invalid:  43.250.107.91:80\n"
     ]
    },
    {
     "name": "stderr",
     "output_type": "stream",
     "text": [
      "\r",
      " 46%|████▋     | 144/310 [09:26<11:22,  4.11s/it]"
     ]
    },
    {
     "name": "stdout",
     "output_type": "stream",
     "text": [
      "Invalid:  5.9.211.101:8080\n"
     ]
    },
    {
     "name": "stderr",
     "output_type": "stream",
     "text": [
      "\r",
      " 47%|████▋     | 145/310 [09:31<12:02,  4.38s/it]"
     ]
    },
    {
     "name": "stdout",
     "output_type": "stream",
     "text": [
      "Invalid:  50.231.95.3:8080\n"
     ]
    },
    {
     "name": "stderr",
     "output_type": "stream",
     "text": [
      "\r",
      " 47%|████▋     | 146/310 [09:38<13:29,  4.94s/it]"
     ]
    },
    {
     "name": "stdout",
     "output_type": "stream",
     "text": [
      "Invalid:  162.215.22.233:59394\n"
     ]
    },
    {
     "name": "stderr",
     "output_type": "stream",
     "text": [
      "\r",
      " 47%|████▋     | 147/310 [09:38<09:59,  3.68s/it]"
     ]
    },
    {
     "name": "stdout",
     "output_type": "stream",
     "text": [
      "Invalid:  78.154.180.52:81\n"
     ]
    },
    {
     "name": "stderr",
     "output_type": "stream",
     "text": [
      "\r",
      " 48%|████▊     | 148/310 [09:43<11:00,  4.08s/it]"
     ]
    },
    {
     "name": "stdout",
     "output_type": "stream",
     "text": [
      "Invalid:  36.94.40.123:9812\n"
     ]
    },
    {
     "name": "stderr",
     "output_type": "stream",
     "text": [
      "\r",
      " 48%|████▊     | 149/310 [09:48<11:41,  4.36s/it]"
     ]
    },
    {
     "name": "stdout",
     "output_type": "stream",
     "text": [
      "Invalid:  154.30.184.204:3129\n"
     ]
    },
    {
     "name": "stderr",
     "output_type": "stream",
     "text": [
      "\r",
      " 48%|████▊     | 150/310 [09:53<12:08,  4.55s/it]"
     ]
    },
    {
     "name": "stdout",
     "output_type": "stream",
     "text": [
      "Invalid:  202.180.20.10:55443\n"
     ]
    },
    {
     "name": "stderr",
     "output_type": "stream",
     "text": [
      "\r",
      " 49%|████▊     | 151/310 [09:58<12:25,  4.69s/it]"
     ]
    },
    {
     "name": "stdout",
     "output_type": "stream",
     "text": [
      "Invalid:  144.217.75.65:8800\n"
     ]
    },
    {
     "name": "stderr",
     "output_type": "stream",
     "text": [
      "\r",
      " 49%|████▉     | 152/310 [10:03<12:36,  4.79s/it]"
     ]
    },
    {
     "name": "stdout",
     "output_type": "stream",
     "text": [
      "Invalid:  41.60.237.65:34098\n"
     ]
    },
    {
     "name": "stderr",
     "output_type": "stream",
     "text": [
      "\r",
      " 49%|████▉     | 153/310 [10:08<12:41,  4.85s/it]"
     ]
    },
    {
     "name": "stdout",
     "output_type": "stream",
     "text": [
      "Invalid:  181.209.92.172:8085\n"
     ]
    },
    {
     "name": "stderr",
     "output_type": "stream",
     "text": [
      "\r",
      " 50%|████▉     | 154/310 [10:13<12:44,  4.90s/it]"
     ]
    },
    {
     "name": "stdout",
     "output_type": "stream",
     "text": [
      "Invalid:  103.152.232.172:8080\n"
     ]
    },
    {
     "name": "stderr",
     "output_type": "stream",
     "text": [
      "\r",
      " 50%|█████     | 155/310 [10:18<12:44,  4.93s/it]"
     ]
    },
    {
     "name": "stdout",
     "output_type": "stream",
     "text": [
      "Invalid:  125.209.88.46:8080\n"
     ]
    },
    {
     "name": "stderr",
     "output_type": "stream",
     "text": [
      "\r",
      " 50%|█████     | 156/310 [10:27<15:09,  5.91s/it]"
     ]
    },
    {
     "name": "stdout",
     "output_type": "stream",
     "text": [
      "Invalid:  64.27.29.52:59394\n"
     ]
    },
    {
     "name": "stderr",
     "output_type": "stream",
     "text": [
      "\r",
      " 51%|█████     | 157/310 [10:32<14:22,  5.64s/it]"
     ]
    },
    {
     "name": "stdout",
     "output_type": "stream",
     "text": [
      "Invalid:  152.44.40.139:5566\n"
     ]
    },
    {
     "name": "stderr",
     "output_type": "stream",
     "text": [
      "\r",
      " 51%|█████     | 158/310 [10:37<14:00,  5.53s/it]"
     ]
    },
    {
     "name": "stdout",
     "output_type": "stream",
     "text": [
      "Invalid:  5.22.208.41:80\n"
     ]
    },
    {
     "name": "stderr",
     "output_type": "stream",
     "text": [
      "\r",
      " 51%|█████▏    | 159/310 [10:42<13:31,  5.37s/it]"
     ]
    },
    {
     "name": "stdout",
     "output_type": "stream",
     "text": [
      "Invalid:  173.82.45.238:59394\n"
     ]
    },
    {
     "name": "stderr",
     "output_type": "stream",
     "text": [
      "\r",
      " 52%|█████▏    | 160/310 [10:50<15:31,  6.21s/it]"
     ]
    },
    {
     "name": "stdout",
     "output_type": "stream",
     "text": [
      "Invalid:  202.40.177.69:80\n"
     ]
    },
    {
     "name": "stderr",
     "output_type": "stream",
     "text": [
      "\r",
      " 52%|█████▏    | 161/310 [10:50<11:06,  4.47s/it]"
     ]
    },
    {
     "name": "stdout",
     "output_type": "stream",
     "text": [
      "Invalid:  167.114.96.27:9300\n"
     ]
    },
    {
     "name": "stderr",
     "output_type": "stream",
     "text": [
      "\r",
      " 52%|█████▏    | 162/310 [10:51<08:15,  3.35s/it]"
     ]
    },
    {
     "name": "stdout",
     "output_type": "stream",
     "text": [
      "Invalid:  3.80.78.222:80\n"
     ]
    },
    {
     "name": "stderr",
     "output_type": "stream",
     "text": [
      "\r",
      " 53%|█████▎    | 163/310 [10:56<09:25,  3.85s/it]"
     ]
    },
    {
     "name": "stdout",
     "output_type": "stream",
     "text": [
      "Invalid:  170.178.214.106:59394\n",
      "Invalid:  47.241.245.186:80\n"
     ]
    },
    {
     "name": "stderr",
     "output_type": "stream",
     "text": [
      " 53%|█████▎    | 165/310 [11:01<08:17,  3.43s/it]"
     ]
    },
    {
     "name": "stdout",
     "output_type": "stream",
     "text": [
      "Invalid:  207.154.221.245:3128\n"
     ]
    },
    {
     "name": "stderr",
     "output_type": "stream",
     "text": [
      "\r",
      " 54%|█████▎    | 166/310 [11:06<09:21,  3.90s/it]"
     ]
    },
    {
     "name": "stdout",
     "output_type": "stream",
     "text": [
      "Invalid:  183.89.9.34:8080\n"
     ]
    },
    {
     "name": "stderr",
     "output_type": "stream",
     "text": [
      "\r",
      " 54%|█████▍    | 167/310 [11:13<11:01,  4.63s/it]"
     ]
    },
    {
     "name": "stdout",
     "output_type": "stream",
     "text": [
      "Invalid:  64.225.79.24:3128\n"
     ]
    },
    {
     "name": "stderr",
     "output_type": "stream",
     "text": [
      "\r",
      " 54%|█████▍    | 168/310 [11:18<11:13,  4.75s/it]"
     ]
    },
    {
     "name": "stdout",
     "output_type": "stream",
     "text": [
      "Invalid:  102.69.32.1:8080\n"
     ]
    },
    {
     "name": "stderr",
     "output_type": "stream",
     "text": [
      "\r",
      " 55%|█████▍    | 169/310 [11:18<08:00,  3.41s/it]"
     ]
    },
    {
     "name": "stdout",
     "output_type": "stream",
     "text": [
      "Invalid:  64.227.62.123:80\n"
     ]
    },
    {
     "name": "stderr",
     "output_type": "stream",
     "text": [
      "\r",
      " 55%|█████▍    | 170/310 [11:23<09:07,  3.91s/it]"
     ]
    },
    {
     "name": "stdout",
     "output_type": "stream",
     "text": [
      "Invalid:  47.241.165.133:443\n"
     ]
    },
    {
     "name": "stderr",
     "output_type": "stream",
     "text": [
      "\r",
      " 55%|█████▌    | 171/310 [11:29<10:40,  4.61s/it]"
     ]
    },
    {
     "name": "stdout",
     "output_type": "stream",
     "text": [
      "Invalid:  67.212.186.101:80\n"
     ]
    },
    {
     "name": "stderr",
     "output_type": "stream",
     "text": [
      " 56%|█████▌    | 173/310 [11:38<09:11,  4.02s/it]"
     ]
    },
    {
     "name": "stdout",
     "output_type": "stream",
     "text": [
      "Invalid:  67.212.186.100:80\n",
      "Invalid:  47.74.226.8:5001\n"
     ]
    },
    {
     "name": "stderr",
     "output_type": "stream",
     "text": [
      "\r",
      " 56%|█████▌    | 174/310 [11:43<09:58,  4.40s/it]"
     ]
    },
    {
     "name": "stdout",
     "output_type": "stream",
     "text": [
      "Invalid:  148.251.45.123:3128\n"
     ]
    },
    {
     "name": "stderr",
     "output_type": "stream",
     "text": [
      "\r",
      " 56%|█████▋    | 175/310 [11:48<10:18,  4.58s/it]"
     ]
    },
    {
     "name": "stdout",
     "output_type": "stream",
     "text": [
      "Invalid:  170.178.214.108:59394\n"
     ]
    },
    {
     "name": "stderr",
     "output_type": "stream",
     "text": [
      "\r",
      " 57%|█████▋    | 176/310 [11:53<10:09,  4.55s/it]"
     ]
    },
    {
     "name": "stdout",
     "output_type": "stream",
     "text": [
      "{'ip': '80.235.9.243'}\n"
     ]
    },
    {
     "name": "stderr",
     "output_type": "stream",
     "text": [
      "\r",
      " 57%|█████▋    | 177/310 [11:58<10:23,  4.69s/it]"
     ]
    },
    {
     "name": "stdout",
     "output_type": "stream",
     "text": [
      "Invalid:  103.100.84.20:8080\n"
     ]
    },
    {
     "name": "stderr",
     "output_type": "stream",
     "text": [
      "\r",
      " 57%|█████▋    | 178/310 [12:03<10:31,  4.79s/it]"
     ]
    },
    {
     "name": "stdout",
     "output_type": "stream",
     "text": [
      "Invalid:  104.45.128.122:80\n"
     ]
    },
    {
     "name": "stderr",
     "output_type": "stream",
     "text": [
      "\r",
      " 58%|█████▊    | 179/310 [12:08<10:35,  4.85s/it]"
     ]
    },
    {
     "name": "stdout",
     "output_type": "stream",
     "text": [
      "Invalid:  103.48.68.34:83\n"
     ]
    },
    {
     "name": "stderr",
     "output_type": "stream",
     "text": [
      "\r",
      " 58%|█████▊    | 180/310 [12:08<07:57,  3.68s/it]"
     ]
    },
    {
     "name": "stdout",
     "output_type": "stream",
     "text": [
      "Invalid:  161.35.70.249:3128\n"
     ]
    },
    {
     "name": "stderr",
     "output_type": "stream",
     "text": [
      "\r",
      " 58%|█████▊    | 181/310 [12:14<08:46,  4.08s/it]"
     ]
    },
    {
     "name": "stdout",
     "output_type": "stream",
     "text": [
      "Invalid:  173.82.84.167:59394\n"
     ]
    },
    {
     "name": "stderr",
     "output_type": "stream",
     "text": [
      "\r",
      " 59%|█████▊    | 182/310 [12:14<06:30,  3.05s/it]"
     ]
    },
    {
     "name": "stdout",
     "output_type": "stream",
     "text": [
      "Invalid:  138.68.60.8:3128\n"
     ]
    },
    {
     "name": "stderr",
     "output_type": "stream",
     "text": [
      "\r",
      " 59%|█████▉    | 183/310 [12:19<07:42,  3.64s/it]"
     ]
    },
    {
     "name": "stdout",
     "output_type": "stream",
     "text": [
      "Invalid:  187.216.93.20:55443\n"
     ]
    },
    {
     "name": "stderr",
     "output_type": "stream",
     "text": [
      "\r",
      " 59%|█████▉    | 184/310 [12:24<08:30,  4.05s/it]"
     ]
    },
    {
     "name": "stdout",
     "output_type": "stream",
     "text": [
      "Invalid:  203.153.125.243:8080\n"
     ]
    },
    {
     "name": "stderr",
     "output_type": "stream",
     "text": [
      "\r",
      " 60%|█████▉    | 185/310 [12:29<09:02,  4.34s/it]"
     ]
    },
    {
     "name": "stdout",
     "output_type": "stream",
     "text": [
      "Invalid:  117.54.114.100:80\n"
     ]
    },
    {
     "name": "stderr",
     "output_type": "stream",
     "text": [
      "\r",
      " 60%|██████    | 186/310 [12:32<07:47,  3.77s/it]"
     ]
    },
    {
     "name": "stdout",
     "output_type": "stream",
     "text": [
      "Invalid:  146.59.83.187:80\n"
     ]
    },
    {
     "name": "stderr",
     "output_type": "stream",
     "text": [
      "\r",
      " 60%|██████    | 187/310 [12:37<08:29,  4.14s/it]"
     ]
    },
    {
     "name": "stdout",
     "output_type": "stream",
     "text": [
      "Invalid:  218.39.136.163:8000\n"
     ]
    },
    {
     "name": "stderr",
     "output_type": "stream",
     "text": [
      "\r",
      " 61%|██████    | 188/310 [12:42<08:57,  4.41s/it]"
     ]
    },
    {
     "name": "stdout",
     "output_type": "stream",
     "text": [
      "Invalid:  103.86.187.242:23500\n"
     ]
    },
    {
     "name": "stderr",
     "output_type": "stream",
     "text": [
      "\r",
      " 61%|██████    | 189/310 [12:47<09:15,  4.59s/it]"
     ]
    },
    {
     "name": "stdout",
     "output_type": "stream",
     "text": [
      "Invalid:  198.211.28.5:59394\n"
     ]
    },
    {
     "name": "stderr",
     "output_type": "stream",
     "text": [
      "\r",
      " 61%|██████▏   | 190/310 [12:50<08:15,  4.13s/it]"
     ]
    },
    {
     "name": "stdout",
     "output_type": "stream",
     "text": [
      "Invalid:  187.217.54.84:80\n"
     ]
    },
    {
     "name": "stderr",
     "output_type": "stream",
     "text": [
      "\r",
      " 62%|██████▏   | 191/310 [12:55<08:43,  4.40s/it]"
     ]
    },
    {
     "name": "stdout",
     "output_type": "stream",
     "text": [
      "Invalid:  154.30.184.101:3129\n"
     ]
    },
    {
     "name": "stderr",
     "output_type": "stream",
     "text": [
      "\r",
      " 62%|██████▏   | 192/310 [12:58<07:42,  3.92s/it]"
     ]
    },
    {
     "name": "stdout",
     "output_type": "stream",
     "text": [
      "{'ip': '185.17.132.15'}\n"
     ]
    },
    {
     "name": "stderr",
     "output_type": "stream",
     "text": [
      "\r",
      " 62%|██████▏   | 193/310 [13:04<09:04,  4.65s/it]"
     ]
    },
    {
     "name": "stdout",
     "output_type": "stream",
     "text": [
      "Invalid:  200.111.104.59:3128\n"
     ]
    },
    {
     "name": "stderr",
     "output_type": "stream",
     "text": [
      "\r",
      " 63%|██████▎   | 194/310 [13:09<09:12,  4.76s/it]"
     ]
    },
    {
     "name": "stdout",
     "output_type": "stream",
     "text": [
      "Invalid:  110.232.66.209:808\n"
     ]
    },
    {
     "name": "stderr",
     "output_type": "stream",
     "text": [
      "\r",
      " 63%|██████▎   | 195/310 [13:14<09:15,  4.83s/it]"
     ]
    },
    {
     "name": "stdout",
     "output_type": "stream",
     "text": [
      "Invalid:  181.115.74.251:8080\n"
     ]
    },
    {
     "name": "stderr",
     "output_type": "stream",
     "text": [
      "\r",
      " 63%|██████▎   | 196/310 [13:19<09:17,  4.89s/it]"
     ]
    },
    {
     "name": "stdout",
     "output_type": "stream",
     "text": [
      "Invalid:  37.32.40.178:8080\n"
     ]
    },
    {
     "name": "stderr",
     "output_type": "stream",
     "text": [
      " 64%|██████▍   | 198/310 [13:24<06:31,  3.49s/it]"
     ]
    },
    {
     "name": "stdout",
     "output_type": "stream",
     "text": [
      "Invalid:  103.166.10.10:8181\n",
      "Invalid:  103.148.72.126:80\n"
     ]
    },
    {
     "name": "stderr",
     "output_type": "stream",
     "text": [
      "\r",
      " 64%|██████▍   | 199/310 [13:26<05:32,  3.00s/it]"
     ]
    },
    {
     "name": "stdout",
     "output_type": "stream",
     "text": [
      "Invalid:  134.209.29.120:3128\n"
     ]
    },
    {
     "name": "stderr",
     "output_type": "stream",
     "text": [
      "\r",
      " 65%|██████▍   | 200/310 [13:31<06:36,  3.60s/it]"
     ]
    },
    {
     "name": "stdout",
     "output_type": "stream",
     "text": [
      "Invalid:  95.79.40.68:8080\n"
     ]
    },
    {
     "name": "stderr",
     "output_type": "stream",
     "text": [
      "\r",
      " 65%|██████▍   | 201/310 [13:36<07:18,  4.02s/it]"
     ]
    },
    {
     "name": "stdout",
     "output_type": "stream",
     "text": [
      "Invalid:  5.196.214.181:3128\n"
     ]
    },
    {
     "name": "stderr",
     "output_type": "stream",
     "text": [
      "\r",
      " 65%|██████▌   | 202/310 [13:41<07:46,  4.32s/it]"
     ]
    },
    {
     "name": "stdout",
     "output_type": "stream",
     "text": [
      "Invalid:  195.178.56.35:8080\n"
     ]
    },
    {
     "name": "stderr",
     "output_type": "stream",
     "text": [
      "\r",
      " 65%|██████▌   | 203/310 [13:46<08:04,  4.53s/it]"
     ]
    },
    {
     "name": "stdout",
     "output_type": "stream",
     "text": [
      "Invalid:  193.242.151.42:8080\n"
     ]
    },
    {
     "name": "stderr",
     "output_type": "stream",
     "text": [
      "\r",
      " 66%|██████▌   | 204/310 [13:51<08:15,  4.67s/it]"
     ]
    },
    {
     "name": "stdout",
     "output_type": "stream",
     "text": [
      "Invalid:  103.178.43.2:8181\n"
     ]
    },
    {
     "name": "stderr",
     "output_type": "stream",
     "text": [
      "\r",
      " 66%|██████▌   | 205/310 [13:56<08:21,  4.77s/it]"
     ]
    },
    {
     "name": "stdout",
     "output_type": "stream",
     "text": [
      "Invalid:  103.76.13.134:9812\n"
     ]
    },
    {
     "name": "stderr",
     "output_type": "stream",
     "text": [
      "\r",
      " 66%|██████▋   | 206/310 [14:02<08:38,  4.99s/it]"
     ]
    },
    {
     "name": "stdout",
     "output_type": "stream",
     "text": [
      "Invalid:  185.42.241.168:8080\n"
     ]
    },
    {
     "name": "stderr",
     "output_type": "stream",
     "text": [
      "\r",
      " 67%|██████▋   | 207/310 [14:03<06:57,  4.05s/it]"
     ]
    },
    {
     "name": "stdout",
     "output_type": "stream",
     "text": [
      "Invalid:  216.137.184.253:80\n"
     ]
    },
    {
     "name": "stderr",
     "output_type": "stream",
     "text": [
      "\r",
      " 67%|██████▋   | 208/310 [14:04<04:58,  2.93s/it]"
     ]
    },
    {
     "name": "stdout",
     "output_type": "stream",
     "text": [
      "Invalid:  47.91.44.217:8000\n"
     ]
    },
    {
     "name": "stderr",
     "output_type": "stream",
     "text": [
      "\r",
      " 67%|██████▋   | 209/310 [14:10<06:35,  3.91s/it]"
     ]
    },
    {
     "name": "stdout",
     "output_type": "stream",
     "text": [
      "Invalid:  23.238.33.186:80\n"
     ]
    },
    {
     "name": "stderr",
     "output_type": "stream",
     "text": [
      "\r",
      " 68%|██████▊   | 210/310 [14:14<06:25,  3.85s/it]"
     ]
    },
    {
     "name": "stdout",
     "output_type": "stream",
     "text": [
      "Invalid:  45.229.205.171:55555\n"
     ]
    },
    {
     "name": "stderr",
     "output_type": "stream",
     "text": [
      "\r",
      " 68%|██████▊   | 211/310 [14:19<06:55,  4.20s/it]"
     ]
    },
    {
     "name": "stdout",
     "output_type": "stream",
     "text": [
      "Invalid:  190.90.154.195:999\n"
     ]
    },
    {
     "name": "stderr",
     "output_type": "stream",
     "text": [
      "\r",
      " 68%|██████▊   | 212/310 [14:24<07:15,  4.44s/it]"
     ]
    },
    {
     "name": "stdout",
     "output_type": "stream",
     "text": [
      "Invalid:  120.89.91.226:3180\n"
     ]
    },
    {
     "name": "stderr",
     "output_type": "stream",
     "text": [
      "\r",
      " 69%|██████▊   | 213/310 [14:29<07:27,  4.61s/it]"
     ]
    },
    {
     "name": "stdout",
     "output_type": "stream",
     "text": [
      "Invalid:  8.215.38.183:8080\n"
     ]
    },
    {
     "name": "stderr",
     "output_type": "stream",
     "text": [
      "\r",
      " 69%|██████▉   | 214/310 [14:34<07:34,  4.73s/it]"
     ]
    },
    {
     "name": "stdout",
     "output_type": "stream",
     "text": [
      "Invalid:  173.82.149.243:8080\n"
     ]
    },
    {
     "name": "stderr",
     "output_type": "stream",
     "text": [
      "\r",
      " 69%|██████▉   | 215/310 [14:39<07:37,  4.81s/it]"
     ]
    },
    {
     "name": "stdout",
     "output_type": "stream",
     "text": [
      "Invalid:  5.167.141.239:3128\n"
     ]
    },
    {
     "name": "stderr",
     "output_type": "stream",
     "text": [
      "\r",
      " 70%|██████▉   | 216/310 [14:44<07:38,  4.87s/it]"
     ]
    },
    {
     "name": "stdout",
     "output_type": "stream",
     "text": [
      "Invalid:  181.209.82.154:23500\n"
     ]
    },
    {
     "name": "stderr",
     "output_type": "stream",
     "text": [
      "\r",
      " 70%|███████   | 217/310 [14:49<07:36,  4.91s/it]"
     ]
    },
    {
     "name": "stdout",
     "output_type": "stream",
     "text": [
      "Invalid:  154.236.179.226:1981\n"
     ]
    },
    {
     "name": "stderr",
     "output_type": "stream",
     "text": [
      "\r",
      " 70%|███████   | 218/310 [14:54<07:34,  4.94s/it]"
     ]
    },
    {
     "name": "stdout",
     "output_type": "stream",
     "text": [
      "Invalid:  212.23.217.18:8080\n"
     ]
    },
    {
     "name": "stderr",
     "output_type": "stream",
     "text": [
      "\r",
      " 71%|███████   | 219/310 [15:02<09:01,  5.95s/it]"
     ]
    },
    {
     "name": "stdout",
     "output_type": "stream",
     "text": [
      "Invalid:  156.200.116.73:1976\n"
     ]
    },
    {
     "name": "stderr",
     "output_type": "stream",
     "text": [
      "\r",
      " 71%|███████   | 220/310 [15:07<08:31,  5.68s/it]"
     ]
    },
    {
     "name": "stdout",
     "output_type": "stream",
     "text": [
      "Invalid:  47.242.225.248:80\n"
     ]
    },
    {
     "name": "stderr",
     "output_type": "stream",
     "text": [
      "\r",
      " 71%|███████▏  | 221/310 [15:12<08:07,  5.48s/it]"
     ]
    },
    {
     "name": "stdout",
     "output_type": "stream",
     "text": [
      "Invalid:  190.152.5.17:39888\n"
     ]
    },
    {
     "name": "stderr",
     "output_type": "stream",
     "text": [
      "\r",
      " 72%|███████▏  | 222/310 [15:17<07:50,  5.34s/it]"
     ]
    },
    {
     "name": "stdout",
     "output_type": "stream",
     "text": [
      "Invalid:  103.215.24.190:9812\n"
     ]
    },
    {
     "name": "stderr",
     "output_type": "stream",
     "text": [
      "\r",
      " 72%|███████▏  | 223/310 [15:26<09:15,  6.39s/it]"
     ]
    },
    {
     "name": "stdout",
     "output_type": "stream",
     "text": [
      "{'ip': '85.249.27.174'}\n"
     ]
    },
    {
     "name": "stderr",
     "output_type": "stream",
     "text": [
      "\r",
      " 72%|███████▏  | 224/310 [15:31<08:33,  5.98s/it]"
     ]
    },
    {
     "name": "stdout",
     "output_type": "stream",
     "text": [
      "Invalid:  93.240.114.68:4003\n"
     ]
    },
    {
     "name": "stderr",
     "output_type": "stream",
     "text": [
      "\r",
      " 73%|███████▎  | 225/310 [15:36<08:03,  5.69s/it]"
     ]
    },
    {
     "name": "stdout",
     "output_type": "stream",
     "text": [
      "Invalid:  103.123.168.203:8080\n"
     ]
    },
    {
     "name": "stderr",
     "output_type": "stream",
     "text": [
      "\r",
      " 73%|███████▎  | 226/310 [15:41<07:40,  5.48s/it]"
     ]
    },
    {
     "name": "stdout",
     "output_type": "stream",
     "text": [
      "Invalid:  204.137.174.139:999\n"
     ]
    },
    {
     "name": "stderr",
     "output_type": "stream",
     "text": [
      "\r",
      " 73%|███████▎  | 227/310 [15:46<07:23,  5.34s/it]"
     ]
    },
    {
     "name": "stdout",
     "output_type": "stream",
     "text": [
      "Invalid:  113.160.159.160:19132\n"
     ]
    },
    {
     "name": "stderr",
     "output_type": "stream",
     "text": [
      "\r",
      " 74%|███████▎  | 228/310 [15:48<05:48,  4.25s/it]"
     ]
    },
    {
     "name": "stdout",
     "output_type": "stream",
     "text": [
      "Invalid:  195.158.30.232:3128\n"
     ]
    },
    {
     "name": "stderr",
     "output_type": "stream",
     "text": [
      "\r",
      " 74%|███████▍  | 229/310 [15:53<06:02,  4.48s/it]"
     ]
    },
    {
     "name": "stdout",
     "output_type": "stream",
     "text": [
      "Invalid:  177.66.203.198:9898\n"
     ]
    },
    {
     "name": "stderr",
     "output_type": "stream",
     "text": [
      "\r",
      " 74%|███████▍  | 230/310 [15:58<06:10,  4.64s/it]"
     ]
    },
    {
     "name": "stdout",
     "output_type": "stream",
     "text": [
      "Invalid:  91.134.136.29:9000\n"
     ]
    },
    {
     "name": "stderr",
     "output_type": "stream",
     "text": [
      "\r",
      " 75%|███████▍  | 231/310 [16:01<05:38,  4.29s/it]"
     ]
    },
    {
     "name": "stdout",
     "output_type": "stream",
     "text": [
      "Invalid:  200.69.78.90:999\n"
     ]
    },
    {
     "name": "stderr",
     "output_type": "stream",
     "text": [
      "\r",
      " 75%|███████▍  | 232/310 [16:06<05:58,  4.59s/it]"
     ]
    },
    {
     "name": "stdout",
     "output_type": "stream",
     "text": [
      "Invalid:  36.67.11.41:8080\n"
     ]
    },
    {
     "name": "stderr",
     "output_type": "stream",
     "text": [
      "\r",
      " 75%|███████▌  | 233/310 [16:11<06:03,  4.72s/it]"
     ]
    },
    {
     "name": "stdout",
     "output_type": "stream",
     "text": [
      "Invalid:  181.209.105.156:8080\n"
     ]
    },
    {
     "name": "stderr",
     "output_type": "stream",
     "text": [
      "\r",
      " 75%|███████▌  | 234/310 [16:16<06:05,  4.81s/it]"
     ]
    },
    {
     "name": "stdout",
     "output_type": "stream",
     "text": [
      "Invalid:  79.142.95.90:55443\n"
     ]
    },
    {
     "name": "stderr",
     "output_type": "stream",
     "text": [
      "\r",
      " 76%|███████▌  | 235/310 [16:21<06:05,  4.87s/it]"
     ]
    },
    {
     "name": "stdout",
     "output_type": "stream",
     "text": [
      "Invalid:  202.129.196.242:53879\n"
     ]
    },
    {
     "name": "stderr",
     "output_type": "stream",
     "text": [
      "\r",
      " 76%|███████▌  | 236/310 [16:27<06:03,  4.91s/it]"
     ]
    },
    {
     "name": "stdout",
     "output_type": "stream",
     "text": [
      "Invalid:  175.106.17.62:57406\n"
     ]
    },
    {
     "name": "stderr",
     "output_type": "stream",
     "text": [
      "\r",
      " 76%|███████▋  | 237/310 [16:32<06:00,  4.94s/it]"
     ]
    },
    {
     "name": "stdout",
     "output_type": "stream",
     "text": [
      "Invalid:  110.74.222.71:44970\n"
     ]
    },
    {
     "name": "stderr",
     "output_type": "stream",
     "text": [
      "\r",
      " 77%|███████▋  | 238/310 [16:37<05:57,  4.96s/it]"
     ]
    },
    {
     "name": "stdout",
     "output_type": "stream",
     "text": [
      "Invalid:  104.37.102.181:8181\n"
     ]
    },
    {
     "name": "stderr",
     "output_type": "stream",
     "text": [
      "\r",
      " 77%|███████▋  | 239/310 [16:42<05:53,  4.98s/it]"
     ]
    },
    {
     "name": "stdout",
     "output_type": "stream",
     "text": [
      "Invalid:  217.169.209.198:6666\n"
     ]
    },
    {
     "name": "stderr",
     "output_type": "stream",
     "text": [
      "\r",
      " 77%|███████▋  | 240/310 [16:47<05:49,  4.99s/it]"
     ]
    },
    {
     "name": "stdout",
     "output_type": "stream",
     "text": [
      "Invalid:  103.85.114.244:8080\n"
     ]
    },
    {
     "name": "stderr",
     "output_type": "stream",
     "text": [
      "\r",
      " 78%|███████▊  | 241/310 [16:52<05:44,  5.00s/it]"
     ]
    },
    {
     "name": "stdout",
     "output_type": "stream",
     "text": [
      "Invalid:  41.60.237.189:8080\n"
     ]
    },
    {
     "name": "stderr",
     "output_type": "stream",
     "text": [
      "\r",
      " 78%|███████▊  | 242/310 [16:57<05:39,  5.00s/it]"
     ]
    },
    {
     "name": "stdout",
     "output_type": "stream",
     "text": [
      "Invalid:  198.52.103.24:92\n"
     ]
    },
    {
     "name": "stderr",
     "output_type": "stream",
     "text": [
      "\r",
      " 78%|███████▊  | 243/310 [17:02<05:35,  5.00s/it]"
     ]
    },
    {
     "name": "stdout",
     "output_type": "stream",
     "text": [
      "Invalid:  23.108.42.213:8118\n"
     ]
    },
    {
     "name": "stderr",
     "output_type": "stream",
     "text": [
      "\r",
      " 79%|███████▊  | 244/310 [17:07<05:30,  5.01s/it]"
     ]
    },
    {
     "name": "stdout",
     "output_type": "stream",
     "text": [
      "Invalid:  37.221.120.182:92\n"
     ]
    },
    {
     "name": "stderr",
     "output_type": "stream",
     "text": [
      "\r",
      " 79%|███████▉  | 245/310 [17:07<04:03,  3.75s/it]"
     ]
    },
    {
     "name": "stdout",
     "output_type": "stream",
     "text": [
      "Invalid:  195.133.38.246:92\n"
     ]
    },
    {
     "name": "stderr",
     "output_type": "stream",
     "text": [
      "\r",
      " 79%|███████▉  | 246/310 [17:12<04:24,  4.13s/it]"
     ]
    },
    {
     "name": "stdout",
     "output_type": "stream",
     "text": [
      "Invalid:  23.108.42.107:8118\n"
     ]
    },
    {
     "name": "stderr",
     "output_type": "stream",
     "text": [
      "\r",
      " 80%|███████▉  | 247/310 [17:17<04:36,  4.39s/it]"
     ]
    },
    {
     "name": "stdout",
     "output_type": "stream",
     "text": [
      "Invalid:  45.67.214.146:8085\n"
     ]
    },
    {
     "name": "stderr",
     "output_type": "stream",
     "text": [
      "\r",
      " 80%|████████  | 248/310 [17:22<04:43,  4.58s/it]"
     ]
    },
    {
     "name": "stdout",
     "output_type": "stream",
     "text": [
      "Invalid:  185.88.101.29:8085\n"
     ]
    },
    {
     "name": "stderr",
     "output_type": "stream",
     "text": [
      "\r",
      " 80%|████████  | 249/310 [17:27<04:47,  4.71s/it]"
     ]
    },
    {
     "name": "stdout",
     "output_type": "stream",
     "text": [
      "Invalid:  89.41.176.24:92\n"
     ]
    },
    {
     "name": "stderr",
     "output_type": "stream",
     "text": [
      "\r",
      " 81%|████████  | 250/310 [17:32<04:48,  4.80s/it]"
     ]
    },
    {
     "name": "stdout",
     "output_type": "stream",
     "text": [
      "Invalid:  62.210.27.0:92\n"
     ]
    },
    {
     "name": "stderr",
     "output_type": "stream",
     "text": [
      "\r",
      " 81%|████████  | 251/310 [17:38<04:46,  4.86s/it]"
     ]
    },
    {
     "name": "stdout",
     "output_type": "stream",
     "text": [
      "Invalid:  193.233.250.82:8085\n"
     ]
    },
    {
     "name": "stderr",
     "output_type": "stream",
     "text": [
      "\r",
      " 81%|████████▏ | 252/310 [17:43<04:44,  4.91s/it]"
     ]
    },
    {
     "name": "stdout",
     "output_type": "stream",
     "text": [
      "Invalid:  23.105.78.212:8118\n"
     ]
    },
    {
     "name": "stderr",
     "output_type": "stream",
     "text": [
      "\r",
      " 82%|████████▏ | 253/310 [17:48<04:41,  4.94s/it]"
     ]
    },
    {
     "name": "stdout",
     "output_type": "stream",
     "text": [
      "Invalid:  23.19.7.158:8118\n"
     ]
    },
    {
     "name": "stderr",
     "output_type": "stream",
     "text": [
      "\r",
      " 82%|████████▏ | 254/310 [17:53<04:37,  4.96s/it]"
     ]
    },
    {
     "name": "stdout",
     "output_type": "stream",
     "text": [
      "Invalid:  88.218.66.58:8085\n"
     ]
    },
    {
     "name": "stderr",
     "output_type": "stream",
     "text": [
      "\r",
      " 82%|████████▏ | 255/310 [17:58<04:33,  4.97s/it]"
     ]
    },
    {
     "name": "stdout",
     "output_type": "stream",
     "text": [
      "Invalid:  45.80.107.232:8085\n"
     ]
    },
    {
     "name": "stderr",
     "output_type": "stream",
     "text": [
      "\r",
      " 83%|████████▎ | 256/310 [18:03<04:29,  4.98s/it]"
     ]
    },
    {
     "name": "stdout",
     "output_type": "stream",
     "text": [
      "Invalid:  89.191.228.162:8085\n"
     ]
    },
    {
     "name": "stderr",
     "output_type": "stream",
     "text": [
      "\r",
      " 83%|████████▎ | 257/310 [18:08<04:24,  4.99s/it]"
     ]
    },
    {
     "name": "stdout",
     "output_type": "stream",
     "text": [
      "Invalid:  23.81.127.21:8118\n"
     ]
    },
    {
     "name": "stderr",
     "output_type": "stream",
     "text": [
      "\r",
      " 83%|████████▎ | 258/310 [18:13<04:19,  5.00s/it]"
     ]
    },
    {
     "name": "stdout",
     "output_type": "stream",
     "text": [
      "Invalid:  85.208.86.239:8085\n"
     ]
    },
    {
     "name": "stderr",
     "output_type": "stream",
     "text": [
      "\r",
      " 84%|████████▎ | 259/310 [18:18<04:15,  5.00s/it]"
     ]
    },
    {
     "name": "stdout",
     "output_type": "stream",
     "text": [
      "Invalid:  23.105.86.43:8118\n"
     ]
    },
    {
     "name": "stderr",
     "output_type": "stream",
     "text": [
      "\r",
      " 84%|████████▍ | 260/310 [18:23<04:10,  5.01s/it]"
     ]
    },
    {
     "name": "stdout",
     "output_type": "stream",
     "text": [
      "Invalid:  23.81.127.87:8118\n"
     ]
    },
    {
     "name": "stderr",
     "output_type": "stream",
     "text": [
      "\r",
      " 84%|████████▍ | 261/310 [18:28<04:05,  5.01s/it]"
     ]
    },
    {
     "name": "stdout",
     "output_type": "stream",
     "text": [
      "Invalid:  142.202.188.11:92\n"
     ]
    },
    {
     "name": "stderr",
     "output_type": "stream",
     "text": [
      "\r",
      " 85%|████████▍ | 262/310 [18:33<04:00,  5.01s/it]"
     ]
    },
    {
     "name": "stdout",
     "output_type": "stream",
     "text": [
      "Invalid:  23.108.42.248:8118\n"
     ]
    },
    {
     "name": "stderr",
     "output_type": "stream",
     "text": [
      "\r",
      " 85%|████████▍ | 263/310 [18:38<03:55,  5.01s/it]"
     ]
    },
    {
     "name": "stdout",
     "output_type": "stream",
     "text": [
      "Invalid:  176.126.111.187:8085\n"
     ]
    },
    {
     "name": "stderr",
     "output_type": "stream",
     "text": [
      "\r",
      " 85%|████████▌ | 264/310 [18:43<03:50,  5.01s/it]"
     ]
    },
    {
     "name": "stdout",
     "output_type": "stream",
     "text": [
      "Invalid:  37.44.254.188:8085\n"
     ]
    },
    {
     "name": "stderr",
     "output_type": "stream",
     "text": [
      "\r",
      " 85%|████████▌ | 265/310 [18:48<03:45,  5.01s/it]"
     ]
    },
    {
     "name": "stdout",
     "output_type": "stream",
     "text": [
      "Invalid:  213.108.1.84:8085\n"
     ]
    },
    {
     "name": "stderr",
     "output_type": "stream",
     "text": [
      "\r",
      " 86%|████████▌ | 266/310 [18:53<03:40,  5.01s/it]"
     ]
    },
    {
     "name": "stdout",
     "output_type": "stream",
     "text": [
      "Invalid:  31.40.252.86:8085\n"
     ]
    },
    {
     "name": "stderr",
     "output_type": "stream",
     "text": [
      "\r",
      " 86%|████████▌ | 267/310 [18:58<03:35,  5.01s/it]"
     ]
    },
    {
     "name": "stdout",
     "output_type": "stream",
     "text": [
      "Invalid:  23.81.127.43:8118\n"
     ]
    },
    {
     "name": "stderr",
     "output_type": "stream",
     "text": [
      "\r",
      " 86%|████████▋ | 268/310 [19:03<03:30,  5.01s/it]"
     ]
    },
    {
     "name": "stdout",
     "output_type": "stream",
     "text": [
      "Invalid:  85.239.58.217:8085\n"
     ]
    },
    {
     "name": "stderr",
     "output_type": "stream",
     "text": [
      "\r",
      " 87%|████████▋ | 269/310 [19:08<03:25,  5.01s/it]"
     ]
    },
    {
     "name": "stdout",
     "output_type": "stream",
     "text": [
      "Invalid:  94.231.216.127:8085\n"
     ]
    },
    {
     "name": "stderr",
     "output_type": "stream",
     "text": [
      "\r",
      " 87%|████████▋ | 270/310 [19:13<03:20,  5.01s/it]"
     ]
    },
    {
     "name": "stdout",
     "output_type": "stream",
     "text": [
      "Invalid:  23.92.218.154:92\n"
     ]
    },
    {
     "name": "stderr",
     "output_type": "stream",
     "text": [
      "\r",
      " 87%|████████▋ | 271/310 [19:18<03:15,  5.01s/it]"
     ]
    },
    {
     "name": "stdout",
     "output_type": "stream",
     "text": [
      "Invalid:  89.191.229.245:8085\n"
     ]
    },
    {
     "name": "stderr",
     "output_type": "stream",
     "text": [
      "\r",
      " 88%|████████▊ | 272/310 [19:23<03:10,  5.01s/it]"
     ]
    },
    {
     "name": "stdout",
     "output_type": "stream",
     "text": [
      "Invalid:  185.88.37.25:8085\n"
     ]
    },
    {
     "name": "stderr",
     "output_type": "stream",
     "text": [
      "\r",
      " 88%|████████▊ | 273/310 [19:28<03:05,  5.01s/it]"
     ]
    },
    {
     "name": "stdout",
     "output_type": "stream",
     "text": [
      "Invalid:  213.166.79.101:8085\n"
     ]
    },
    {
     "name": "stderr",
     "output_type": "stream",
     "text": [
      "\r",
      " 88%|████████▊ | 274/310 [19:33<03:00,  5.01s/it]"
     ]
    },
    {
     "name": "stdout",
     "output_type": "stream",
     "text": [
      "Invalid:  194.99.25.70:8085\n"
     ]
    },
    {
     "name": "stderr",
     "output_type": "stream",
     "text": [
      "\r",
      " 89%|████████▊ | 275/310 [19:38<02:55,  5.01s/it]"
     ]
    },
    {
     "name": "stdout",
     "output_type": "stream",
     "text": [
      "Invalid:  23.19.7.156:8118\n"
     ]
    },
    {
     "name": "stderr",
     "output_type": "stream",
     "text": [
      "\r",
      " 89%|████████▉ | 276/310 [19:43<02:50,  5.01s/it]"
     ]
    },
    {
     "name": "stdout",
     "output_type": "stream",
     "text": [
      "Invalid:  45.80.107.160:8085\n"
     ]
    },
    {
     "name": "stderr",
     "output_type": "stream",
     "text": [
      "\r",
      " 89%|████████▉ | 277/310 [19:48<02:45,  5.01s/it]"
     ]
    },
    {
     "name": "stdout",
     "output_type": "stream",
     "text": [
      "Invalid:  31.184.199.149:92\n"
     ]
    },
    {
     "name": "stderr",
     "output_type": "stream",
     "text": [
      "\r",
      " 90%|████████▉ | 278/310 [19:53<02:40,  5.01s/it]"
     ]
    },
    {
     "name": "stdout",
     "output_type": "stream",
     "text": [
      "Invalid:  178.20.212.38:8085\n"
     ]
    },
    {
     "name": "stderr",
     "output_type": "stream",
     "text": [
      "\r",
      " 90%|█████████ | 279/310 [19:58<02:35,  5.01s/it]"
     ]
    },
    {
     "name": "stdout",
     "output_type": "stream",
     "text": [
      "Invalid:  45.80.106.222:8085\n"
     ]
    },
    {
     "name": "stderr",
     "output_type": "stream",
     "text": [
      "\r",
      " 90%|█████████ | 280/310 [20:03<02:30,  5.01s/it]"
     ]
    },
    {
     "name": "stdout",
     "output_type": "stream",
     "text": [
      "Invalid:  45.138.101.123:8085\n"
     ]
    },
    {
     "name": "stderr",
     "output_type": "stream",
     "text": [
      "\r",
      " 91%|█████████ | 281/310 [20:08<02:25,  5.01s/it]"
     ]
    },
    {
     "name": "stdout",
     "output_type": "stream",
     "text": [
      "Invalid:  45.159.23.144:8085\n"
     ]
    },
    {
     "name": "stderr",
     "output_type": "stream",
     "text": [
      "\r",
      " 91%|█████████ | 282/310 [20:13<02:20,  5.01s/it]"
     ]
    },
    {
     "name": "stdout",
     "output_type": "stream",
     "text": [
      "Invalid:  77.83.85.65:8085\n"
     ]
    },
    {
     "name": "stderr",
     "output_type": "stream",
     "text": [
      "\r",
      " 91%|█████████▏| 283/310 [20:18<02:15,  5.01s/it]"
     ]
    },
    {
     "name": "stdout",
     "output_type": "stream",
     "text": [
      "Invalid:  89.234.142.155:92\n"
     ]
    },
    {
     "name": "stderr",
     "output_type": "stream",
     "text": [
      "\r",
      " 92%|█████████▏| 284/310 [20:23<02:10,  5.01s/it]"
     ]
    },
    {
     "name": "stdout",
     "output_type": "stream",
     "text": [
      "Invalid:  198.12.80.229:92\n"
     ]
    },
    {
     "name": "stderr",
     "output_type": "stream",
     "text": [
      "\r",
      " 92%|█████████▏| 285/310 [20:28<02:05,  5.01s/it]"
     ]
    },
    {
     "name": "stdout",
     "output_type": "stream",
     "text": [
      "Invalid:  185.77.220.12:8085\n"
     ]
    },
    {
     "name": "stderr",
     "output_type": "stream",
     "text": [
      "\r",
      " 92%|█████████▏| 286/310 [20:33<02:00,  5.01s/it]"
     ]
    },
    {
     "name": "stdout",
     "output_type": "stream",
     "text": [
      "Invalid:  193.233.142.187:8085\n"
     ]
    },
    {
     "name": "stderr",
     "output_type": "stream",
     "text": [
      "\r",
      " 93%|█████████▎| 287/310 [20:38<01:55,  5.01s/it]"
     ]
    },
    {
     "name": "stdout",
     "output_type": "stream",
     "text": [
      "Invalid:  85.208.87.82:8085\n"
     ]
    },
    {
     "name": "stderr",
     "output_type": "stream",
     "text": [
      "\r",
      " 93%|█████████▎| 288/310 [20:43<01:50,  5.01s/it]"
     ]
    },
    {
     "name": "stdout",
     "output_type": "stream",
     "text": [
      "Invalid:  109.94.172.20:8085\n"
     ]
    },
    {
     "name": "stderr",
     "output_type": "stream",
     "text": [
      "\r",
      " 93%|█████████▎| 289/310 [20:48<01:45,  5.01s/it]"
     ]
    },
    {
     "name": "stdout",
     "output_type": "stream",
     "text": [
      "Invalid:  185.88.37.94:8085\n"
     ]
    },
    {
     "name": "stderr",
     "output_type": "stream",
     "text": [
      "\r",
      " 94%|█████████▎| 290/310 [20:53<01:40,  5.01s/it]"
     ]
    },
    {
     "name": "stdout",
     "output_type": "stream",
     "text": [
      "Invalid:  23.108.42.195:8118\n"
     ]
    },
    {
     "name": "stderr",
     "output_type": "stream",
     "text": [
      "\r",
      " 94%|█████████▍| 291/310 [20:58<01:35,  5.01s/it]"
     ]
    },
    {
     "name": "stdout",
     "output_type": "stream",
     "text": [
      "Invalid:  109.94.172.141:8085\n"
     ]
    },
    {
     "name": "stderr",
     "output_type": "stream",
     "text": [
      "\r",
      " 94%|█████████▍| 292/310 [21:04<01:36,  5.37s/it]"
     ]
    },
    {
     "name": "stdout",
     "output_type": "stream",
     "text": [
      "Invalid:  37.242.1.61:3128\n"
     ]
    },
    {
     "name": "stderr",
     "output_type": "stream",
     "text": [
      "\r",
      " 95%|█████████▍| 293/310 [21:09<01:29,  5.27s/it]"
     ]
    },
    {
     "name": "stdout",
     "output_type": "stream",
     "text": [
      "Invalid:  95.181.149.127:8085\n"
     ]
    },
    {
     "name": "stderr",
     "output_type": "stream",
     "text": [
      "\r",
      " 95%|█████████▍| 294/310 [21:14<01:23,  5.19s/it]"
     ]
    },
    {
     "name": "stdout",
     "output_type": "stream",
     "text": [
      "Invalid:  213.166.78.67:8085\n"
     ]
    },
    {
     "name": "stderr",
     "output_type": "stream",
     "text": [
      "\r",
      " 95%|█████████▌| 295/310 [21:19<01:17,  5.14s/it]"
     ]
    },
    {
     "name": "stdout",
     "output_type": "stream",
     "text": [
      "Invalid:  134.255.199.106:92\n"
     ]
    },
    {
     "name": "stderr",
     "output_type": "stream",
     "text": [
      "\r",
      " 95%|█████████▌| 296/310 [21:24<01:11,  5.10s/it]"
     ]
    },
    {
     "name": "stdout",
     "output_type": "stream",
     "text": [
      "Invalid:  45.145.128.205:8085\n"
     ]
    },
    {
     "name": "stderr",
     "output_type": "stream",
     "text": [
      "\r",
      " 96%|█████████▌| 297/310 [21:25<00:49,  3.82s/it]"
     ]
    },
    {
     "name": "stdout",
     "output_type": "stream",
     "text": [
      "Invalid:  62.244.52.64:92\n"
     ]
    },
    {
     "name": "stderr",
     "output_type": "stream",
     "text": [
      "\r",
      " 96%|█████████▌| 298/310 [21:30<00:50,  4.18s/it]"
     ]
    },
    {
     "name": "stdout",
     "output_type": "stream",
     "text": [
      "Invalid:  23.234.228.214:92\n"
     ]
    },
    {
     "name": "stderr",
     "output_type": "stream",
     "text": [
      "\r",
      " 96%|█████████▋| 299/310 [21:35<00:48,  4.43s/it]"
     ]
    },
    {
     "name": "stdout",
     "output_type": "stream",
     "text": [
      "Invalid:  193.202.16.235:8085\n"
     ]
    },
    {
     "name": "stderr",
     "output_type": "stream",
     "text": [
      "\r",
      " 97%|█████████▋| 300/310 [21:40<00:46,  4.60s/it]"
     ]
    },
    {
     "name": "stdout",
     "output_type": "stream",
     "text": [
      "Invalid:  96.43.136.213:92\n"
     ]
    },
    {
     "name": "stderr",
     "output_type": "stream",
     "text": [
      "\r",
      " 97%|█████████▋| 301/310 [21:45<00:42,  4.73s/it]"
     ]
    },
    {
     "name": "stdout",
     "output_type": "stream",
     "text": [
      "Invalid:  108.177.248.177:8118\n"
     ]
    },
    {
     "name": "stderr",
     "output_type": "stream",
     "text": [
      "\r",
      " 97%|█████████▋| 302/310 [21:50<00:38,  4.81s/it]"
     ]
    },
    {
     "name": "stdout",
     "output_type": "stream",
     "text": [
      "Invalid:  23.108.42.109:8118\n"
     ]
    },
    {
     "name": "stderr",
     "output_type": "stream",
     "text": [
      "\r",
      " 98%|█████████▊| 303/310 [21:55<00:34,  4.87s/it]"
     ]
    },
    {
     "name": "stdout",
     "output_type": "stream",
     "text": [
      "Invalid:  85.208.85.160:8085\n"
     ]
    },
    {
     "name": "stderr",
     "output_type": "stream",
     "text": [
      "\r",
      " 98%|█████████▊| 304/310 [22:00<00:29,  4.91s/it]"
     ]
    },
    {
     "name": "stdout",
     "output_type": "stream",
     "text": [
      "Invalid:  193.149.3.211:92\n"
     ]
    },
    {
     "name": "stderr",
     "output_type": "stream",
     "text": [
      "\r",
      " 98%|█████████▊| 305/310 [22:05<00:24,  4.94s/it]"
     ]
    },
    {
     "name": "stdout",
     "output_type": "stream",
     "text": [
      "Invalid:  194.62.55.171:92\n"
     ]
    },
    {
     "name": "stderr",
     "output_type": "stream",
     "text": [
      "\r",
      " 99%|█████████▊| 306/310 [22:10<00:19,  4.97s/it]"
     ]
    },
    {
     "name": "stdout",
     "output_type": "stream",
     "text": [
      "Invalid:  94.154.127.196:8085\n"
     ]
    },
    {
     "name": "stderr",
     "output_type": "stream",
     "text": [
      "\r",
      " 99%|█████████▉| 307/310 [22:15<00:14,  4.98s/it]"
     ]
    },
    {
     "name": "stdout",
     "output_type": "stream",
     "text": [
      "Invalid:  85.239.56.109:8085\n"
     ]
    },
    {
     "name": "stderr",
     "output_type": "stream",
     "text": [
      "\r",
      " 99%|█████████▉| 308/310 [22:20<00:09,  4.99s/it]"
     ]
    },
    {
     "name": "stdout",
     "output_type": "stream",
     "text": [
      "Invalid:  85.208.210.23:8085\n"
     ]
    },
    {
     "name": "stderr",
     "output_type": "stream",
     "text": [
      "\r",
      "100%|█████████▉| 309/310 [22:25<00:04,  5.00s/it]"
     ]
    },
    {
     "name": "stdout",
     "output_type": "stream",
     "text": [
      "Invalid:  77.83.86.102:8085\n"
     ]
    },
    {
     "name": "stderr",
     "output_type": "stream",
     "text": [
      "100%|██████████| 310/310 [22:30<00:00,  4.36s/it]"
     ]
    },
    {
     "name": "stdout",
     "output_type": "stream",
     "text": [
      "Invalid:  162.12.205.195:92\n"
     ]
    },
    {
     "name": "stderr",
     "output_type": "stream",
     "text": [
      "\n"
     ]
    }
   ],
   "source": [
    "valid_ips = getValidIpProxy(num_use=50)"
   ]
  },
  {
   "cell_type": "code",
   "execution_count": 6,
   "id": "24de7b29",
   "metadata": {},
   "outputs": [],
   "source": [
    "def changeUserAgentNProxy(maxtimes_changeIp, maxtimes_retry, valid_ips, url, method, payload=None):\n",
    "    \"\"\"\n",
    "    若超過 maxtimes_retry 則換一個 IP 嘗試、若超過 maxtimes_changeIp 次數限制則該資料爬取結果回傳 None\n",
    "    \"\"\"\n",
    "    changedIp = 0\n",
    "    success = 0\n",
    "    res = None\n",
    "\n",
    "    while (changedIp < maxtimes_changeIp) and (success == 0):\n",
    "        retry = 0 \n",
    "        timeout = 20\n",
    "        ip_proxy = random.choice(valid_ips)\n",
    "\n",
    "        while (retry < maxtimes_retry) and (success == 0):\n",
    "            try:\n",
    "                print(ip_proxy, ' Fetching ', url, ' timeout: ', timeout)\n",
    "                if method == 'get':\n",
    "                    res = requests.get(url, headers=headers , proxies={'http': ip_proxy, 'https': ip_proxy}, timeout=timeout).content\n",
    "                elif method == \"post\":\n",
    "                    print(payload)\n",
    "                    res = requests.post(url, data=payload, headers=headers , proxies={'http': ip_proxy, 'https': ip_proxy}, timeout=timeout).content\n",
    "                else:\n",
    "                    print(\"method hasn't defined in function yet.\")\n",
    "                    break\n",
    "                    \n",
    "                soup = BeautifulSoup(res, 'html.parser')\n",
    "                test = soup.find('table')  # 依照頁面不同判斷成功條件不同\n",
    "                success = 1  # 使跳出 while 迴圈\n",
    "                print('Success')\n",
    "            except Exception as e:\n",
    "                retry += 1  # 當 retry 次數滿會符合更換 proxy 的條件\n",
    "                timeout += 5  # 每當開始連線失敗就增加 5 秒 timeout 放寬標準\n",
    "                print('retrying: ', retry)\n",
    "\n",
    "        changedIp += 1\n",
    "\n",
    "    return res\n"
   ]
  },
  {
   "cell_type": "code",
   "execution_count": null,
   "id": "86c934cb",
   "metadata": {},
   "outputs": [],
   "source": [
    "urls = []\n",
    "for i in range(5):\n",
    "    page = 'https://www.1111.com.tw/job-bank/job-index.asp?si=2&fs=1&ps=100&page={}'.format(str(i+1))\n",
    "    resp = requests.get(page, headers=headers)\n",
    "    nurls = list(set(re.findall('www.1111.com.tw/corp/[0-9]{1,}/', resp.text))) #[0-9]是re套件的正規表達式 {1,}是re套件中匹配n次以上，不重複的意思\n",
    "    \n",
    "    # 如果加載新分頁沒有抓到新的資料，就停止迴圈\n",
    "    if len(urls) == len(list(urls + nurls)):\n",
    "        break\n",
    "    urls = list(set(urls + nurls))\n",
    "    print(len(urls))"
   ]
  },
  {
   "cell_type": "code",
   "execution_count": 7,
   "id": "431054e4",
   "metadata": {},
   "outputs": [
    {
     "name": "stdout",
     "output_type": "stream",
     "text": [
      "['www.1111.com.tw/corp/35975289/', 'www.1111.com.tw/corp/2786359/', 'www.1111.com.tw/corp/50505169/', 'www.1111.com.tw/corp/10066679/', 'www.1111.com.tw/corp/302400/', 'www.1111.com.tw/corp/51685739/', 'www.1111.com.tw/corp/9782079/', 'www.1111.com.tw/corp/9912579/', 'www.1111.com.tw/corp/71535079/', 'www.1111.com.tw/corp/542829/', 'www.1111.com.tw/corp/8961329/', 'www.1111.com.tw/corp/9912669/', 'www.1111.com.tw/corp/10390559/', 'www.1111.com.tw/corp/1881610/', 'www.1111.com.tw/corp/9720469/', 'www.1111.com.tw/corp/9720359/', 'www.1111.com.tw/corp/51737730/', 'www.1111.com.tw/corp/69191389/', 'www.1111.com.tw/corp/50816449/', 'www.1111.com.tw/corp/51302399/', 'www.1111.com.tw/corp/50640479/', 'www.1111.com.tw/corp/51455599/', 'www.1111.com.tw/corp/35970329/', 'www.1111.com.tw/corp/69444279/', 'www.1111.com.tw/corp/50951070/', 'www.1111.com.tw/corp/69429589/', 'www.1111.com.tw/corp/68793089/', 'www.1111.com.tw/corp/49455889/', 'www.1111.com.tw/corp/9440050/', 'www.1111.com.tw/corp/2133609/', 'www.1111.com.tw/corp/36081969/', 'www.1111.com.tw/corp/1883029/', 'www.1111.com.tw/corp/105120/', 'www.1111.com.tw/corp/51360999/', 'www.1111.com.tw/corp/73140149/', 'www.1111.com.tw/corp/795019/', 'www.1111.com.tw/corp/51852249/', 'www.1111.com.tw/corp/9722909/', 'www.1111.com.tw/corp/51583609/', 'www.1111.com.tw/corp/98920/', 'www.1111.com.tw/corp/420250/', 'www.1111.com.tw/corp/296470/', 'www.1111.com.tw/corp/1252639/', 'www.1111.com.tw/corp/543290/', 'www.1111.com.tw/corp/2850100/', 'www.1111.com.tw/corp/328629/', 'www.1111.com.tw/corp/68817379/', 'www.1111.com.tw/corp/72424969/', 'www.1111.com.tw/corp/50743989/', 'www.1111.com.tw/corp/315729/', 'www.1111.com.tw/corp/10402559/', 'www.1111.com.tw/corp/73339/', 'www.1111.com.tw/corp/8960999/', 'www.1111.com.tw/corp/1816459/', 'www.1111.com.tw/corp/8535469/', 'www.1111.com.tw/corp/575090/', 'www.1111.com.tw/corp/52000069/', 'www.1111.com.tw/corp/535719/', 'www.1111.com.tw/corp/2190019/', 'www.1111.com.tw/corp/50280369/', 'www.1111.com.tw/corp/33940169/', 'www.1111.com.tw/corp/71717220/', 'www.1111.com.tw/corp/8945059/', 'www.1111.com.tw/corp/9703819/', 'www.1111.com.tw/corp/1263250/', 'www.1111.com.tw/corp/9721259/', 'www.1111.com.tw/corp/1266969/', 'www.1111.com.tw/corp/49616149/', 'www.1111.com.tw/corp/51350189/', 'www.1111.com.tw/corp/73545949/', 'www.1111.com.tw/corp/7039/', 'www.1111.com.tw/corp/71730459/', 'www.1111.com.tw/corp/1252290/', 'www.1111.com.tw/corp/10347259/', 'www.1111.com.tw/corp/2900109/', 'www.1111.com.tw/corp/69393669/', 'www.1111.com.tw/corp/329299/', 'www.1111.com.tw/corp/48326759/', 'www.1111.com.tw/corp/1947869/', 'www.1111.com.tw/corp/10001780/', 'www.1111.com.tw/corp/505849/', 'www.1111.com.tw/corp/1815689/', 'www.1111.com.tw/corp/9622349/', 'www.1111.com.tw/corp/69191479/', 'www.1111.com.tw/corp/535999/', 'www.1111.com.tw/corp/435299/', 'www.1111.com.tw/corp/1050129/', 'www.1111.com.tw/corp/2130009/', 'www.1111.com.tw/corp/1902939/', 'www.1111.com.tw/corp/2132530/', 'www.1111.com.tw/corp/1285919/', 'www.1111.com.tw/corp/71697219/', 'www.1111.com.tw/corp/1901749/', 'www.1111.com.tw/corp/69009/', 'www.1111.com.tw/corp/8962579/', 'www.1111.com.tw/corp/73088889/', 'www.1111.com.tw/corp/10065210/']\n",
      "['www.1111.com.tw/corp/35975289/', 'www.1111.com.tw/corp/51935021/', 'www.1111.com.tw/corp/2786359/', 'www.1111.com.tw/corp/50505169/', 'www.1111.com.tw/corp/50390580/', 'www.1111.com.tw/corp/1961010/', 'www.1111.com.tw/corp/10066679/', 'www.1111.com.tw/corp/302400/', 'www.1111.com.tw/corp/305260/', 'www.1111.com.tw/corp/1853011/', 'www.1111.com.tw/corp/10400241/', 'www.1111.com.tw/corp/416030/', 'www.1111.com.tw/corp/51685739/', 'www.1111.com.tw/corp/505321/', 'www.1111.com.tw/corp/69447720/', 'www.1111.com.tw/corp/9782079/', 'www.1111.com.tw/corp/49860151/', 'www.1111.com.tw/corp/9912579/', 'www.1111.com.tw/corp/71535079/', 'www.1111.com.tw/corp/542829/', 'www.1111.com.tw/corp/8961329/', 'www.1111.com.tw/corp/9912669/', 'www.1111.com.tw/corp/9996970/', 'www.1111.com.tw/corp/10390559/', 'www.1111.com.tw/corp/1881610/', 'www.1111.com.tw/corp/1850440/', 'www.1111.com.tw/corp/291060/', 'www.1111.com.tw/corp/50928100/', 'www.1111.com.tw/corp/9720469/', 'www.1111.com.tw/corp/54510630/', 'www.1111.com.tw/corp/9720359/', 'www.1111.com.tw/corp/51737730/', 'www.1111.com.tw/corp/9631350/', 'www.1111.com.tw/corp/69191389/', 'www.1111.com.tw/corp/10395610/', 'www.1111.com.tw/corp/2133691/', 'www.1111.com.tw/corp/50816449/', 'www.1111.com.tw/corp/51302399/', 'www.1111.com.tw/corp/50640479/', 'www.1111.com.tw/corp/51455599/', 'www.1111.com.tw/corp/35970329/', 'www.1111.com.tw/corp/9615191/', 'www.1111.com.tw/corp/410000/', 'www.1111.com.tw/corp/1903311/', 'www.1111.com.tw/corp/7650/', 'www.1111.com.tw/corp/2191550/', 'www.1111.com.tw/corp/68626011/', 'www.1111.com.tw/corp/69444279/', 'www.1111.com.tw/corp/50951070/', 'www.1111.com.tw/corp/290420/', 'www.1111.com.tw/corp/8945660/', 'www.1111.com.tw/corp/69429589/', 'www.1111.com.tw/corp/68793089/', 'www.1111.com.tw/corp/435781/', 'www.1111.com.tw/corp/49455889/', 'www.1111.com.tw/corp/3225951/', 'www.1111.com.tw/corp/9440050/', 'www.1111.com.tw/corp/68651220/', 'www.1111.com.tw/corp/2133609/', 'www.1111.com.tw/corp/36081969/', 'www.1111.com.tw/corp/535161/', 'www.1111.com.tw/corp/1883029/', 'www.1111.com.tw/corp/425310/', 'www.1111.com.tw/corp/105120/', 'www.1111.com.tw/corp/2901070/', 'www.1111.com.tw/corp/51360999/', 'www.1111.com.tw/corp/2810/', 'www.1111.com.tw/corp/73140149/', 'www.1111.com.tw/corp/795019/', 'www.1111.com.tw/corp/51852249/', 'www.1111.com.tw/corp/9722909/', 'www.1111.com.tw/corp/51583609/', 'www.1111.com.tw/corp/9526330/', 'www.1111.com.tw/corp/98920/', 'www.1111.com.tw/corp/490030/', 'www.1111.com.tw/corp/51466001/', 'www.1111.com.tw/corp/130171/', 'www.1111.com.tw/corp/420250/', 'www.1111.com.tw/corp/296470/', 'www.1111.com.tw/corp/1252639/', 'www.1111.com.tw/corp/49817291/', 'www.1111.com.tw/corp/10000670/', 'www.1111.com.tw/corp/1945571/', 'www.1111.com.tw/corp/9780411/', 'www.1111.com.tw/corp/543290/', 'www.1111.com.tw/corp/10066600/', 'www.1111.com.tw/corp/8962579/', 'www.1111.com.tw/corp/2850100/', 'www.1111.com.tw/corp/8535070/', 'www.1111.com.tw/corp/9995181/', 'www.1111.com.tw/corp/1097890/', 'www.1111.com.tw/corp/36201970/', 'www.1111.com.tw/corp/328629/', 'www.1111.com.tw/corp/3225300/', 'www.1111.com.tw/corp/4991/', 'www.1111.com.tw/corp/1883631/', 'www.1111.com.tw/corp/68817379/', 'www.1111.com.tw/corp/4911/', 'www.1111.com.tw/corp/72424969/', 'www.1111.com.tw/corp/50743989/', 'www.1111.com.tw/corp/1287891/', 'www.1111.com.tw/corp/68854851/', 'www.1111.com.tw/corp/520011/', 'www.1111.com.tw/corp/105010/', 'www.1111.com.tw/corp/315729/', 'www.1111.com.tw/corp/9781561/', 'www.1111.com.tw/corp/10402559/', 'www.1111.com.tw/corp/73339/', 'www.1111.com.tw/corp/8960999/', 'www.1111.com.tw/corp/86010/', 'www.1111.com.tw/corp/35868141/', 'www.1111.com.tw/corp/51582790/', 'www.1111.com.tw/corp/1816459/', 'www.1111.com.tw/corp/2902821/', 'www.1111.com.tw/corp/8535469/', 'www.1111.com.tw/corp/575090/', 'www.1111.com.tw/corp/51846710/', 'www.1111.com.tw/corp/52000069/', 'www.1111.com.tw/corp/2765141/', 'www.1111.com.tw/corp/535719/', 'www.1111.com.tw/corp/2000230/', 'www.1111.com.tw/corp/1915151/', 'www.1111.com.tw/corp/2190019/', 'www.1111.com.tw/corp/50280369/', 'www.1111.com.tw/corp/71637661/', 'www.1111.com.tw/corp/33940169/', 'www.1111.com.tw/corp/9623840/', 'www.1111.com.tw/corp/2002141/', 'www.1111.com.tw/corp/71717220/', 'www.1111.com.tw/corp/8945059/', 'www.1111.com.tw/corp/49615391/', 'www.1111.com.tw/corp/9703819/', 'www.1111.com.tw/corp/1263250/', 'www.1111.com.tw/corp/430420/', 'www.1111.com.tw/corp/890071/', 'www.1111.com.tw/corp/291091/', 'www.1111.com.tw/corp/9721259/', 'www.1111.com.tw/corp/890210/', 'www.1111.com.tw/corp/1266969/', 'www.1111.com.tw/corp/49616149/', 'www.1111.com.tw/corp/298410/', 'www.1111.com.tw/corp/51350189/', 'www.1111.com.tw/corp/48931640/', 'www.1111.com.tw/corp/540791/', 'www.1111.com.tw/corp/73545949/', 'www.1111.com.tw/corp/7039/', 'www.1111.com.tw/corp/51447771/', 'www.1111.com.tw/corp/107741/', 'www.1111.com.tw/corp/71730459/', 'www.1111.com.tw/corp/1252290/', 'www.1111.com.tw/corp/2185081/', 'www.1111.com.tw/corp/10347259/', 'www.1111.com.tw/corp/2900109/', 'www.1111.com.tw/corp/1345601/', 'www.1111.com.tw/corp/72562150/', 'www.1111.com.tw/corp/35867211/', 'www.1111.com.tw/corp/329299/', 'www.1111.com.tw/corp/51561480/', 'www.1111.com.tw/corp/48326759/', 'www.1111.com.tw/corp/1947869/', 'www.1111.com.tw/corp/10001780/', 'www.1111.com.tw/corp/69012870/', 'www.1111.com.tw/corp/505849/', 'www.1111.com.tw/corp/1815689/', 'www.1111.com.tw/corp/9622349/', 'www.1111.com.tw/corp/69191479/', 'www.1111.com.tw/corp/535999/', 'www.1111.com.tw/corp/435299/', 'www.1111.com.tw/corp/125330/', 'www.1111.com.tw/corp/2900221/', 'www.1111.com.tw/corp/1050129/', 'www.1111.com.tw/corp/2130009/', 'www.1111.com.tw/corp/1902939/', 'www.1111.com.tw/corp/1880090/', 'www.1111.com.tw/corp/51686600/', 'www.1111.com.tw/corp/436040/', 'www.1111.com.tw/corp/2132530/', 'www.1111.com.tw/corp/8960741/', 'www.1111.com.tw/corp/51741080/', 'www.1111.com.tw/corp/1285919/', 'www.1111.com.tw/corp/71697219/', 'www.1111.com.tw/corp/1901749/', 'www.1111.com.tw/corp/69009/', 'www.1111.com.tw/corp/69393669/', 'www.1111.com.tw/corp/73088889/', 'www.1111.com.tw/corp/10065210/']\n"
     ]
    },
    {
     "name": "stdout",
     "output_type": "stream",
     "text": [
      "['www.1111.com.tw/corp/35975289/', 'www.1111.com.tw/corp/51935021/', 'www.1111.com.tw/corp/2786359/', 'www.1111.com.tw/corp/50505169/', 'www.1111.com.tw/corp/2000322/', 'www.1111.com.tw/corp/50390580/', 'www.1111.com.tw/corp/1961010/', 'www.1111.com.tw/corp/10066679/', 'www.1111.com.tw/corp/302400/', 'www.1111.com.tw/corp/305260/', 'www.1111.com.tw/corp/1853011/', 'www.1111.com.tw/corp/105251/', 'www.1111.com.tw/corp/10581/', 'www.1111.com.tw/corp/10400241/', 'www.1111.com.tw/corp/1267872/', 'www.1111.com.tw/corp/51692992/', 'www.1111.com.tw/corp/416030/', 'www.1111.com.tw/corp/50960171/', 'www.1111.com.tw/corp/51685739/', 'www.1111.com.tw/corp/505321/', 'www.1111.com.tw/corp/69447720/', 'www.1111.com.tw/corp/9782079/', 'www.1111.com.tw/corp/2800332/', 'www.1111.com.tw/corp/49860151/', 'www.1111.com.tw/corp/9912579/', 'www.1111.com.tw/corp/71535079/', 'www.1111.com.tw/corp/542829/', 'www.1111.com.tw/corp/8961329/', 'www.1111.com.tw/corp/9912669/', 'www.1111.com.tw/corp/9996970/', 'www.1111.com.tw/corp/10390559/', 'www.1111.com.tw/corp/1881610/', 'www.1111.com.tw/corp/1355011/', 'www.1111.com.tw/corp/435082/', 'www.1111.com.tw/corp/1850440/', 'www.1111.com.tw/corp/2132461/', 'www.1111.com.tw/corp/291060/', 'www.1111.com.tw/corp/50928100/', 'www.1111.com.tw/corp/9597422/', 'www.1111.com.tw/corp/9720469/', 'www.1111.com.tw/corp/54510630/', 'www.1111.com.tw/corp/9720359/', 'www.1111.com.tw/corp/1175622/', 'www.1111.com.tw/corp/51737730/', 'www.1111.com.tw/corp/9631350/', 'www.1111.com.tw/corp/2132822/', 'www.1111.com.tw/corp/69191389/', 'www.1111.com.tw/corp/1055292/', 'www.1111.com.tw/corp/10395610/', 'www.1111.com.tw/corp/2133691/', 'www.1111.com.tw/corp/50816449/', 'www.1111.com.tw/corp/51302399/', 'www.1111.com.tw/corp/50640479/', 'www.1111.com.tw/corp/51455599/', 'www.1111.com.tw/corp/35970329/', 'www.1111.com.tw/corp/9615191/', 'www.1111.com.tw/corp/410000/', 'www.1111.com.tw/corp/1903311/', 'www.1111.com.tw/corp/7650/', 'www.1111.com.tw/corp/2191550/', 'www.1111.com.tw/corp/36058912/', 'www.1111.com.tw/corp/8945462/', 'www.1111.com.tw/corp/68626011/', 'www.1111.com.tw/corp/69444279/', 'www.1111.com.tw/corp/50951070/', 'www.1111.com.tw/corp/8945660/', 'www.1111.com.tw/corp/290420/', 'www.1111.com.tw/corp/1085162/', 'www.1111.com.tw/corp/9771792/', 'www.1111.com.tw/corp/69429589/', 'www.1111.com.tw/corp/435781/', 'www.1111.com.tw/corp/68793089/', 'www.1111.com.tw/corp/1263531/', 'www.1111.com.tw/corp/505452/', 'www.1111.com.tw/corp/69433321/', 'www.1111.com.tw/corp/49455889/', 'www.1111.com.tw/corp/73158561/', 'www.1111.com.tw/corp/10396932/', 'www.1111.com.tw/corp/3225951/', 'www.1111.com.tw/corp/890042/', 'www.1111.com.tw/corp/9440050/', 'www.1111.com.tw/corp/68651220/', 'www.1111.com.tw/corp/51688652/', 'www.1111.com.tw/corp/2133609/', 'www.1111.com.tw/corp/36081969/', 'www.1111.com.tw/corp/34483992/', 'www.1111.com.tw/corp/535161/', 'www.1111.com.tw/corp/1883029/', 'www.1111.com.tw/corp/425310/', 'www.1111.com.tw/corp/4312/', 'www.1111.com.tw/corp/50960932/', 'www.1111.com.tw/corp/105120/', 'www.1111.com.tw/corp/2901070/', 'www.1111.com.tw/corp/51360999/', 'www.1111.com.tw/corp/2810/', 'www.1111.com.tw/corp/51745511/', 'www.1111.com.tw/corp/73140149/', 'www.1111.com.tw/corp/10002632/', 'www.1111.com.tw/corp/68856862/', 'www.1111.com.tw/corp/795019/', 'www.1111.com.tw/corp/296521/', 'www.1111.com.tw/corp/51852249/', 'www.1111.com.tw/corp/9722909/', 'www.1111.com.tw/corp/51583609/', 'www.1111.com.tw/corp/9526330/', 'www.1111.com.tw/corp/98920/', 'www.1111.com.tw/corp/490030/', 'www.1111.com.tw/corp/68002732/', 'www.1111.com.tw/corp/51466001/', 'www.1111.com.tw/corp/33940022/', 'www.1111.com.tw/corp/69191392/', 'www.1111.com.tw/corp/595012/', 'www.1111.com.tw/corp/2131332/', 'www.1111.com.tw/corp/68643672/', 'www.1111.com.tw/corp/9620741/', 'www.1111.com.tw/corp/130171/', 'www.1111.com.tw/corp/420250/', 'www.1111.com.tw/corp/296470/', 'www.1111.com.tw/corp/1252639/', 'www.1111.com.tw/corp/49817291/', 'www.1111.com.tw/corp/2745022/', 'www.1111.com.tw/corp/9442981/', 'www.1111.com.tw/corp/10000670/', 'www.1111.com.tw/corp/1945571/', 'www.1111.com.tw/corp/68639782/', 'www.1111.com.tw/corp/9780411/', 'www.1111.com.tw/corp/51472562/', 'www.1111.com.tw/corp/8961502/', 'www.1111.com.tw/corp/543290/', 'www.1111.com.tw/corp/10066600/', 'www.1111.com.tw/corp/2850100/', 'www.1111.com.tw/corp/8960302/', 'www.1111.com.tw/corp/8535070/', 'www.1111.com.tw/corp/9995181/', 'www.1111.com.tw/corp/490302/', 'www.1111.com.tw/corp/95921/', 'www.1111.com.tw/corp/1097890/', 'www.1111.com.tw/corp/36201970/', 'www.1111.com.tw/corp/8555111/', 'www.1111.com.tw/corp/91792/', 'www.1111.com.tw/corp/328629/', 'www.1111.com.tw/corp/3225300/', 'www.1111.com.tw/corp/4252/', 'www.1111.com.tw/corp/36065931/', 'www.1111.com.tw/corp/89762/', 'www.1111.com.tw/corp/4991/', 'www.1111.com.tw/corp/1883631/', 'www.1111.com.tw/corp/68817379/', 'www.1111.com.tw/corp/4911/', 'www.1111.com.tw/corp/72424969/', 'www.1111.com.tw/corp/50743989/', 'www.1111.com.tw/corp/1287891/', 'www.1111.com.tw/corp/68854851/', 'www.1111.com.tw/corp/520011/', 'www.1111.com.tw/corp/105010/', 'www.1111.com.tw/corp/3261/', 'www.1111.com.tw/corp/9628101/', 'www.1111.com.tw/corp/315729/', 'www.1111.com.tw/corp/70673322/', 'www.1111.com.tw/corp/9781561/', 'www.1111.com.tw/corp/69429471/', 'www.1111.com.tw/corp/10402559/', 'www.1111.com.tw/corp/73339/', 'www.1111.com.tw/corp/8960999/', 'www.1111.com.tw/corp/86010/', 'www.1111.com.tw/corp/35868141/', 'www.1111.com.tw/corp/51582790/', 'www.1111.com.tw/corp/69386131/', 'www.1111.com.tw/corp/1816459/', 'www.1111.com.tw/corp/2902821/', 'www.1111.com.tw/corp/8535469/', 'www.1111.com.tw/corp/575090/', 'www.1111.com.tw/corp/1346302/', 'www.1111.com.tw/corp/51846710/', 'www.1111.com.tw/corp/130061/', 'www.1111.com.tw/corp/52000069/', 'www.1111.com.tw/corp/2765141/', 'www.1111.com.tw/corp/535719/', 'www.1111.com.tw/corp/2000230/', 'www.1111.com.tw/corp/1915151/', 'www.1111.com.tw/corp/2190019/', 'www.1111.com.tw/corp/50280369/', 'www.1111.com.tw/corp/71637661/', 'www.1111.com.tw/corp/8325742/', 'www.1111.com.tw/corp/33940169/', 'www.1111.com.tw/corp/9623840/', 'www.1111.com.tw/corp/2002141/', 'www.1111.com.tw/corp/1341731/', 'www.1111.com.tw/corp/1096051/', 'www.1111.com.tw/corp/2800002/', 'www.1111.com.tw/corp/71717220/', 'www.1111.com.tw/corp/8945059/', 'www.1111.com.tw/corp/49615391/', 'www.1111.com.tw/corp/2001332/', 'www.1111.com.tw/corp/51457412/', 'www.1111.com.tw/corp/9703819/', 'www.1111.com.tw/corp/1263250/', 'www.1111.com.tw/corp/1267102/', 'www.1111.com.tw/corp/430420/', 'www.1111.com.tw/corp/1960931/', 'www.1111.com.tw/corp/890071/', 'www.1111.com.tw/corp/1175152/', 'www.1111.com.tw/corp/182/', 'www.1111.com.tw/corp/291091/', 'www.1111.com.tw/corp/7802/', 'www.1111.com.tw/corp/9721259/', 'www.1111.com.tw/corp/890210/', 'www.1111.com.tw/corp/69622091/', 'www.1111.com.tw/corp/73075572/', 'www.1111.com.tw/corp/6832/', 'www.1111.com.tw/corp/1266969/', 'www.1111.com.tw/corp/49616149/', 'www.1111.com.tw/corp/2788842/', 'www.1111.com.tw/corp/69013041/', 'www.1111.com.tw/corp/298410/', 'www.1111.com.tw/corp/51350189/', 'www.1111.com.tw/corp/2192251/', 'www.1111.com.tw/corp/48931640/', 'www.1111.com.tw/corp/540791/', 'www.1111.com.tw/corp/73545949/', 'www.1111.com.tw/corp/125672/', 'www.1111.com.tw/corp/4092/', 'www.1111.com.tw/corp/1097131/', 'www.1111.com.tw/corp/7039/', 'www.1111.com.tw/corp/51447771/', 'www.1111.com.tw/corp/107741/', 'www.1111.com.tw/corp/71730459/', 'www.1111.com.tw/corp/1252290/', 'www.1111.com.tw/corp/2185081/', 'www.1111.com.tw/corp/10347259/', 'www.1111.com.tw/corp/2900109/', 'www.1111.com.tw/corp/1345601/', 'www.1111.com.tw/corp/2132422/', 'www.1111.com.tw/corp/72562150/', 'www.1111.com.tw/corp/68638741/', 'www.1111.com.tw/corp/69616222/', 'www.1111.com.tw/corp/69393669/', 'www.1111.com.tw/corp/35867211/', 'www.1111.com.tw/corp/329299/', 'www.1111.com.tw/corp/51561480/', 'www.1111.com.tw/corp/50133361/', 'www.1111.com.tw/corp/50487691/', 'www.1111.com.tw/corp/48326759/', 'www.1111.com.tw/corp/1947869/', 'www.1111.com.tw/corp/10001780/', 'www.1111.com.tw/corp/73480692/', 'www.1111.com.tw/corp/71305132/', 'www.1111.com.tw/corp/69012870/', 'www.1111.com.tw/corp/505849/', 'www.1111.com.tw/corp/8795062/', 'www.1111.com.tw/corp/9975332/', 'www.1111.com.tw/corp/1815689/', 'www.1111.com.tw/corp/9622349/', 'www.1111.com.tw/corp/69191479/', 'www.1111.com.tw/corp/2133852/', 'www.1111.com.tw/corp/2765181/', 'www.1111.com.tw/corp/72425231/', 'www.1111.com.tw/corp/3471/', 'www.1111.com.tw/corp/535999/', 'www.1111.com.tw/corp/435299/', 'www.1111.com.tw/corp/125330/', 'www.1111.com.tw/corp/2900221/', 'www.1111.com.tw/corp/1050129/', 'www.1111.com.tw/corp/48727632/', 'www.1111.com.tw/corp/72428992/', 'www.1111.com.tw/corp/70024632/', 'www.1111.com.tw/corp/2130009/', 'www.1111.com.tw/corp/1902939/', 'www.1111.com.tw/corp/50795672/', 'www.1111.com.tw/corp/1880090/', 'www.1111.com.tw/corp/51686600/', 'www.1111.com.tw/corp/436040/', 'www.1111.com.tw/corp/2132530/', 'www.1111.com.tw/corp/8960741/', 'www.1111.com.tw/corp/35865902/', 'www.1111.com.tw/corp/51741080/', 'www.1111.com.tw/corp/1285919/', 'www.1111.com.tw/corp/71697219/', 'www.1111.com.tw/corp/1901749/', 'www.1111.com.tw/corp/69421462/', 'www.1111.com.tw/corp/69009/', 'www.1111.com.tw/corp/50743132/', 'www.1111.com.tw/corp/8962579/', 'www.1111.com.tw/corp/73088889/', 'www.1111.com.tw/corp/10065210/']\n"
     ]
    },
    {
     "name": "stdout",
     "output_type": "stream",
     "text": [
      "['www.1111.com.tw/corp/2786359/', 'www.1111.com.tw/corp/50505169/', 'www.1111.com.tw/corp/305260/', 'www.1111.com.tw/corp/51692992/', 'www.1111.com.tw/corp/416030/', 'www.1111.com.tw/corp/50960171/', 'www.1111.com.tw/corp/51685739/', 'www.1111.com.tw/corp/505321/', 'www.1111.com.tw/corp/8310063/', 'www.1111.com.tw/corp/8961329/', 'www.1111.com.tw/corp/10390559/', 'www.1111.com.tw/corp/1285944/', 'www.1111.com.tw/corp/2132461/', 'www.1111.com.tw/corp/291060/', 'www.1111.com.tw/corp/9597422/', 'www.1111.com.tw/corp/8962592/', 'www.1111.com.tw/corp/54510630/', 'www.1111.com.tw/corp/51737730/', 'www.1111.com.tw/corp/10395610/', 'www.1111.com.tw/corp/2133691/', 'www.1111.com.tw/corp/9615191/', 'www.1111.com.tw/corp/36058912/', 'www.1111.com.tw/corp/35970329/', 'www.1111.com.tw/corp/1903311/', 'www.1111.com.tw/corp/2191550/', 'www.1111.com.tw/corp/1085162/', 'www.1111.com.tw/corp/68626011/', 'www.1111.com.tw/corp/1175622/', 'www.1111.com.tw/corp/1263531/', 'www.1111.com.tw/corp/8945660/', 'www.1111.com.tw/corp/131063/', 'www.1111.com.tw/corp/73158561/', 'www.1111.com.tw/corp/35970553/', 'www.1111.com.tw/corp/80002/', 'www.1111.com.tw/corp/890042/', 'www.1111.com.tw/corp/36081969/', 'www.1111.com.tw/corp/1883029/', 'www.1111.com.tw/corp/4312/', 'www.1111.com.tw/corp/50960932/', 'www.1111.com.tw/corp/51745511/', 'www.1111.com.tw/corp/296521/', 'www.1111.com.tw/corp/98920/', 'www.1111.com.tw/corp/490030/', 'www.1111.com.tw/corp/68640843/', 'www.1111.com.tw/corp/420250/', 'www.1111.com.tw/corp/8635542/', 'www.1111.com.tw/corp/9442981/', 'www.1111.com.tw/corp/35872353/', 'www.1111.com.tw/corp/9780411/', 'www.1111.com.tw/corp/8960302/', 'www.1111.com.tw/corp/50080473/', 'www.1111.com.tw/corp/490302/', 'www.1111.com.tw/corp/1225223/', 'www.1111.com.tw/corp/36201970/', 'www.1111.com.tw/corp/8555111/', 'www.1111.com.tw/corp/328629/', 'www.1111.com.tw/corp/3225300/', 'www.1111.com.tw/corp/4252/', 'www.1111.com.tw/corp/7623/', 'www.1111.com.tw/corp/68817379/', 'www.1111.com.tw/corp/4911/', 'www.1111.com.tw/corp/50743989/', 'www.1111.com.tw/corp/105010/', 'www.1111.com.tw/corp/9628101/', 'www.1111.com.tw/corp/105143/', 'www.1111.com.tw/corp/73339/', 'www.1111.com.tw/corp/35868141/', 'www.1111.com.tw/corp/2002893/', 'www.1111.com.tw/corp/575090/', 'www.1111.com.tw/corp/69392203/', 'www.1111.com.tw/corp/1250203/', 'www.1111.com.tw/corp/71637661/', 'www.1111.com.tw/corp/2850073/', 'www.1111.com.tw/corp/1096051/', 'www.1111.com.tw/corp/72570302/', 'www.1111.com.tw/corp/1289343/', 'www.1111.com.tw/corp/8945059/', 'www.1111.com.tw/corp/10070713/', 'www.1111.com.tw/corp/890071/', 'www.1111.com.tw/corp/9780293/', 'www.1111.com.tw/corp/49616149/', 'www.1111.com.tw/corp/298410/', 'www.1111.com.tw/corp/2192251/', 'www.1111.com.tw/corp/48931640/', 'www.1111.com.tw/corp/540791/', 'www.1111.com.tw/corp/1097131/', 'www.1111.com.tw/corp/1902613/', 'www.1111.com.tw/corp/1345601/', 'www.1111.com.tw/corp/69616222/', 'www.1111.com.tw/corp/51570393/', 'www.1111.com.tw/corp/48326759/', 'www.1111.com.tw/corp/73480692/', 'www.1111.com.tw/corp/1853093/', 'www.1111.com.tw/corp/505849/', 'www.1111.com.tw/corp/8795062/', 'www.1111.com.tw/corp/9622349/', 'www.1111.com.tw/corp/50740053/', 'www.1111.com.tw/corp/72425231/', 'www.1111.com.tw/corp/435299/', 'www.1111.com.tw/corp/72428992/', 'www.1111.com.tw/corp/10396273/', 'www.1111.com.tw/corp/51686600/', 'www.1111.com.tw/corp/436040/', 'www.1111.com.tw/corp/35865902/', 'www.1111.com.tw/corp/69421462/', 'www.1111.com.tw/corp/1285919/', 'www.1111.com.tw/corp/71697219/', 'www.1111.com.tw/corp/50743132/', 'www.1111.com.tw/corp/69393669/', 'www.1111.com.tw/corp/35975289/', 'www.1111.com.tw/corp/51935021/', 'www.1111.com.tw/corp/2000322/', 'www.1111.com.tw/corp/1961010/', 'www.1111.com.tw/corp/69447720/', 'www.1111.com.tw/corp/49860151/', 'www.1111.com.tw/corp/9912579/', 'www.1111.com.tw/corp/542829/', 'www.1111.com.tw/corp/9996970/', 'www.1111.com.tw/corp/1355011/', 'www.1111.com.tw/corp/1850440/', 'www.1111.com.tw/corp/50928100/', 'www.1111.com.tw/corp/9720359/', 'www.1111.com.tw/corp/1055292/', 'www.1111.com.tw/corp/73480694/', 'www.1111.com.tw/corp/50816449/', 'www.1111.com.tw/corp/51302399/', 'www.1111.com.tw/corp/51455599/', 'www.1111.com.tw/corp/291473/', 'www.1111.com.tw/corp/505103/', 'www.1111.com.tw/corp/8945462/', 'www.1111.com.tw/corp/9771792/', 'www.1111.com.tw/corp/51457412/', 'www.1111.com.tw/corp/50951070/', 'www.1111.com.tw/corp/69433321/', 'www.1111.com.tw/corp/49455889/', 'www.1111.com.tw/corp/3225951/', 'www.1111.com.tw/corp/9440050/', 'www.1111.com.tw/corp/131313/', 'www.1111.com.tw/corp/51688652/', 'www.1111.com.tw/corp/5163/', 'www.1111.com.tw/corp/2901070/', 'www.1111.com.tw/corp/73515963/', 'www.1111.com.tw/corp/9722909/', 'www.1111.com.tw/corp/9526330/', 'www.1111.com.tw/corp/51466001/', 'www.1111.com.tw/corp/2131332/', 'www.1111.com.tw/corp/50758723/', 'www.1111.com.tw/corp/49817291/', 'www.1111.com.tw/corp/10000670/', 'www.1111.com.tw/corp/1845003/', 'www.1111.com.tw/corp/50504013/', 'www.1111.com.tw/corp/8961502/', 'www.1111.com.tw/corp/8535070/', 'www.1111.com.tw/corp/9995181/', 'www.1111.com.tw/corp/9720763/', 'www.1111.com.tw/corp/91792/', 'www.1111.com.tw/corp/1287891/', 'www.1111.com.tw/corp/3261/', 'www.1111.com.tw/corp/70673322/', 'www.1111.com.tw/corp/315729/', 'www.1111.com.tw/corp/9781561/', 'www.1111.com.tw/corp/10402559/', 'www.1111.com.tw/corp/405973/', 'www.1111.com.tw/corp/8960999/', 'www.1111.com.tw/corp/69117183/', 'www.1111.com.tw/corp/51582790/', 'www.1111.com.tw/corp/9480743/', 'www.1111.com.tw/corp/1346302/', 'www.1111.com.tw/corp/3226542/', 'www.1111.com.tw/corp/2765141/', 'www.1111.com.tw/corp/2000230/', 'www.1111.com.tw/corp/1915151/', 'www.1111.com.tw/corp/50280369/', 'www.1111.com.tw/corp/33940169/', 'www.1111.com.tw/corp/1341731/', 'www.1111.com.tw/corp/2001332/', 'www.1111.com.tw/corp/9703819/', 'www.1111.com.tw/corp/1267102/', 'www.1111.com.tw/corp/1960931/', 'www.1111.com.tw/corp/485124/', 'www.1111.com.tw/corp/50751183/', 'www.1111.com.tw/corp/182/', 'www.1111.com.tw/corp/9721259/', 'www.1111.com.tw/corp/69622091/', 'www.1111.com.tw/corp/6832/', 'www.1111.com.tw/corp/125672/', 'www.1111.com.tw/corp/2185081/', 'www.1111.com.tw/corp/107741/', 'www.1111.com.tw/corp/71730459/', 'www.1111.com.tw/corp/1252290/', 'www.1111.com.tw/corp/9933/', 'www.1111.com.tw/corp/50496734/', 'www.1111.com.tw/corp/51561480/', 'www.1111.com.tw/corp/50133361/', 'www.1111.com.tw/corp/50487691/', 'www.1111.com.tw/corp/1947869/', 'www.1111.com.tw/corp/527683/', 'www.1111.com.tw/corp/50928203/', 'www.1111.com.tw/corp/3471/', 'www.1111.com.tw/corp/9592083/', 'www.1111.com.tw/corp/50795672/', 'www.1111.com.tw/corp/1902939/', 'www.1111.com.tw/corp/1880090/', 'www.1111.com.tw/corp/69620203/', 'www.1111.com.tw/corp/73487672/', 'www.1111.com.tw/corp/73088889/', 'www.1111.com.tw/corp/10065210/', 'www.1111.com.tw/corp/10066679/', 'www.1111.com.tw/corp/1267872/', 'www.1111.com.tw/corp/2785413/', 'www.1111.com.tw/corp/2800332/', 'www.1111.com.tw/corp/50497493/', 'www.1111.com.tw/corp/125793/', 'www.1111.com.tw/corp/71535079/', 'www.1111.com.tw/corp/9912669/', 'www.1111.com.tw/corp/435082/', 'www.1111.com.tw/corp/35866243/', 'www.1111.com.tw/corp/2132822/', 'www.1111.com.tw/corp/1853333/', 'www.1111.com.tw/corp/9447423/', 'www.1111.com.tw/corp/69429589/', 'www.1111.com.tw/corp/68793089/', 'www.1111.com.tw/corp/435781/', 'www.1111.com.tw/corp/10396932/', 'www.1111.com.tw/corp/230743/', 'www.1111.com.tw/corp/2133609/', 'www.1111.com.tw/corp/425310/', 'www.1111.com.tw/corp/50803123/', 'www.1111.com.tw/corp/105120/', 'www.1111.com.tw/corp/51360999/', 'www.1111.com.tw/corp/10002632/', 'www.1111.com.tw/corp/73140149/', 'www.1111.com.tw/corp/68856862/', 'www.1111.com.tw/corp/73480693/', 'www.1111.com.tw/corp/51852249/', 'www.1111.com.tw/corp/73090753/', 'www.1111.com.tw/corp/33940022/', 'www.1111.com.tw/corp/595012/', 'www.1111.com.tw/corp/3502/', 'www.1111.com.tw/corp/130171/', 'www.1111.com.tw/corp/296470/', 'www.1111.com.tw/corp/1252639/', 'www.1111.com.tw/corp/1250843/', 'www.1111.com.tw/corp/51472562/', 'www.1111.com.tw/corp/543290/', 'www.1111.com.tw/corp/406773/', 'www.1111.com.tw/corp/2850100/', 'www.1111.com.tw/corp/95921/', 'www.1111.com.tw/corp/1883631/', 'www.1111.com.tw/corp/72424969/', 'www.1111.com.tw/corp/68854851/', 'www.1111.com.tw/corp/69616014/', 'www.1111.com.tw/corp/1816459/', 'www.1111.com.tw/corp/2902821/', 'www.1111.com.tw/corp/582263/', 'www.1111.com.tw/corp/1252393/', 'www.1111.com.tw/corp/52000069/', 'www.1111.com.tw/corp/48511653/', 'www.1111.com.tw/corp/535719/', 'www.1111.com.tw/corp/8325742/', 'www.1111.com.tw/corp/2800002/', 'www.1111.com.tw/corp/9623840/', 'www.1111.com.tw/corp/49615391/', 'www.1111.com.tw/corp/1251143/', 'www.1111.com.tw/corp/430420/', 'www.1111.com.tw/corp/2786443/', 'www.1111.com.tw/corp/291091/', 'www.1111.com.tw/corp/890210/', 'www.1111.com.tw/corp/73075572/', 'www.1111.com.tw/corp/2131373/', 'www.1111.com.tw/corp/73545949/', 'www.1111.com.tw/corp/4092/', 'www.1111.com.tw/corp/51447771/', 'www.1111.com.tw/corp/2900109/', 'www.1111.com.tw/corp/69436253/', 'www.1111.com.tw/corp/1715033/', 'www.1111.com.tw/corp/9720013/', 'www.1111.com.tw/corp/10001780/', 'www.1111.com.tw/corp/69012870/', 'www.1111.com.tw/corp/9975332/', 'www.1111.com.tw/corp/69191479/', 'www.1111.com.tw/corp/2133852/', 'www.1111.com.tw/corp/2765181/', 'www.1111.com.tw/corp/48727632/', 'www.1111.com.tw/corp/2900221/', 'www.1111.com.tw/corp/505713/', 'www.1111.com.tw/corp/1845183/', 'www.1111.com.tw/corp/2130009/', 'www.1111.com.tw/corp/69009/', 'www.1111.com.tw/corp/70024632/', 'www.1111.com.tw/corp/1263963/', 'www.1111.com.tw/corp/9695533/', 'www.1111.com.tw/corp/50390580/', 'www.1111.com.tw/corp/1853011/', 'www.1111.com.tw/corp/105251/', 'www.1111.com.tw/corp/302400/', 'www.1111.com.tw/corp/10581/', 'www.1111.com.tw/corp/68778583/', 'www.1111.com.tw/corp/10400241/', 'www.1111.com.tw/corp/9782079/', 'www.1111.com.tw/corp/73189802/', 'www.1111.com.tw/corp/50816913/', 'www.1111.com.tw/corp/50920973/', 'www.1111.com.tw/corp/1881610/', 'www.1111.com.tw/corp/9720469/', 'www.1111.com.tw/corp/54571143/', 'www.1111.com.tw/corp/9631350/', 'www.1111.com.tw/corp/9620473/', 'www.1111.com.tw/corp/69191389/', 'www.1111.com.tw/corp/54933783/', 'www.1111.com.tw/corp/50640479/', 'www.1111.com.tw/corp/410000/', 'www.1111.com.tw/corp/7650/', 'www.1111.com.tw/corp/69444279/', 'www.1111.com.tw/corp/505452/', 'www.1111.com.tw/corp/290420/', 'www.1111.com.tw/corp/36006943/', 'www.1111.com.tw/corp/67005433/', 'www.1111.com.tw/corp/1345703/', 'www.1111.com.tw/corp/51395264/', 'www.1111.com.tw/corp/68651220/', 'www.1111.com.tw/corp/34483992/', 'www.1111.com.tw/corp/535161/', 'www.1111.com.tw/corp/2810/', 'www.1111.com.tw/corp/795019/', 'www.1111.com.tw/corp/51583609/', 'www.1111.com.tw/corp/68002732/', 'www.1111.com.tw/corp/69191392/', 'www.1111.com.tw/corp/68643672/', 'www.1111.com.tw/corp/9620741/', 'www.1111.com.tw/corp/2745022/', 'www.1111.com.tw/corp/1945571/', 'www.1111.com.tw/corp/68639782/', 'www.1111.com.tw/corp/9525483/', 'www.1111.com.tw/corp/10066600/', 'www.1111.com.tw/corp/83/', 'www.1111.com.tw/corp/535083/', 'www.1111.com.tw/corp/1097890/', 'www.1111.com.tw/corp/36065931/', 'www.1111.com.tw/corp/89762/', 'www.1111.com.tw/corp/4991/', 'www.1111.com.tw/corp/520011/', 'www.1111.com.tw/corp/71713333/', 'www.1111.com.tw/corp/69429471/', 'www.1111.com.tw/corp/10773/', 'www.1111.com.tw/corp/86010/', 'www.1111.com.tw/corp/69386131/', 'www.1111.com.tw/corp/50575193/', 'www.1111.com.tw/corp/8535469/', 'www.1111.com.tw/corp/51846710/', 'www.1111.com.tw/corp/130061/', 'www.1111.com.tw/corp/50037593/', 'www.1111.com.tw/corp/2190019/', 'www.1111.com.tw/corp/2002141/', 'www.1111.com.tw/corp/71717220/', 'www.1111.com.tw/corp/1263250/', 'www.1111.com.tw/corp/1175152/', 'www.1111.com.tw/corp/7802/', 'www.1111.com.tw/corp/1266969/', 'www.1111.com.tw/corp/2788842/', 'www.1111.com.tw/corp/69013041/', 'www.1111.com.tw/corp/52006283/', 'www.1111.com.tw/corp/51350189/', 'www.1111.com.tw/corp/7039/', 'www.1111.com.tw/corp/2132422/', 'www.1111.com.tw/corp/10347259/', 'www.1111.com.tw/corp/72562150/', 'www.1111.com.tw/corp/68638741/', 'www.1111.com.tw/corp/35867211/', 'www.1111.com.tw/corp/329299/', 'www.1111.com.tw/corp/10470732/', 'www.1111.com.tw/corp/1180043/', 'www.1111.com.tw/corp/71305132/', 'www.1111.com.tw/corp/1815689/', 'www.1111.com.tw/corp/535999/', 'www.1111.com.tw/corp/125330/', 'www.1111.com.tw/corp/1050129/', 'www.1111.com.tw/corp/2132530/', 'www.1111.com.tw/corp/8960741/', 'www.1111.com.tw/corp/51741080/', 'www.1111.com.tw/corp/1901749/', 'www.1111.com.tw/corp/8962579/']\n"
     ]
    },
    {
     "name": "stdout",
     "output_type": "stream",
     "text": [
      "['www.1111.com.tw/corp/2786359/', 'www.1111.com.tw/corp/50505169/', 'www.1111.com.tw/corp/305260/', 'www.1111.com.tw/corp/2133824/', 'www.1111.com.tw/corp/36070884/', 'www.1111.com.tw/corp/51692992/', 'www.1111.com.tw/corp/416030/', 'www.1111.com.tw/corp/50960171/', 'www.1111.com.tw/corp/51685739/', 'www.1111.com.tw/corp/505321/', 'www.1111.com.tw/corp/8310063/', 'www.1111.com.tw/corp/8961329/', 'www.1111.com.tw/corp/10390559/', 'www.1111.com.tw/corp/1285944/', 'www.1111.com.tw/corp/2132461/', 'www.1111.com.tw/corp/291060/', 'www.1111.com.tw/corp/9597422/', 'www.1111.com.tw/corp/300764/', 'www.1111.com.tw/corp/8962592/', 'www.1111.com.tw/corp/50497534/', 'www.1111.com.tw/corp/54510630/', 'www.1111.com.tw/corp/564/', 'www.1111.com.tw/corp/51737730/', 'www.1111.com.tw/corp/10395610/', 'www.1111.com.tw/corp/2133691/', 'www.1111.com.tw/corp/9615191/', 'www.1111.com.tw/corp/36058912/', 'www.1111.com.tw/corp/51456924/', 'www.1111.com.tw/corp/35970329/', 'www.1111.com.tw/corp/1903311/', 'www.1111.com.tw/corp/9900024/', 'www.1111.com.tw/corp/2191550/', 'www.1111.com.tw/corp/1085162/', 'www.1111.com.tw/corp/68626011/', 'www.1111.com.tw/corp/1175622/', 'www.1111.com.tw/corp/1263531/', 'www.1111.com.tw/corp/131063/', 'www.1111.com.tw/corp/8945660/', 'www.1111.com.tw/corp/73158561/', 'www.1111.com.tw/corp/35970553/', 'www.1111.com.tw/corp/80002/', 'www.1111.com.tw/corp/890042/', 'www.1111.com.tw/corp/92674/', 'www.1111.com.tw/corp/2000715/', 'www.1111.com.tw/corp/36081969/', 'www.1111.com.tw/corp/1883029/', 'www.1111.com.tw/corp/4312/', 'www.1111.com.tw/corp/510344/', 'www.1111.com.tw/corp/50960932/', 'www.1111.com.tw/corp/51745511/', 'www.1111.com.tw/corp/50037294/', 'www.1111.com.tw/corp/542724/', 'www.1111.com.tw/corp/296521/', 'www.1111.com.tw/corp/2132985/', 'www.1111.com.tw/corp/98920/', 'www.1111.com.tw/corp/490030/', 'www.1111.com.tw/corp/68640843/', 'www.1111.com.tw/corp/420250/', 'www.1111.com.tw/corp/8635542/', 'www.1111.com.tw/corp/9442981/', 'www.1111.com.tw/corp/35872353/', 'www.1111.com.tw/corp/9780411/', 'www.1111.com.tw/corp/8960302/', 'www.1111.com.tw/corp/50080473/', 'www.1111.com.tw/corp/490302/', 'www.1111.com.tw/corp/1225223/', 'www.1111.com.tw/corp/36201970/', 'www.1111.com.tw/corp/8555111/', 'www.1111.com.tw/corp/328629/', 'www.1111.com.tw/corp/4252/', 'www.1111.com.tw/corp/3225300/', 'www.1111.com.tw/corp/67210284/', 'www.1111.com.tw/corp/7623/', 'www.1111.com.tw/corp/68817379/', 'www.1111.com.tw/corp/4911/', 'www.1111.com.tw/corp/50743989/', 'www.1111.com.tw/corp/105010/', 'www.1111.com.tw/corp/9628101/', 'www.1111.com.tw/corp/1096964/', 'www.1111.com.tw/corp/105143/', 'www.1111.com.tw/corp/73339/', 'www.1111.com.tw/corp/35868141/', 'www.1111.com.tw/corp/9720414/', 'www.1111.com.tw/corp/2002893/', 'www.1111.com.tw/corp/575090/', 'www.1111.com.tw/corp/69392203/', 'www.1111.com.tw/corp/52106074/', 'www.1111.com.tw/corp/73480695/', 'www.1111.com.tw/corp/1250203/', 'www.1111.com.tw/corp/69191385/', 'www.1111.com.tw/corp/71637661/', 'www.1111.com.tw/corp/2850073/', 'www.1111.com.tw/corp/1096051/', 'www.1111.com.tw/corp/72570302/', 'www.1111.com.tw/corp/1289343/', 'www.1111.com.tw/corp/8945059/', 'www.1111.com.tw/corp/10070713/', 'www.1111.com.tw/corp/890071/', 'www.1111.com.tw/corp/9780293/', 'www.1111.com.tw/corp/49616149/', 'www.1111.com.tw/corp/298410/', 'www.1111.com.tw/corp/2192251/', 'www.1111.com.tw/corp/48931640/', 'www.1111.com.tw/corp/51829034/', 'www.1111.com.tw/corp/540791/', 'www.1111.com.tw/corp/1097131/', 'www.1111.com.tw/corp/1902613/', 'www.1111.com.tw/corp/1345601/', 'www.1111.com.tw/corp/69616222/', 'www.1111.com.tw/corp/51570393/', 'www.1111.com.tw/corp/50501234/', 'www.1111.com.tw/corp/48326759/', 'www.1111.com.tw/corp/73480692/', 'www.1111.com.tw/corp/1853093/', 'www.1111.com.tw/corp/505849/', 'www.1111.com.tw/corp/8795062/', 'www.1111.com.tw/corp/90324/', 'www.1111.com.tw/corp/9622349/', 'www.1111.com.tw/corp/50740053/', 'www.1111.com.tw/corp/72425231/', 'www.1111.com.tw/corp/435299/', 'www.1111.com.tw/corp/72428992/', 'www.1111.com.tw/corp/10396273/', 'www.1111.com.tw/corp/51686600/', 'www.1111.com.tw/corp/436040/', 'www.1111.com.tw/corp/35865902/', 'www.1111.com.tw/corp/69421462/', 'www.1111.com.tw/corp/1285919/', 'www.1111.com.tw/corp/71697219/', 'www.1111.com.tw/corp/50743132/', 'www.1111.com.tw/corp/542134/', 'www.1111.com.tw/corp/69393669/', 'www.1111.com.tw/corp/35975289/', 'www.1111.com.tw/corp/51935021/', 'www.1111.com.tw/corp/1947924/', 'www.1111.com.tw/corp/2000322/', 'www.1111.com.tw/corp/1961010/', 'www.1111.com.tw/corp/9441474/', 'www.1111.com.tw/corp/69447720/', 'www.1111.com.tw/corp/49860151/', 'www.1111.com.tw/corp/9912579/', 'www.1111.com.tw/corp/542829/', 'www.1111.com.tw/corp/9996970/', 'www.1111.com.tw/corp/1355011/', 'www.1111.com.tw/corp/1850440/', 'www.1111.com.tw/corp/50928100/', 'www.1111.com.tw/corp/9720359/', 'www.1111.com.tw/corp/1055292/', 'www.1111.com.tw/corp/73480694/', 'www.1111.com.tw/corp/50816449/', 'www.1111.com.tw/corp/51302399/', 'www.1111.com.tw/corp/51455599/', 'www.1111.com.tw/corp/291473/', 'www.1111.com.tw/corp/505103/', 'www.1111.com.tw/corp/8945462/', 'www.1111.com.tw/corp/9990404/', 'www.1111.com.tw/corp/9771792/', 'www.1111.com.tw/corp/51457412/', 'www.1111.com.tw/corp/50951070/', 'www.1111.com.tw/corp/69433321/', 'www.1111.com.tw/corp/9995275/', 'www.1111.com.tw/corp/49455889/', 'www.1111.com.tw/corp/3225951/', 'www.1111.com.tw/corp/9440050/', 'www.1111.com.tw/corp/131313/', 'www.1111.com.tw/corp/51688652/', 'www.1111.com.tw/corp/5163/', 'www.1111.com.tw/corp/69425985/', 'www.1111.com.tw/corp/2901070/', 'www.1111.com.tw/corp/36071925/', 'www.1111.com.tw/corp/73515963/', 'www.1111.com.tw/corp/54530625/', 'www.1111.com.tw/corp/9722909/', 'www.1111.com.tw/corp/9526330/', 'www.1111.com.tw/corp/51466001/', 'www.1111.com.tw/corp/2131332/', 'www.1111.com.tw/corp/50758723/', 'www.1111.com.tw/corp/49817291/', 'www.1111.com.tw/corp/10000670/', 'www.1111.com.tw/corp/1845003/', 'www.1111.com.tw/corp/1175534/', 'www.1111.com.tw/corp/50504013/', 'www.1111.com.tw/corp/8961502/', 'www.1111.com.tw/corp/8535070/', 'www.1111.com.tw/corp/9995181/', 'www.1111.com.tw/corp/9720763/', 'www.1111.com.tw/corp/91792/', 'www.1111.com.tw/corp/1287891/', 'www.1111.com.tw/corp/3261/', 'www.1111.com.tw/corp/70673322/', 'www.1111.com.tw/corp/315729/', 'www.1111.com.tw/corp/9781561/', 'www.1111.com.tw/corp/10402559/', 'www.1111.com.tw/corp/405973/', 'www.1111.com.tw/corp/73515424/', 'www.1111.com.tw/corp/8960999/', 'www.1111.com.tw/corp/35771894/', 'www.1111.com.tw/corp/69117183/', 'www.1111.com.tw/corp/51582790/', 'www.1111.com.tw/corp/9480743/', 'www.1111.com.tw/corp/1346302/', 'www.1111.com.tw/corp/3226542/', 'www.1111.com.tw/corp/2765141/', 'www.1111.com.tw/corp/2000230/', 'www.1111.com.tw/corp/1915151/', 'www.1111.com.tw/corp/50280369/', 'www.1111.com.tw/corp/33940169/', 'www.1111.com.tw/corp/1341731/', 'www.1111.com.tw/corp/490284/', 'www.1111.com.tw/corp/2001332/', 'www.1111.com.tw/corp/1263204/', 'www.1111.com.tw/corp/9703819/', 'www.1111.com.tw/corp/1267102/', 'www.1111.com.tw/corp/2787444/', 'www.1111.com.tw/corp/1960931/', 'www.1111.com.tw/corp/485124/', 'www.1111.com.tw/corp/20484/', 'www.1111.com.tw/corp/50751183/', 'www.1111.com.tw/corp/182/', 'www.1111.com.tw/corp/9721259/', 'www.1111.com.tw/corp/69622091/', 'www.1111.com.tw/corp/6832/', 'www.1111.com.tw/corp/315695/', 'www.1111.com.tw/corp/2192184/', 'www.1111.com.tw/corp/125672/', 'www.1111.com.tw/corp/1375084/', 'www.1111.com.tw/corp/2185081/', 'www.1111.com.tw/corp/107741/', 'www.1111.com.tw/corp/71730459/', 'www.1111.com.tw/corp/1252290/', 'www.1111.com.tw/corp/9933/', 'www.1111.com.tw/corp/50496734/', 'www.1111.com.tw/corp/51561480/', 'www.1111.com.tw/corp/2786785/', 'www.1111.com.tw/corp/50133361/', 'www.1111.com.tw/corp/50487691/', 'www.1111.com.tw/corp/1947869/', 'www.1111.com.tw/corp/87115/', 'www.1111.com.tw/corp/527683/', 'www.1111.com.tw/corp/50928203/', 'www.1111.com.tw/corp/2002844/', 'www.1111.com.tw/corp/69589564/', 'www.1111.com.tw/corp/3471/', 'www.1111.com.tw/corp/9592083/', 'www.1111.com.tw/corp/50795672/', 'www.1111.com.tw/corp/1902939/', 'www.1111.com.tw/corp/1880090/', 'www.1111.com.tw/corp/2788584/', 'www.1111.com.tw/corp/69620203/', 'www.1111.com.tw/corp/8325814/', 'www.1111.com.tw/corp/73487672/', 'www.1111.com.tw/corp/73088889/', 'www.1111.com.tw/corp/10065210/', 'www.1111.com.tw/corp/10066679/', 'www.1111.com.tw/corp/1267872/', 'www.1111.com.tw/corp/51656154/', 'www.1111.com.tw/corp/2785413/', 'www.1111.com.tw/corp/69442964/', 'www.1111.com.tw/corp/50017335/', 'www.1111.com.tw/corp/2800332/', 'www.1111.com.tw/corp/50497493/', 'www.1111.com.tw/corp/125793/', 'www.1111.com.tw/corp/71535079/', 'www.1111.com.tw/corp/9912669/', 'www.1111.com.tw/corp/435082/', 'www.1111.com.tw/corp/2788445/', 'www.1111.com.tw/corp/35866243/', 'www.1111.com.tw/corp/98054/', 'www.1111.com.tw/corp/50757694/', 'www.1111.com.tw/corp/2132822/', 'www.1111.com.tw/corp/1853333/', 'www.1111.com.tw/corp/9447423/', 'www.1111.com.tw/corp/8635354/', 'www.1111.com.tw/corp/50515304/', 'www.1111.com.tw/corp/69429589/', 'www.1111.com.tw/corp/68793089/', 'www.1111.com.tw/corp/435781/', 'www.1111.com.tw/corp/10396932/', 'www.1111.com.tw/corp/230743/', 'www.1111.com.tw/corp/2133609/', 'www.1111.com.tw/corp/425310/', 'www.1111.com.tw/corp/50803123/', 'www.1111.com.tw/corp/105120/', 'www.1111.com.tw/corp/51360999/', 'www.1111.com.tw/corp/10002632/', 'www.1111.com.tw/corp/73140149/', 'www.1111.com.tw/corp/68856862/', 'www.1111.com.tw/corp/73480693/', 'www.1111.com.tw/corp/51852249/', 'www.1111.com.tw/corp/73090753/', 'www.1111.com.tw/corp/33940022/', 'www.1111.com.tw/corp/595012/', 'www.1111.com.tw/corp/3502/', 'www.1111.com.tw/corp/51385034/', 'www.1111.com.tw/corp/125324/', 'www.1111.com.tw/corp/130171/', 'www.1111.com.tw/corp/296470/', 'www.1111.com.tw/corp/1252639/', 'www.1111.com.tw/corp/49831174/', 'www.1111.com.tw/corp/1250843/', 'www.1111.com.tw/corp/51472562/', 'www.1111.com.tw/corp/543290/', 'www.1111.com.tw/corp/406773/', 'www.1111.com.tw/corp/2850100/', 'www.1111.com.tw/corp/2770014/', 'www.1111.com.tw/corp/95921/', 'www.1111.com.tw/corp/1883631/', 'www.1111.com.tw/corp/205104/', 'www.1111.com.tw/corp/72424969/', 'www.1111.com.tw/corp/68854851/', 'www.1111.com.tw/corp/1266715/', 'www.1111.com.tw/corp/71722795/', 'www.1111.com.tw/corp/69616014/', 'www.1111.com.tw/corp/1816459/', 'www.1111.com.tw/corp/2902821/', 'www.1111.com.tw/corp/582263/', 'www.1111.com.tw/corp/1780034/', 'www.1111.com.tw/corp/1252393/', 'www.1111.com.tw/corp/52000069/', 'www.1111.com.tw/corp/48511653/', 'www.1111.com.tw/corp/535719/', 'www.1111.com.tw/corp/51545924/', 'www.1111.com.tw/corp/2902955/', 'www.1111.com.tw/corp/8325742/', 'www.1111.com.tw/corp/2800002/', 'www.1111.com.tw/corp/9623840/', 'www.1111.com.tw/corp/49615391/', 'www.1111.com.tw/corp/51585204/', 'www.1111.com.tw/corp/1251143/', 'www.1111.com.tw/corp/430420/', 'www.1111.com.tw/corp/2786443/', 'www.1111.com.tw/corp/291091/', 'www.1111.com.tw/corp/890210/', 'www.1111.com.tw/corp/47154/', 'www.1111.com.tw/corp/73075572/', 'www.1111.com.tw/corp/2131373/', 'www.1111.com.tw/corp/69012984/', 'www.1111.com.tw/corp/73545949/', 'www.1111.com.tw/corp/4092/', 'www.1111.com.tw/corp/51447771/', 'www.1111.com.tw/corp/2900109/', 'www.1111.com.tw/corp/69436253/', 'www.1111.com.tw/corp/1715033/', 'www.1111.com.tw/corp/1903234/', 'www.1111.com.tw/corp/9720013/', 'www.1111.com.tw/corp/10001780/', 'www.1111.com.tw/corp/69012870/', 'www.1111.com.tw/corp/9975332/', 'www.1111.com.tw/corp/69191479/', 'www.1111.com.tw/corp/1900134/', 'www.1111.com.tw/corp/2133852/', 'www.1111.com.tw/corp/9590084/', 'www.1111.com.tw/corp/2765181/', 'www.1111.com.tw/corp/33951225/', 'www.1111.com.tw/corp/48727632/', 'www.1111.com.tw/corp/2900221/', 'www.1111.com.tw/corp/505713/', 'www.1111.com.tw/corp/1845183/', 'www.1111.com.tw/corp/68758684/', 'www.1111.com.tw/corp/2130009/', 'www.1111.com.tw/corp/69009/', 'www.1111.com.tw/corp/8310034/', 'www.1111.com.tw/corp/70024632/', 'www.1111.com.tw/corp/1263963/', 'www.1111.com.tw/corp/9695533/', 'www.1111.com.tw/corp/51052715/', 'www.1111.com.tw/corp/9105/', 'www.1111.com.tw/corp/50390580/', 'www.1111.com.tw/corp/1853011/', 'www.1111.com.tw/corp/105251/', 'www.1111.com.tw/corp/302400/', 'www.1111.com.tw/corp/10581/', 'www.1111.com.tw/corp/68778583/', 'www.1111.com.tw/corp/10400241/', 'www.1111.com.tw/corp/943514/', 'www.1111.com.tw/corp/73515724/', 'www.1111.com.tw/corp/9782079/', 'www.1111.com.tw/corp/73189802/', 'www.1111.com.tw/corp/50816913/', 'www.1111.com.tw/corp/50920973/', 'www.1111.com.tw/corp/1881610/', 'www.1111.com.tw/corp/51556914/', 'www.1111.com.tw/corp/9720469/', 'www.1111.com.tw/corp/1881554/', 'www.1111.com.tw/corp/73538164/', 'www.1111.com.tw/corp/54571143/', 'www.1111.com.tw/corp/9631350/', 'www.1111.com.tw/corp/9620473/', 'www.1111.com.tw/corp/69191389/', 'www.1111.com.tw/corp/54933783/', 'www.1111.com.tw/corp/50518444/', 'www.1111.com.tw/corp/50640479/', 'www.1111.com.tw/corp/410000/', 'www.1111.com.tw/corp/7650/', 'www.1111.com.tw/corp/69444279/', 'www.1111.com.tw/corp/505452/', 'www.1111.com.tw/corp/290420/', 'www.1111.com.tw/corp/36006943/', 'www.1111.com.tw/corp/69129344/', 'www.1111.com.tw/corp/67005433/', 'www.1111.com.tw/corp/1345703/', 'www.1111.com.tw/corp/51395264/', 'www.1111.com.tw/corp/68651220/', 'www.1111.com.tw/corp/34483992/', 'www.1111.com.tw/corp/535161/', 'www.1111.com.tw/corp/2810/', 'www.1111.com.tw/corp/795019/', 'www.1111.com.tw/corp/51583609/', 'www.1111.com.tw/corp/68002732/', 'www.1111.com.tw/corp/69191392/', 'www.1111.com.tw/corp/68643672/', 'www.1111.com.tw/corp/9620741/', 'www.1111.com.tw/corp/1346004/', 'www.1111.com.tw/corp/68947984/', 'www.1111.com.tw/corp/2132334/', 'www.1111.com.tw/corp/2745022/', 'www.1111.com.tw/corp/2191634/', 'www.1111.com.tw/corp/1945571/', 'www.1111.com.tw/corp/68639782/', 'www.1111.com.tw/corp/9525483/', 'www.1111.com.tw/corp/535185/', 'www.1111.com.tw/corp/490264/', 'www.1111.com.tw/corp/10066600/', 'www.1111.com.tw/corp/83/', 'www.1111.com.tw/corp/595024/', 'www.1111.com.tw/corp/535083/', 'www.1111.com.tw/corp/1097890/', 'www.1111.com.tw/corp/36065931/', 'www.1111.com.tw/corp/1342154/', 'www.1111.com.tw/corp/89762/', 'www.1111.com.tw/corp/4991/', 'www.1111.com.tw/corp/33866174/', 'www.1111.com.tw/corp/520011/', 'www.1111.com.tw/corp/71713333/', 'www.1111.com.tw/corp/69429471/', 'www.1111.com.tw/corp/10773/', 'www.1111.com.tw/corp/86010/', 'www.1111.com.tw/corp/69386131/', 'www.1111.com.tw/corp/50575193/', 'www.1111.com.tw/corp/8535469/', 'www.1111.com.tw/corp/51846710/', 'www.1111.com.tw/corp/130061/', 'www.1111.com.tw/corp/50037593/', 'www.1111.com.tw/corp/2190019/', 'www.1111.com.tw/corp/2002141/', 'www.1111.com.tw/corp/71717220/', 'www.1111.com.tw/corp/1263250/', 'www.1111.com.tw/corp/9450234/', 'www.1111.com.tw/corp/1285474/', 'www.1111.com.tw/corp/51525194/', 'www.1111.com.tw/corp/1175152/', 'www.1111.com.tw/corp/7802/', 'www.1111.com.tw/corp/1266969/', 'www.1111.com.tw/corp/2788842/', 'www.1111.com.tw/corp/69013041/', 'www.1111.com.tw/corp/52006283/', 'www.1111.com.tw/corp/51350189/', 'www.1111.com.tw/corp/7039/', 'www.1111.com.tw/corp/2132422/', 'www.1111.com.tw/corp/10347259/', 'www.1111.com.tw/corp/72562150/', 'www.1111.com.tw/corp/48473514/', 'www.1111.com.tw/corp/68638741/', 'www.1111.com.tw/corp/35867211/', 'www.1111.com.tw/corp/329299/', 'www.1111.com.tw/corp/48512194/', 'www.1111.com.tw/corp/10470732/', 'www.1111.com.tw/corp/1180043/', 'www.1111.com.tw/corp/71305132/', 'www.1111.com.tw/corp/1815689/', 'www.1111.com.tw/corp/50665174/', 'www.1111.com.tw/corp/535999/', 'www.1111.com.tw/corp/125330/', 'www.1111.com.tw/corp/1050129/', 'www.1111.com.tw/corp/535254/', 'www.1111.com.tw/corp/2132530/', 'www.1111.com.tw/corp/8960741/', 'www.1111.com.tw/corp/1901854/', 'www.1111.com.tw/corp/51741080/', 'www.1111.com.tw/corp/1901749/', 'www.1111.com.tw/corp/403435/', 'www.1111.com.tw/corp/8962579/']\n"
     ]
    },
    {
     "name": "stdout",
     "output_type": "stream",
     "text": [
      "['www.1111.com.tw/corp/2786359/', 'www.1111.com.tw/corp/50505169/', 'www.1111.com.tw/corp/305260/', 'www.1111.com.tw/corp/67808935/', 'www.1111.com.tw/corp/2133824/', 'www.1111.com.tw/corp/535335/', 'www.1111.com.tw/corp/36070884/', 'www.1111.com.tw/corp/51692992/', 'www.1111.com.tw/corp/416030/', 'www.1111.com.tw/corp/50960171/', 'www.1111.com.tw/corp/51685739/', 'www.1111.com.tw/corp/505321/', 'www.1111.com.tw/corp/8310063/', 'www.1111.com.tw/corp/8961329/', 'www.1111.com.tw/corp/10390559/', 'www.1111.com.tw/corp/1285944/', 'www.1111.com.tw/corp/2132461/', 'www.1111.com.tw/corp/291060/', 'www.1111.com.tw/corp/9597422/', 'www.1111.com.tw/corp/300764/', 'www.1111.com.tw/corp/8962592/', 'www.1111.com.tw/corp/50497534/', 'www.1111.com.tw/corp/9446205/', 'www.1111.com.tw/corp/54510630/', 'www.1111.com.tw/corp/564/', 'www.1111.com.tw/corp/51737730/', 'www.1111.com.tw/corp/10395610/', 'www.1111.com.tw/corp/2133691/', 'www.1111.com.tw/corp/9615191/', 'www.1111.com.tw/corp/36058912/', 'www.1111.com.tw/corp/51456924/', 'www.1111.com.tw/corp/35970329/', 'www.1111.com.tw/corp/1903311/', 'www.1111.com.tw/corp/9900024/', 'www.1111.com.tw/corp/2191550/', 'www.1111.com.tw/corp/1085162/', 'www.1111.com.tw/corp/68626011/', 'www.1111.com.tw/corp/1175622/', 'www.1111.com.tw/corp/1263531/', 'www.1111.com.tw/corp/8945660/', 'www.1111.com.tw/corp/131063/', 'www.1111.com.tw/corp/54570945/', 'www.1111.com.tw/corp/73158561/', 'www.1111.com.tw/corp/35970553/', 'www.1111.com.tw/corp/80002/', 'www.1111.com.tw/corp/890042/', 'www.1111.com.tw/corp/92674/', 'www.1111.com.tw/corp/2000715/', 'www.1111.com.tw/corp/36081969/', 'www.1111.com.tw/corp/1883029/', 'www.1111.com.tw/corp/4312/', 'www.1111.com.tw/corp/510344/', 'www.1111.com.tw/corp/50960932/', 'www.1111.com.tw/corp/51745511/', 'www.1111.com.tw/corp/50037294/', 'www.1111.com.tw/corp/50743785/', 'www.1111.com.tw/corp/542724/', 'www.1111.com.tw/corp/296521/', 'www.1111.com.tw/corp/1340195/', 'www.1111.com.tw/corp/2132985/', 'www.1111.com.tw/corp/98920/', 'www.1111.com.tw/corp/490030/', 'www.1111.com.tw/corp/51583435/', 'www.1111.com.tw/corp/68640843/', 'www.1111.com.tw/corp/420250/', 'www.1111.com.tw/corp/69191386/', 'www.1111.com.tw/corp/8635542/', 'www.1111.com.tw/corp/1341475/', 'www.1111.com.tw/corp/9442981/', 'www.1111.com.tw/corp/35872353/', 'www.1111.com.tw/corp/9780411/', 'www.1111.com.tw/corp/8960302/', 'www.1111.com.tw/corp/50080473/', 'www.1111.com.tw/corp/490302/', 'www.1111.com.tw/corp/1225223/', 'www.1111.com.tw/corp/36201970/', 'www.1111.com.tw/corp/8555111/', 'www.1111.com.tw/corp/328629/', 'www.1111.com.tw/corp/3225300/', 'www.1111.com.tw/corp/67210284/', 'www.1111.com.tw/corp/4252/', 'www.1111.com.tw/corp/36201205/', 'www.1111.com.tw/corp/7623/', 'www.1111.com.tw/corp/68817379/', 'www.1111.com.tw/corp/4911/', 'www.1111.com.tw/corp/2787695/', 'www.1111.com.tw/corp/50743989/', 'www.1111.com.tw/corp/105010/', 'www.1111.com.tw/corp/9628101/', 'www.1111.com.tw/corp/1096964/', 'www.1111.com.tw/corp/68787405/', 'www.1111.com.tw/corp/35945265/', 'www.1111.com.tw/corp/105143/', 'www.1111.com.tw/corp/73339/', 'www.1111.com.tw/corp/9590885/', 'www.1111.com.tw/corp/35868141/', 'www.1111.com.tw/corp/9720414/', 'www.1111.com.tw/corp/2002893/', 'www.1111.com.tw/corp/575090/', 'www.1111.com.tw/corp/69392203/', 'www.1111.com.tw/corp/68819835/', 'www.1111.com.tw/corp/52106074/', 'www.1111.com.tw/corp/73480695/', 'www.1111.com.tw/corp/1250203/', 'www.1111.com.tw/corp/69191385/', 'www.1111.com.tw/corp/71637661/', 'www.1111.com.tw/corp/2850073/', 'www.1111.com.tw/corp/1096051/', 'www.1111.com.tw/corp/72570302/', 'www.1111.com.tw/corp/1289343/', 'www.1111.com.tw/corp/8945059/', 'www.1111.com.tw/corp/69399925/', 'www.1111.com.tw/corp/10070713/', 'www.1111.com.tw/corp/890071/', 'www.1111.com.tw/corp/2002986/', 'www.1111.com.tw/corp/10166/', 'www.1111.com.tw/corp/9780293/', 'www.1111.com.tw/corp/420365/', 'www.1111.com.tw/corp/51655865/', 'www.1111.com.tw/corp/49616149/', 'www.1111.com.tw/corp/298410/', 'www.1111.com.tw/corp/2192251/', 'www.1111.com.tw/corp/48931640/', 'www.1111.com.tw/corp/51829034/', 'www.1111.com.tw/corp/540791/', 'www.1111.com.tw/corp/1097131/', 'www.1111.com.tw/corp/1902613/', 'www.1111.com.tw/corp/14126/', 'www.1111.com.tw/corp/1345601/', 'www.1111.com.tw/corp/33946475/', 'www.1111.com.tw/corp/69616222/', 'www.1111.com.tw/corp/51570393/', 'www.1111.com.tw/corp/50501234/', 'www.1111.com.tw/corp/48326759/', 'www.1111.com.tw/corp/73480692/', 'www.1111.com.tw/corp/1853093/', 'www.1111.com.tw/corp/505849/', 'www.1111.com.tw/corp/8795062/', 'www.1111.com.tw/corp/90324/', 'www.1111.com.tw/corp/9622349/', 'www.1111.com.tw/corp/50740053/', 'www.1111.com.tw/corp/73218015/', 'www.1111.com.tw/corp/72425231/', 'www.1111.com.tw/corp/435299/', 'www.1111.com.tw/corp/72428992/', 'www.1111.com.tw/corp/10396273/', 'www.1111.com.tw/corp/51686600/', 'www.1111.com.tw/corp/436040/', 'www.1111.com.tw/corp/35865902/', 'www.1111.com.tw/corp/69421462/', 'www.1111.com.tw/corp/1285919/', 'www.1111.com.tw/corp/71697219/', 'www.1111.com.tw/corp/50743132/', 'www.1111.com.tw/corp/542134/', 'www.1111.com.tw/corp/69393669/', 'www.1111.com.tw/corp/35975289/', 'www.1111.com.tw/corp/51935021/', 'www.1111.com.tw/corp/1947924/', 'www.1111.com.tw/corp/67569835/', 'www.1111.com.tw/corp/2000322/', 'www.1111.com.tw/corp/1961010/', 'www.1111.com.tw/corp/9441474/', 'www.1111.com.tw/corp/151506/', 'www.1111.com.tw/corp/69447720/', 'www.1111.com.tw/corp/49860151/', 'www.1111.com.tw/corp/1903196/', 'www.1111.com.tw/corp/9912579/', 'www.1111.com.tw/corp/435745/', 'www.1111.com.tw/corp/542829/', 'www.1111.com.tw/corp/51530645/', 'www.1111.com.tw/corp/9996970/', 'www.1111.com.tw/corp/1355011/', 'www.1111.com.tw/corp/1850440/', 'www.1111.com.tw/corp/8325616/', 'www.1111.com.tw/corp/50928100/', 'www.1111.com.tw/corp/9720359/', 'www.1111.com.tw/corp/583705/', 'www.1111.com.tw/corp/1055292/', 'www.1111.com.tw/corp/73480694/', 'www.1111.com.tw/corp/50816449/', 'www.1111.com.tw/corp/51302399/', 'www.1111.com.tw/corp/51455599/', 'www.1111.com.tw/corp/291473/', 'www.1111.com.tw/corp/505103/', 'www.1111.com.tw/corp/8945462/', 'www.1111.com.tw/corp/9990404/', 'www.1111.com.tw/corp/9771792/', 'www.1111.com.tw/corp/51457412/', 'www.1111.com.tw/corp/50951070/', 'www.1111.com.tw/corp/9441695/', 'www.1111.com.tw/corp/69433321/', 'www.1111.com.tw/corp/2191656/', 'www.1111.com.tw/corp/9995275/', 'www.1111.com.tw/corp/71058265/', 'www.1111.com.tw/corp/49455889/', 'www.1111.com.tw/corp/3225951/', 'www.1111.com.tw/corp/9440050/', 'www.1111.com.tw/corp/131313/', 'www.1111.com.tw/corp/51688652/', 'www.1111.com.tw/corp/5163/', 'www.1111.com.tw/corp/69425985/', 'www.1111.com.tw/corp/2133645/', 'www.1111.com.tw/corp/2901070/', 'www.1111.com.tw/corp/36071925/', 'www.1111.com.tw/corp/73515963/', 'www.1111.com.tw/corp/54530625/', 'www.1111.com.tw/corp/9722909/', 'www.1111.com.tw/corp/9526330/', 'www.1111.com.tw/corp/51466001/', 'www.1111.com.tw/corp/2131332/', 'www.1111.com.tw/corp/50758723/', 'www.1111.com.tw/corp/49817291/', 'www.1111.com.tw/corp/390206/', 'www.1111.com.tw/corp/10000670/', 'www.1111.com.tw/corp/1845003/', 'www.1111.com.tw/corp/1175534/', 'www.1111.com.tw/corp/50504013/', 'www.1111.com.tw/corp/8961502/', 'www.1111.com.tw/corp/2850225/', 'www.1111.com.tw/corp/8535070/', 'www.1111.com.tw/corp/9995181/', 'www.1111.com.tw/corp/543795/', 'www.1111.com.tw/corp/9720763/', 'www.1111.com.tw/corp/91792/', 'www.1111.com.tw/corp/1287891/', 'www.1111.com.tw/corp/3261/', 'www.1111.com.tw/corp/70673322/', 'www.1111.com.tw/corp/315729/', 'www.1111.com.tw/corp/9781561/', 'www.1111.com.tw/corp/10402559/', 'www.1111.com.tw/corp/405973/', 'www.1111.com.tw/corp/73515424/', 'www.1111.com.tw/corp/8960999/', 'www.1111.com.tw/corp/35771894/', 'www.1111.com.tw/corp/69117183/', 'www.1111.com.tw/corp/51582790/', 'www.1111.com.tw/corp/9480743/', 'www.1111.com.tw/corp/1346302/', 'www.1111.com.tw/corp/3226542/', 'www.1111.com.tw/corp/10390435/', 'www.1111.com.tw/corp/2765141/', 'www.1111.com.tw/corp/2000230/', 'www.1111.com.tw/corp/1915151/', 'www.1111.com.tw/corp/50280369/', 'www.1111.com.tw/corp/33940169/', 'www.1111.com.tw/corp/1341731/', 'www.1111.com.tw/corp/490284/', 'www.1111.com.tw/corp/2001332/', 'www.1111.com.tw/corp/1263204/', 'www.1111.com.tw/corp/9703819/', 'www.1111.com.tw/corp/1267102/', 'www.1111.com.tw/corp/2787444/', 'www.1111.com.tw/corp/1960931/', 'www.1111.com.tw/corp/485124/', 'www.1111.com.tw/corp/54936975/', 'www.1111.com.tw/corp/20484/', 'www.1111.com.tw/corp/430016/', 'www.1111.com.tw/corp/50751183/', 'www.1111.com.tw/corp/182/', 'www.1111.com.tw/corp/9721259/', 'www.1111.com.tw/corp/69622091/', 'www.1111.com.tw/corp/6832/', 'www.1111.com.tw/corp/315695/', 'www.1111.com.tw/corp/2192184/', 'www.1111.com.tw/corp/291585/', 'www.1111.com.tw/corp/9997055/', 'www.1111.com.tw/corp/1096056/', 'www.1111.com.tw/corp/125672/', 'www.1111.com.tw/corp/1375084/', 'www.1111.com.tw/corp/10340485/', 'www.1111.com.tw/corp/2185081/', 'www.1111.com.tw/corp/107741/', 'www.1111.com.tw/corp/71730459/', 'www.1111.com.tw/corp/1252290/', 'www.1111.com.tw/corp/9933/', 'www.1111.com.tw/corp/50496734/', 'www.1111.com.tw/corp/51561480/', 'www.1111.com.tw/corp/2786785/', 'www.1111.com.tw/corp/50133361/', 'www.1111.com.tw/corp/50487691/', 'www.1111.com.tw/corp/1947869/', 'www.1111.com.tw/corp/87115/', 'www.1111.com.tw/corp/527683/', 'www.1111.com.tw/corp/50928203/', 'www.1111.com.tw/corp/2002844/', 'www.1111.com.tw/corp/48513646/', 'www.1111.com.tw/corp/69589564/', 'www.1111.com.tw/corp/3471/', 'www.1111.com.tw/corp/9592083/', 'www.1111.com.tw/corp/50795672/', 'www.1111.com.tw/corp/1902939/', 'www.1111.com.tw/corp/315526/', 'www.1111.com.tw/corp/1880090/', 'www.1111.com.tw/corp/2788584/', 'www.1111.com.tw/corp/1070075/', 'www.1111.com.tw/corp/69620203/', 'www.1111.com.tw/corp/8325814/', 'www.1111.com.tw/corp/73487672/', 'www.1111.com.tw/corp/73088889/', 'www.1111.com.tw/corp/10065210/', 'www.1111.com.tw/corp/10066679/', 'www.1111.com.tw/corp/1267872/', 'www.1111.com.tw/corp/51656154/', 'www.1111.com.tw/corp/2785413/', 'www.1111.com.tw/corp/69442964/', 'www.1111.com.tw/corp/50017335/', 'www.1111.com.tw/corp/2800332/', 'www.1111.com.tw/corp/2132676/', 'www.1111.com.tw/corp/50497493/', 'www.1111.com.tw/corp/125793/', 'www.1111.com.tw/corp/71535079/', 'www.1111.com.tw/corp/9912669/', 'www.1111.com.tw/corp/435082/', 'www.1111.com.tw/corp/2788445/', 'www.1111.com.tw/corp/35866243/', 'www.1111.com.tw/corp/98054/', 'www.1111.com.tw/corp/70505/', 'www.1111.com.tw/corp/50757694/', 'www.1111.com.tw/corp/2132822/', 'www.1111.com.tw/corp/2915115/', 'www.1111.com.tw/corp/9910605/', 'www.1111.com.tw/corp/1853333/', 'www.1111.com.tw/corp/9447423/', 'www.1111.com.tw/corp/8635354/', 'www.1111.com.tw/corp/1345485/', 'www.1111.com.tw/corp/50515304/', 'www.1111.com.tw/corp/69429589/', 'www.1111.com.tw/corp/435781/', 'www.1111.com.tw/corp/68793089/', 'www.1111.com.tw/corp/10396932/', 'www.1111.com.tw/corp/230743/', 'www.1111.com.tw/corp/2133609/', 'www.1111.com.tw/corp/425310/', 'www.1111.com.tw/corp/50803123/', 'www.1111.com.tw/corp/1267145/', 'www.1111.com.tw/corp/105120/', 'www.1111.com.tw/corp/51360999/', 'www.1111.com.tw/corp/10002632/', 'www.1111.com.tw/corp/73140149/', 'www.1111.com.tw/corp/68856862/', 'www.1111.com.tw/corp/73480693/', 'www.1111.com.tw/corp/51852249/', 'www.1111.com.tw/corp/73090753/', 'www.1111.com.tw/corp/33940022/', 'www.1111.com.tw/corp/595012/', 'www.1111.com.tw/corp/3502/', 'www.1111.com.tw/corp/51385034/', 'www.1111.com.tw/corp/125324/', 'www.1111.com.tw/corp/50630945/', 'www.1111.com.tw/corp/51447295/', 'www.1111.com.tw/corp/130171/', 'www.1111.com.tw/corp/296470/', 'www.1111.com.tw/corp/1252639/', 'www.1111.com.tw/corp/49831174/', 'www.1111.com.tw/corp/8325515/', 'www.1111.com.tw/corp/1250843/', 'www.1111.com.tw/corp/51472562/', 'www.1111.com.tw/corp/73174486/', 'www.1111.com.tw/corp/543290/', 'www.1111.com.tw/corp/51301845/', 'www.1111.com.tw/corp/406773/', 'www.1111.com.tw/corp/2850100/', 'www.1111.com.tw/corp/2770014/', 'www.1111.com.tw/corp/95921/', 'www.1111.com.tw/corp/100765/', 'www.1111.com.tw/corp/51723035/', 'www.1111.com.tw/corp/1883631/', 'www.1111.com.tw/corp/205104/', 'www.1111.com.tw/corp/10410036/', 'www.1111.com.tw/corp/72424969/', 'www.1111.com.tw/corp/68854851/', 'www.1111.com.tw/corp/1266715/', 'www.1111.com.tw/corp/71722795/', 'www.1111.com.tw/corp/69616014/', 'www.1111.com.tw/corp/1816459/', 'www.1111.com.tw/corp/2902821/', 'www.1111.com.tw/corp/582263/', 'www.1111.com.tw/corp/1780034/', 'www.1111.com.tw/corp/1252393/', 'www.1111.com.tw/corp/52000069/', 'www.1111.com.tw/corp/67326876/', 'www.1111.com.tw/corp/48511653/', 'www.1111.com.tw/corp/535719/', 'www.1111.com.tw/corp/51545924/', 'www.1111.com.tw/corp/2902955/', 'www.1111.com.tw/corp/8325742/', 'www.1111.com.tw/corp/2800002/', 'www.1111.com.tw/corp/9623840/', 'www.1111.com.tw/corp/49615391/', 'www.1111.com.tw/corp/51585204/', 'www.1111.com.tw/corp/1251143/', 'www.1111.com.tw/corp/430420/', 'www.1111.com.tw/corp/2786443/', 'www.1111.com.tw/corp/291091/', 'www.1111.com.tw/corp/890210/', 'www.1111.com.tw/corp/47154/', 'www.1111.com.tw/corp/73075572/', 'www.1111.com.tw/corp/2131373/', 'www.1111.com.tw/corp/69012984/', 'www.1111.com.tw/corp/67037495/', 'www.1111.com.tw/corp/73545949/', 'www.1111.com.tw/corp/4092/', 'www.1111.com.tw/corp/69386196/', 'www.1111.com.tw/corp/51447771/', 'www.1111.com.tw/corp/2900109/', 'www.1111.com.tw/corp/69436253/', 'www.1111.com.tw/corp/1715033/', 'www.1111.com.tw/corp/1903234/', 'www.1111.com.tw/corp/9720013/', 'www.1111.com.tw/corp/10001780/', 'www.1111.com.tw/corp/69012870/', 'www.1111.com.tw/corp/9975332/', 'www.1111.com.tw/corp/69191479/', 'www.1111.com.tw/corp/1900134/', 'www.1111.com.tw/corp/2133852/', 'www.1111.com.tw/corp/9590084/', 'www.1111.com.tw/corp/69450235/', 'www.1111.com.tw/corp/2765181/', 'www.1111.com.tw/corp/33951225/', 'www.1111.com.tw/corp/48727632/', 'www.1111.com.tw/corp/2900221/', 'www.1111.com.tw/corp/505713/', 'www.1111.com.tw/corp/1845183/', 'www.1111.com.tw/corp/68758684/', 'www.1111.com.tw/corp/2130009/', 'www.1111.com.tw/corp/49845006/', 'www.1111.com.tw/corp/69009/', 'www.1111.com.tw/corp/8310034/', 'www.1111.com.tw/corp/70024632/', 'www.1111.com.tw/corp/1263963/', 'www.1111.com.tw/corp/9695533/', 'www.1111.com.tw/corp/51052715/', 'www.1111.com.tw/corp/9105/', 'www.1111.com.tw/corp/50390580/', 'www.1111.com.tw/corp/1853011/', 'www.1111.com.tw/corp/105251/', 'www.1111.com.tw/corp/302400/', 'www.1111.com.tw/corp/10581/', 'www.1111.com.tw/corp/68778583/', 'www.1111.com.tw/corp/10400241/', 'www.1111.com.tw/corp/1280296/', 'www.1111.com.tw/corp/71303836/', 'www.1111.com.tw/corp/943514/', 'www.1111.com.tw/corp/73515724/', 'www.1111.com.tw/corp/9782079/', 'www.1111.com.tw/corp/73189802/', 'www.1111.com.tw/corp/50816913/', 'www.1111.com.tw/corp/50920973/', 'www.1111.com.tw/corp/73504075/', 'www.1111.com.tw/corp/50168745/', 'www.1111.com.tw/corp/69442435/', 'www.1111.com.tw/corp/1881610/', 'www.1111.com.tw/corp/51556914/', 'www.1111.com.tw/corp/9720469/', 'www.1111.com.tw/corp/48350365/', 'www.1111.com.tw/corp/1881554/', 'www.1111.com.tw/corp/73538164/', 'www.1111.com.tw/corp/290855/', 'www.1111.com.tw/corp/54571143/', 'www.1111.com.tw/corp/9631350/', 'www.1111.com.tw/corp/9620473/', 'www.1111.com.tw/corp/69191389/', 'www.1111.com.tw/corp/54933783/', 'www.1111.com.tw/corp/50518444/', 'www.1111.com.tw/corp/50640479/', 'www.1111.com.tw/corp/410000/', 'www.1111.com.tw/corp/10343476/', 'www.1111.com.tw/corp/7650/', 'www.1111.com.tw/corp/69444279/', 'www.1111.com.tw/corp/505452/', 'www.1111.com.tw/corp/290420/', 'www.1111.com.tw/corp/36006943/', 'www.1111.com.tw/corp/69129344/', 'www.1111.com.tw/corp/67005433/', 'www.1111.com.tw/corp/1345703/', 'www.1111.com.tw/corp/51395264/', 'www.1111.com.tw/corp/68651220/', 'www.1111.com.tw/corp/34483992/', 'www.1111.com.tw/corp/535161/', 'www.1111.com.tw/corp/9622725/', 'www.1111.com.tw/corp/2810/', 'www.1111.com.tw/corp/795019/', 'www.1111.com.tw/corp/51583609/', 'www.1111.com.tw/corp/68002732/', 'www.1111.com.tw/corp/69191392/', 'www.1111.com.tw/corp/8415/', 'www.1111.com.tw/corp/68643672/', 'www.1111.com.tw/corp/9620741/', 'www.1111.com.tw/corp/1346004/', 'www.1111.com.tw/corp/68947984/', 'www.1111.com.tw/corp/67801005/', 'www.1111.com.tw/corp/2132334/', 'www.1111.com.tw/corp/2003306/', 'www.1111.com.tw/corp/2745022/', 'www.1111.com.tw/corp/2191634/', 'www.1111.com.tw/corp/1945571/', 'www.1111.com.tw/corp/68639782/', 'www.1111.com.tw/corp/9525483/', 'www.1111.com.tw/corp/535185/', 'www.1111.com.tw/corp/490264/', 'www.1111.com.tw/corp/10066600/', 'www.1111.com.tw/corp/2180015/', 'www.1111.com.tw/corp/83/', 'www.1111.com.tw/corp/595024/', 'www.1111.com.tw/corp/535083/', 'www.1111.com.tw/corp/1097890/', 'www.1111.com.tw/corp/72518496/', 'www.1111.com.tw/corp/36203465/', 'www.1111.com.tw/corp/36065931/', 'www.1111.com.tw/corp/1342154/', 'www.1111.com.tw/corp/89762/', 'www.1111.com.tw/corp/4991/', 'www.1111.com.tw/corp/1252486/', 'www.1111.com.tw/corp/33866174/', 'www.1111.com.tw/corp/50131815/', 'www.1111.com.tw/corp/520011/', 'www.1111.com.tw/corp/71713333/', 'www.1111.com.tw/corp/69429471/', 'www.1111.com.tw/corp/10773/', 'www.1111.com.tw/corp/86010/', 'www.1111.com.tw/corp/69386131/', 'www.1111.com.tw/corp/50575193/', 'www.1111.com.tw/corp/1263525/', 'www.1111.com.tw/corp/8535469/', 'www.1111.com.tw/corp/1344596/', 'www.1111.com.tw/corp/51846710/', 'www.1111.com.tw/corp/130061/', 'www.1111.com.tw/corp/50037593/', 'www.1111.com.tw/corp/2133906/', 'www.1111.com.tw/corp/2190019/', 'www.1111.com.tw/corp/536226/', 'www.1111.com.tw/corp/2002141/', 'www.1111.com.tw/corp/51550365/', 'www.1111.com.tw/corp/71717220/', 'www.1111.com.tw/corp/1263250/', 'www.1111.com.tw/corp/9450234/', 'www.1111.com.tw/corp/1285474/', 'www.1111.com.tw/corp/51525194/', 'www.1111.com.tw/corp/1175152/', 'www.1111.com.tw/corp/50035676/', 'www.1111.com.tw/corp/49788816/', 'www.1111.com.tw/corp/7802/', 'www.1111.com.tw/corp/1266969/', 'www.1111.com.tw/corp/2788842/', 'www.1111.com.tw/corp/69013041/', 'www.1111.com.tw/corp/52006283/', 'www.1111.com.tw/corp/1340005/', 'www.1111.com.tw/corp/51350189/', 'www.1111.com.tw/corp/7039/', 'www.1111.com.tw/corp/2132422/', 'www.1111.com.tw/corp/10347259/', 'www.1111.com.tw/corp/72562150/', 'www.1111.com.tw/corp/48473514/', 'www.1111.com.tw/corp/68638741/', 'www.1111.com.tw/corp/35867211/', 'www.1111.com.tw/corp/329299/', 'www.1111.com.tw/corp/9850236/', 'www.1111.com.tw/corp/48512194/', 'www.1111.com.tw/corp/10470732/', 'www.1111.com.tw/corp/535375/', 'www.1111.com.tw/corp/1180043/', 'www.1111.com.tw/corp/71305132/', 'www.1111.com.tw/corp/1815689/', 'www.1111.com.tw/corp/50665174/', 'www.1111.com.tw/corp/535999/', 'www.1111.com.tw/corp/125330/', 'www.1111.com.tw/corp/1050129/', 'www.1111.com.tw/corp/535254/', 'www.1111.com.tw/corp/2132530/', 'www.1111.com.tw/corp/8960741/', 'www.1111.com.tw/corp/1901854/', 'www.1111.com.tw/corp/51741080/', 'www.1111.com.tw/corp/1286545/', 'www.1111.com.tw/corp/1901749/', 'www.1111.com.tw/corp/403435/', 'www.1111.com.tw/corp/8962579/', 'www.1111.com.tw/corp/48881895/', 'www.1111.com.tw/corp/890105/']\n"
     ]
    },
    {
     "name": "stdout",
     "output_type": "stream",
     "text": [
      "['www.1111.com.tw/corp/2786359/', 'www.1111.com.tw/corp/50505169/', 'www.1111.com.tw/corp/305260/', 'www.1111.com.tw/corp/67808935/', 'www.1111.com.tw/corp/2133824/', 'www.1111.com.tw/corp/535335/', 'www.1111.com.tw/corp/36070884/', 'www.1111.com.tw/corp/51692992/', 'www.1111.com.tw/corp/416030/', 'www.1111.com.tw/corp/50960171/', 'www.1111.com.tw/corp/51685739/', 'www.1111.com.tw/corp/505321/', 'www.1111.com.tw/corp/8310063/', 'www.1111.com.tw/corp/6646/', 'www.1111.com.tw/corp/50485337/', 'www.1111.com.tw/corp/2003577/', 'www.1111.com.tw/corp/8961329/', 'www.1111.com.tw/corp/10067506/', 'www.1111.com.tw/corp/10390559/', 'www.1111.com.tw/corp/1285944/', 'www.1111.com.tw/corp/2132461/', 'www.1111.com.tw/corp/291060/', 'www.1111.com.tw/corp/9597422/', 'www.1111.com.tw/corp/300764/', 'www.1111.com.tw/corp/36005937/', 'www.1111.com.tw/corp/8962592/', 'www.1111.com.tw/corp/50497534/', 'www.1111.com.tw/corp/9446205/', 'www.1111.com.tw/corp/54510630/', 'www.1111.com.tw/corp/564/', 'www.1111.com.tw/corp/51737730/', 'www.1111.com.tw/corp/10395610/', 'www.1111.com.tw/corp/2133691/', 'www.1111.com.tw/corp/9615191/', 'www.1111.com.tw/corp/36058912/', 'www.1111.com.tw/corp/51456924/', 'www.1111.com.tw/corp/35970329/', 'www.1111.com.tw/corp/1903311/', 'www.1111.com.tw/corp/9900024/', 'www.1111.com.tw/corp/8635527/', 'www.1111.com.tw/corp/2191550/', 'www.1111.com.tw/corp/1085162/', 'www.1111.com.tw/corp/68626011/', 'www.1111.com.tw/corp/1175622/', 'www.1111.com.tw/corp/1263531/', 'www.1111.com.tw/corp/131063/', 'www.1111.com.tw/corp/8945660/', 'www.1111.com.tw/corp/54570945/', 'www.1111.com.tw/corp/50756536/', 'www.1111.com.tw/corp/73158561/', 'www.1111.com.tw/corp/2765266/', 'www.1111.com.tw/corp/35970553/', 'www.1111.com.tw/corp/80002/', 'www.1111.com.tw/corp/1305047/', 'www.1111.com.tw/corp/890042/', 'www.1111.com.tw/corp/92674/', 'www.1111.com.tw/corp/2000715/', 'www.1111.com.tw/corp/36081969/', 'www.1111.com.tw/corp/2785177/', 'www.1111.com.tw/corp/1883029/', 'www.1111.com.tw/corp/4312/', 'www.1111.com.tw/corp/510344/', 'www.1111.com.tw/corp/50960932/', 'www.1111.com.tw/corp/51745511/', 'www.1111.com.tw/corp/50037294/', 'www.1111.com.tw/corp/50743785/', 'www.1111.com.tw/corp/542724/', 'www.1111.com.tw/corp/296521/', 'www.1111.com.tw/corp/1340195/', 'www.1111.com.tw/corp/10400097/', 'www.1111.com.tw/corp/2132985/', 'www.1111.com.tw/corp/98920/', 'www.1111.com.tw/corp/490030/', 'www.1111.com.tw/corp/51583435/', 'www.1111.com.tw/corp/68640843/', 'www.1111.com.tw/corp/2003017/', 'www.1111.com.tw/corp/420250/', 'www.1111.com.tw/corp/69191386/', 'www.1111.com.tw/corp/51683537/', 'www.1111.com.tw/corp/8635542/', 'www.1111.com.tw/corp/1341475/', 'www.1111.com.tw/corp/9442981/', 'www.1111.com.tw/corp/541056/', 'www.1111.com.tw/corp/35872353/', 'www.1111.com.tw/corp/9780411/', 'www.1111.com.tw/corp/8960302/', 'www.1111.com.tw/corp/50080473/', 'www.1111.com.tw/corp/490302/', 'www.1111.com.tw/corp/1225223/', 'www.1111.com.tw/corp/4107/', 'www.1111.com.tw/corp/36201970/', 'www.1111.com.tw/corp/8555111/', 'www.1111.com.tw/corp/328629/', 'www.1111.com.tw/corp/3225300/', 'www.1111.com.tw/corp/67210284/', 'www.1111.com.tw/corp/4252/', 'www.1111.com.tw/corp/36201205/', 'www.1111.com.tw/corp/7623/', 'www.1111.com.tw/corp/68817379/', 'www.1111.com.tw/corp/4911/', 'www.1111.com.tw/corp/2787695/', 'www.1111.com.tw/corp/50743989/', 'www.1111.com.tw/corp/205176/', 'www.1111.com.tw/corp/105010/', 'www.1111.com.tw/corp/9628101/', 'www.1111.com.tw/corp/1096964/', 'www.1111.com.tw/corp/68787405/', 'www.1111.com.tw/corp/35945265/', 'www.1111.com.tw/corp/105143/', 'www.1111.com.tw/corp/73339/', 'www.1111.com.tw/corp/2787066/', 'www.1111.com.tw/corp/9590885/', 'www.1111.com.tw/corp/35868141/', 'www.1111.com.tw/corp/9720414/', 'www.1111.com.tw/corp/2002893/', 'www.1111.com.tw/corp/575090/', 'www.1111.com.tw/corp/69392203/', 'www.1111.com.tw/corp/68819835/', 'www.1111.com.tw/corp/52106074/', 'www.1111.com.tw/corp/73480695/', 'www.1111.com.tw/corp/1250203/', 'www.1111.com.tw/corp/69191385/', 'www.1111.com.tw/corp/71637661/', 'www.1111.com.tw/corp/2850073/', 'www.1111.com.tw/corp/1096051/', 'www.1111.com.tw/corp/72570302/', 'www.1111.com.tw/corp/1289343/', 'www.1111.com.tw/corp/8945059/', 'www.1111.com.tw/corp/69399925/', 'www.1111.com.tw/corp/10070713/', 'www.1111.com.tw/corp/890071/', 'www.1111.com.tw/corp/2002986/', 'www.1111.com.tw/corp/9902757/', 'www.1111.com.tw/corp/10166/', 'www.1111.com.tw/corp/9780293/', 'www.1111.com.tw/corp/420365/', 'www.1111.com.tw/corp/51655865/', 'www.1111.com.tw/corp/49616149/', 'www.1111.com.tw/corp/298410/', 'www.1111.com.tw/corp/2192251/', 'www.1111.com.tw/corp/48931640/', 'www.1111.com.tw/corp/51829034/', 'www.1111.com.tw/corp/540791/', 'www.1111.com.tw/corp/1097131/', 'www.1111.com.tw/corp/1902613/', 'www.1111.com.tw/corp/1263586/', 'www.1111.com.tw/corp/14126/', 'www.1111.com.tw/corp/1345601/', 'www.1111.com.tw/corp/33946475/', 'www.1111.com.tw/corp/69616222/', 'www.1111.com.tw/corp/51570393/', 'www.1111.com.tw/corp/50501234/', 'www.1111.com.tw/corp/48326759/', 'www.1111.com.tw/corp/73480692/', 'www.1111.com.tw/corp/1853093/', 'www.1111.com.tw/corp/505849/', 'www.1111.com.tw/corp/8795062/', 'www.1111.com.tw/corp/90324/', 'www.1111.com.tw/corp/9622349/', 'www.1111.com.tw/corp/50740053/', 'www.1111.com.tw/corp/73218015/', 'www.1111.com.tw/corp/72425231/', 'www.1111.com.tw/corp/435299/', 'www.1111.com.tw/corp/72428992/', 'www.1111.com.tw/corp/10396273/', 'www.1111.com.tw/corp/51686600/', 'www.1111.com.tw/corp/436040/', 'www.1111.com.tw/corp/35865902/', 'www.1111.com.tw/corp/50945316/', 'www.1111.com.tw/corp/69421462/', 'www.1111.com.tw/corp/1285919/', 'www.1111.com.tw/corp/71697219/', 'www.1111.com.tw/corp/50743132/', 'www.1111.com.tw/corp/542134/', 'www.1111.com.tw/corp/69393669/', 'www.1111.com.tw/corp/35975289/', 'www.1111.com.tw/corp/51935021/', 'www.1111.com.tw/corp/1947924/', 'www.1111.com.tw/corp/67569835/', 'www.1111.com.tw/corp/2000322/', 'www.1111.com.tw/corp/1961010/', 'www.1111.com.tw/corp/9441474/', 'www.1111.com.tw/corp/1096926/', 'www.1111.com.tw/corp/51077626/', 'www.1111.com.tw/corp/416146/', 'www.1111.com.tw/corp/151506/', 'www.1111.com.tw/corp/69447720/', 'www.1111.com.tw/corp/2000717/', 'www.1111.com.tw/corp/49860151/', 'www.1111.com.tw/corp/1903196/', 'www.1111.com.tw/corp/9912579/', 'www.1111.com.tw/corp/435745/', 'www.1111.com.tw/corp/542829/', 'www.1111.com.tw/corp/51530645/', 'www.1111.com.tw/corp/9996970/', 'www.1111.com.tw/corp/1355011/', 'www.1111.com.tw/corp/1850440/', 'www.1111.com.tw/corp/8325616/', 'www.1111.com.tw/corp/50928100/', 'www.1111.com.tw/corp/9720359/', 'www.1111.com.tw/corp/69059087/', 'www.1111.com.tw/corp/583705/', 'www.1111.com.tw/corp/1055292/', 'www.1111.com.tw/corp/73480694/', 'www.1111.com.tw/corp/50816449/', 'www.1111.com.tw/corp/51302399/', 'www.1111.com.tw/corp/51455599/', 'www.1111.com.tw/corp/291473/', 'www.1111.com.tw/corp/505103/', 'www.1111.com.tw/corp/8945462/', 'www.1111.com.tw/corp/9990404/', 'www.1111.com.tw/corp/51456137/', 'www.1111.com.tw/corp/9771792/', 'www.1111.com.tw/corp/51457412/', 'www.1111.com.tw/corp/50951070/', 'www.1111.com.tw/corp/9441695/', 'www.1111.com.tw/corp/69433321/', 'www.1111.com.tw/corp/2191656/', 'www.1111.com.tw/corp/9995275/', 'www.1111.com.tw/corp/71058265/', 'www.1111.com.tw/corp/9565216/', 'www.1111.com.tw/corp/49455889/', 'www.1111.com.tw/corp/3225951/', 'www.1111.com.tw/corp/9440050/', 'www.1111.com.tw/corp/131313/', 'www.1111.com.tw/corp/51688652/', 'www.1111.com.tw/corp/5163/', 'www.1111.com.tw/corp/69425985/', 'www.1111.com.tw/corp/2132076/', 'www.1111.com.tw/corp/583487/', 'www.1111.com.tw/corp/69649077/', 'www.1111.com.tw/corp/795096/', 'www.1111.com.tw/corp/2133645/', 'www.1111.com.tw/corp/2901070/', 'www.1111.com.tw/corp/1690037/', 'www.1111.com.tw/corp/36071925/', 'www.1111.com.tw/corp/73515963/', 'www.1111.com.tw/corp/54530625/', 'www.1111.com.tw/corp/9722909/', 'www.1111.com.tw/corp/9526330/', 'www.1111.com.tw/corp/9591757/', 'www.1111.com.tw/corp/2130216/', 'www.1111.com.tw/corp/51466001/', 'www.1111.com.tw/corp/2131332/', 'www.1111.com.tw/corp/50758723/', 'www.1111.com.tw/corp/535237/', 'www.1111.com.tw/corp/49817291/', 'www.1111.com.tw/corp/390206/', 'www.1111.com.tw/corp/10000670/', 'www.1111.com.tw/corp/1845003/', 'www.1111.com.tw/corp/1175534/', 'www.1111.com.tw/corp/50504013/', 'www.1111.com.tw/corp/50922607/', 'www.1111.com.tw/corp/8961502/', 'www.1111.com.tw/corp/51650706/', 'www.1111.com.tw/corp/2850225/', 'www.1111.com.tw/corp/8535070/', 'www.1111.com.tw/corp/9995181/', 'www.1111.com.tw/corp/48510116/', 'www.1111.com.tw/corp/1817327/', 'www.1111.com.tw/corp/543795/', 'www.1111.com.tw/corp/9720763/', 'www.1111.com.tw/corp/91792/', 'www.1111.com.tw/corp/9450296/', 'www.1111.com.tw/corp/1287891/', 'www.1111.com.tw/corp/3261/', 'www.1111.com.tw/corp/70673322/', 'www.1111.com.tw/corp/315729/', 'www.1111.com.tw/corp/9781561/', 'www.1111.com.tw/corp/10402559/', 'www.1111.com.tw/corp/405973/', 'www.1111.com.tw/corp/73515424/', 'www.1111.com.tw/corp/8960999/', 'www.1111.com.tw/corp/35771894/', 'www.1111.com.tw/corp/69117183/', 'www.1111.com.tw/corp/51582790/', 'www.1111.com.tw/corp/9480743/', 'www.1111.com.tw/corp/1346302/', 'www.1111.com.tw/corp/3226542/', 'www.1111.com.tw/corp/51945757/', 'www.1111.com.tw/corp/10390435/', 'www.1111.com.tw/corp/2765141/', 'www.1111.com.tw/corp/2000230/', 'www.1111.com.tw/corp/1915151/', 'www.1111.com.tw/corp/50280369/', 'www.1111.com.tw/corp/33940169/', 'www.1111.com.tw/corp/1341731/', 'www.1111.com.tw/corp/490284/', 'www.1111.com.tw/corp/48880036/', 'www.1111.com.tw/corp/2001332/', 'www.1111.com.tw/corp/305006/', 'www.1111.com.tw/corp/1263204/', 'www.1111.com.tw/corp/9703819/', 'www.1111.com.tw/corp/1267102/', 'www.1111.com.tw/corp/2787444/', 'www.1111.com.tw/corp/1960931/', 'www.1111.com.tw/corp/485124/', 'www.1111.com.tw/corp/54936975/', 'www.1111.com.tw/corp/50830597/', 'www.1111.com.tw/corp/20484/', 'www.1111.com.tw/corp/430016/', 'www.1111.com.tw/corp/50751183/', 'www.1111.com.tw/corp/182/', 'www.1111.com.tw/corp/9721259/', 'www.1111.com.tw/corp/69622091/', 'www.1111.com.tw/corp/6832/', 'www.1111.com.tw/corp/315695/', 'www.1111.com.tw/corp/2192184/', 'www.1111.com.tw/corp/69588457/', 'www.1111.com.tw/corp/291585/', 'www.1111.com.tw/corp/2850037/', 'www.1111.com.tw/corp/1365066/', 'www.1111.com.tw/corp/9997055/', 'www.1111.com.tw/corp/1096056/', 'www.1111.com.tw/corp/125672/', 'www.1111.com.tw/corp/1375084/', 'www.1111.com.tw/corp/10340485/', 'www.1111.com.tw/corp/8690106/', 'www.1111.com.tw/corp/2185081/', 'www.1111.com.tw/corp/107741/', 'www.1111.com.tw/corp/71730459/', 'www.1111.com.tw/corp/1252290/', 'www.1111.com.tw/corp/9933/', 'www.1111.com.tw/corp/1225227/', 'www.1111.com.tw/corp/50496734/', 'www.1111.com.tw/corp/51561480/', 'www.1111.com.tw/corp/2786785/', 'www.1111.com.tw/corp/50133361/', 'www.1111.com.tw/corp/50487691/', 'www.1111.com.tw/corp/1947869/', 'www.1111.com.tw/corp/87115/', 'www.1111.com.tw/corp/527683/', 'www.1111.com.tw/corp/50928203/', 'www.1111.com.tw/corp/2002844/', 'www.1111.com.tw/corp/48513646/', 'www.1111.com.tw/corp/69589564/', 'www.1111.com.tw/corp/3471/', 'www.1111.com.tw/corp/9592083/', 'www.1111.com.tw/corp/50795672/', 'www.1111.com.tw/corp/1902939/', 'www.1111.com.tw/corp/315526/', 'www.1111.com.tw/corp/1880090/', 'www.1111.com.tw/corp/49786886/', 'www.1111.com.tw/corp/2788584/', 'www.1111.com.tw/corp/1070075/', 'www.1111.com.tw/corp/69620203/', 'www.1111.com.tw/corp/8325814/', 'www.1111.com.tw/corp/73487672/', 'www.1111.com.tw/corp/73088889/', 'www.1111.com.tw/corp/10065210/', 'www.1111.com.tw/corp/10066679/', 'www.1111.com.tw/corp/1267872/', 'www.1111.com.tw/corp/51656154/', 'www.1111.com.tw/corp/51545876/', 'www.1111.com.tw/corp/2785413/', 'www.1111.com.tw/corp/69442964/', 'www.1111.com.tw/corp/50017335/', 'www.1111.com.tw/corp/2800332/', 'www.1111.com.tw/corp/2132676/', 'www.1111.com.tw/corp/50497493/', 'www.1111.com.tw/corp/125793/', 'www.1111.com.tw/corp/71535079/', 'www.1111.com.tw/corp/34482427/', 'www.1111.com.tw/corp/9912669/', 'www.1111.com.tw/corp/9680097/', 'www.1111.com.tw/corp/435082/', 'www.1111.com.tw/corp/2788445/', 'www.1111.com.tw/corp/35866243/', 'www.1111.com.tw/corp/10396356/', 'www.1111.com.tw/corp/98054/', 'www.1111.com.tw/corp/9702196/', 'www.1111.com.tw/corp/600056/', 'www.1111.com.tw/corp/70505/', 'www.1111.com.tw/corp/50757694/', 'www.1111.com.tw/corp/50765126/', 'www.1111.com.tw/corp/2132822/', 'www.1111.com.tw/corp/2915115/', 'www.1111.com.tw/corp/9910605/', 'www.1111.com.tw/corp/1853333/', 'www.1111.com.tw/corp/9447423/', 'www.1111.com.tw/corp/8635354/', 'www.1111.com.tw/corp/1345485/', 'www.1111.com.tw/corp/50515304/', 'www.1111.com.tw/corp/51546696/', 'www.1111.com.tw/corp/69429589/', 'www.1111.com.tw/corp/435781/', 'www.1111.com.tw/corp/68793089/', 'www.1111.com.tw/corp/10396932/', 'www.1111.com.tw/corp/230743/', 'www.1111.com.tw/corp/2133609/', 'www.1111.com.tw/corp/425310/', 'www.1111.com.tw/corp/50803123/', 'www.1111.com.tw/corp/1267145/', 'www.1111.com.tw/corp/105120/', 'www.1111.com.tw/corp/51360999/', 'www.1111.com.tw/corp/10002632/', 'www.1111.com.tw/corp/73140149/', 'www.1111.com.tw/corp/68856862/', 'www.1111.com.tw/corp/73480693/', 'www.1111.com.tw/corp/580587/', 'www.1111.com.tw/corp/1715036/', 'www.1111.com.tw/corp/51852249/', 'www.1111.com.tw/corp/73090753/', 'www.1111.com.tw/corp/33940022/', 'www.1111.com.tw/corp/595012/', 'www.1111.com.tw/corp/3502/', 'www.1111.com.tw/corp/51385034/', 'www.1111.com.tw/corp/153237/', 'www.1111.com.tw/corp/125324/', 'www.1111.com.tw/corp/50630945/', 'www.1111.com.tw/corp/51447295/', 'www.1111.com.tw/corp/403546/', 'www.1111.com.tw/corp/130171/', 'www.1111.com.tw/corp/296470/', 'www.1111.com.tw/corp/1252639/', 'www.1111.com.tw/corp/49831174/', 'www.1111.com.tw/corp/8325515/', 'www.1111.com.tw/corp/73480696/', 'www.1111.com.tw/corp/1250843/', 'www.1111.com.tw/corp/51472562/', 'www.1111.com.tw/corp/73174486/', 'www.1111.com.tw/corp/543290/', 'www.1111.com.tw/corp/51301845/', 'www.1111.com.tw/corp/406773/', 'www.1111.com.tw/corp/2850100/', 'www.1111.com.tw/corp/2770014/', 'www.1111.com.tw/corp/95921/', 'www.1111.com.tw/corp/100765/', 'www.1111.com.tw/corp/51723035/', 'www.1111.com.tw/corp/1883631/', 'www.1111.com.tw/corp/205104/', 'www.1111.com.tw/corp/10410036/', 'www.1111.com.tw/corp/72424969/', 'www.1111.com.tw/corp/68854851/', 'www.1111.com.tw/corp/1266715/', 'www.1111.com.tw/corp/71722795/', 'www.1111.com.tw/corp/69616014/', 'www.1111.com.tw/corp/1816459/', 'www.1111.com.tw/corp/2902821/', 'www.1111.com.tw/corp/582263/', 'www.1111.com.tw/corp/1780034/', 'www.1111.com.tw/corp/1252393/', 'www.1111.com.tw/corp/52000069/', 'www.1111.com.tw/corp/67326876/', 'www.1111.com.tw/corp/48511653/', 'www.1111.com.tw/corp/535719/', 'www.1111.com.tw/corp/51545924/', 'www.1111.com.tw/corp/2902955/', 'www.1111.com.tw/corp/8325742/', 'www.1111.com.tw/corp/2800002/', 'www.1111.com.tw/corp/9623840/', 'www.1111.com.tw/corp/49615391/', 'www.1111.com.tw/corp/51585204/', 'www.1111.com.tw/corp/1251143/', 'www.1111.com.tw/corp/430420/', 'www.1111.com.tw/corp/2786443/', 'www.1111.com.tw/corp/291091/', 'www.1111.com.tw/corp/890210/', 'www.1111.com.tw/corp/47154/', 'www.1111.com.tw/corp/73075572/', 'www.1111.com.tw/corp/2131373/', 'www.1111.com.tw/corp/69012984/', 'www.1111.com.tw/corp/67037495/', 'www.1111.com.tw/corp/73545949/', 'www.1111.com.tw/corp/70655426/', 'www.1111.com.tw/corp/4092/', 'www.1111.com.tw/corp/1225106/', 'www.1111.com.tw/corp/69386196/', 'www.1111.com.tw/corp/51447771/', 'www.1111.com.tw/corp/2133987/', 'www.1111.com.tw/corp/2900109/', 'www.1111.com.tw/corp/1948066/', 'www.1111.com.tw/corp/69436253/', 'www.1111.com.tw/corp/1715033/', 'www.1111.com.tw/corp/1903234/', 'www.1111.com.tw/corp/69191387/', 'www.1111.com.tw/corp/9773986/', 'www.1111.com.tw/corp/9720013/', 'www.1111.com.tw/corp/10001780/', 'www.1111.com.tw/corp/69012870/', 'www.1111.com.tw/corp/73515907/', 'www.1111.com.tw/corp/9975332/', 'www.1111.com.tw/corp/69191479/', 'www.1111.com.tw/corp/1900134/', 'www.1111.com.tw/corp/2133852/', 'www.1111.com.tw/corp/9590084/', 'www.1111.com.tw/corp/69450235/', 'www.1111.com.tw/corp/2765181/', 'www.1111.com.tw/corp/33951225/', 'www.1111.com.tw/corp/48727632/', 'www.1111.com.tw/corp/2900221/', 'www.1111.com.tw/corp/505713/', 'www.1111.com.tw/corp/1845183/', 'www.1111.com.tw/corp/8665017/', 'www.1111.com.tw/corp/68758684/', 'www.1111.com.tw/corp/2130009/', 'www.1111.com.tw/corp/49845006/', 'www.1111.com.tw/corp/69009/', 'www.1111.com.tw/corp/8310034/', 'www.1111.com.tw/corp/70024632/', 'www.1111.com.tw/corp/1263963/', 'www.1111.com.tw/corp/9695533/', 'www.1111.com.tw/corp/51052715/', 'www.1111.com.tw/corp/9105/', 'www.1111.com.tw/corp/50390580/', 'www.1111.com.tw/corp/1853011/', 'www.1111.com.tw/corp/105251/', 'www.1111.com.tw/corp/302400/', 'www.1111.com.tw/corp/10581/', 'www.1111.com.tw/corp/68778583/', 'www.1111.com.tw/corp/10400241/', 'www.1111.com.tw/corp/1280296/', 'www.1111.com.tw/corp/71303836/', 'www.1111.com.tw/corp/943514/', 'www.1111.com.tw/corp/73515724/', 'www.1111.com.tw/corp/51530836/', 'www.1111.com.tw/corp/9782079/', 'www.1111.com.tw/corp/73189802/', 'www.1111.com.tw/corp/50816913/', 'www.1111.com.tw/corp/50920973/', 'www.1111.com.tw/corp/73504075/', 'www.1111.com.tw/corp/50168745/', 'www.1111.com.tw/corp/69442435/', 'www.1111.com.tw/corp/1881610/', 'www.1111.com.tw/corp/51556914/', 'www.1111.com.tw/corp/1341556/', 'www.1111.com.tw/corp/305256/', 'www.1111.com.tw/corp/941686/', 'www.1111.com.tw/corp/9720469/', 'www.1111.com.tw/corp/48350365/', 'www.1111.com.tw/corp/1881554/', 'www.1111.com.tw/corp/73538164/', 'www.1111.com.tw/corp/290855/', 'www.1111.com.tw/corp/54571143/', 'www.1111.com.tw/corp/9631350/', 'www.1111.com.tw/corp/9620473/', 'www.1111.com.tw/corp/69191389/', 'www.1111.com.tw/corp/54933783/', 'www.1111.com.tw/corp/50518444/', 'www.1111.com.tw/corp/50640479/', 'www.1111.com.tw/corp/410000/', 'www.1111.com.tw/corp/10343476/', 'www.1111.com.tw/corp/7650/', 'www.1111.com.tw/corp/69444279/', 'www.1111.com.tw/corp/505452/', 'www.1111.com.tw/corp/290420/', 'www.1111.com.tw/corp/36006943/', 'www.1111.com.tw/corp/69129344/', 'www.1111.com.tw/corp/67005433/', 'www.1111.com.tw/corp/1345703/', 'www.1111.com.tw/corp/51395264/', 'www.1111.com.tw/corp/68651220/', 'www.1111.com.tw/corp/50488767/', 'www.1111.com.tw/corp/34483992/', 'www.1111.com.tw/corp/535161/', 'www.1111.com.tw/corp/9622725/', 'www.1111.com.tw/corp/2810/', 'www.1111.com.tw/corp/795019/', 'www.1111.com.tw/corp/51583609/', 'www.1111.com.tw/corp/68002732/', 'www.1111.com.tw/corp/50415616/', 'www.1111.com.tw/corp/69191392/', 'www.1111.com.tw/corp/50110067/', 'www.1111.com.tw/corp/8415/', 'www.1111.com.tw/corp/68643672/', 'www.1111.com.tw/corp/9620741/', 'www.1111.com.tw/corp/1346004/', 'www.1111.com.tw/corp/68947984/', 'www.1111.com.tw/corp/67801005/', 'www.1111.com.tw/corp/2132334/', 'www.1111.com.tw/corp/2003306/', 'www.1111.com.tw/corp/2745022/', 'www.1111.com.tw/corp/2191634/', 'www.1111.com.tw/corp/1945571/', 'www.1111.com.tw/corp/68639782/', 'www.1111.com.tw/corp/9525483/', 'www.1111.com.tw/corp/535185/', 'www.1111.com.tw/corp/490264/', 'www.1111.com.tw/corp/10066600/', 'www.1111.com.tw/corp/2180015/', 'www.1111.com.tw/corp/83/', 'www.1111.com.tw/corp/595024/', 'www.1111.com.tw/corp/535083/', 'www.1111.com.tw/corp/50498836/', 'www.1111.com.tw/corp/1097890/', 'www.1111.com.tw/corp/72518496/', 'www.1111.com.tw/corp/36203465/', 'www.1111.com.tw/corp/36065931/', 'www.1111.com.tw/corp/1342154/', 'www.1111.com.tw/corp/89762/', 'www.1111.com.tw/corp/4991/', 'www.1111.com.tw/corp/1252486/', 'www.1111.com.tw/corp/33866174/', 'www.1111.com.tw/corp/50131815/', 'www.1111.com.tw/corp/520011/', 'www.1111.com.tw/corp/69452056/', 'www.1111.com.tw/corp/71713333/', 'www.1111.com.tw/corp/69429471/', 'www.1111.com.tw/corp/73515666/', 'www.1111.com.tw/corp/10773/', 'www.1111.com.tw/corp/86010/', 'www.1111.com.tw/corp/69386131/', 'www.1111.com.tw/corp/50575193/', 'www.1111.com.tw/corp/1263525/', 'www.1111.com.tw/corp/68826126/', 'www.1111.com.tw/corp/1096867/', 'www.1111.com.tw/corp/8535469/', 'www.1111.com.tw/corp/1344596/', 'www.1111.com.tw/corp/51846710/', 'www.1111.com.tw/corp/130061/', 'www.1111.com.tw/corp/50037593/', 'www.1111.com.tw/corp/2133906/', 'www.1111.com.tw/corp/69625866/', 'www.1111.com.tw/corp/2190019/', 'www.1111.com.tw/corp/536226/', 'www.1111.com.tw/corp/2002141/', 'www.1111.com.tw/corp/51550365/', 'www.1111.com.tw/corp/71717220/', 'www.1111.com.tw/corp/1263250/', 'www.1111.com.tw/corp/9450234/', 'www.1111.com.tw/corp/8370026/', 'www.1111.com.tw/corp/1285474/', 'www.1111.com.tw/corp/51525194/', 'www.1111.com.tw/corp/1175152/', 'www.1111.com.tw/corp/50035676/', 'www.1111.com.tw/corp/49788816/', 'www.1111.com.tw/corp/7802/', 'www.1111.com.tw/corp/48883836/', 'www.1111.com.tw/corp/1266969/', 'www.1111.com.tw/corp/2788842/', 'www.1111.com.tw/corp/69013041/', 'www.1111.com.tw/corp/52006283/', 'www.1111.com.tw/corp/1340005/', 'www.1111.com.tw/corp/51350189/', 'www.1111.com.tw/corp/942217/', 'www.1111.com.tw/corp/505737/', 'www.1111.com.tw/corp/7039/', 'www.1111.com.tw/corp/2132422/', 'www.1111.com.tw/corp/10347259/', 'www.1111.com.tw/corp/72562150/', 'www.1111.com.tw/corp/2806487/', 'www.1111.com.tw/corp/48473514/', 'www.1111.com.tw/corp/68638741/', 'www.1111.com.tw/corp/35867211/', 'www.1111.com.tw/corp/329299/', 'www.1111.com.tw/corp/9850236/', 'www.1111.com.tw/corp/48512194/', 'www.1111.com.tw/corp/10470732/', 'www.1111.com.tw/corp/535375/', 'www.1111.com.tw/corp/1180043/', 'www.1111.com.tw/corp/71305132/', 'www.1111.com.tw/corp/436097/', 'www.1111.com.tw/corp/290896/', 'www.1111.com.tw/corp/1070076/', 'www.1111.com.tw/corp/9720767/', 'www.1111.com.tw/corp/1815689/', 'www.1111.com.tw/corp/435916/', 'www.1111.com.tw/corp/50665174/', 'www.1111.com.tw/corp/9780357/', 'www.1111.com.tw/corp/535999/', 'www.1111.com.tw/corp/125330/', 'www.1111.com.tw/corp/1050129/', 'www.1111.com.tw/corp/9700307/', 'www.1111.com.tw/corp/535254/', 'www.1111.com.tw/corp/2132530/', 'www.1111.com.tw/corp/8960741/', 'www.1111.com.tw/corp/1901854/', 'www.1111.com.tw/corp/51741080/', 'www.1111.com.tw/corp/1286545/', 'www.1111.com.tw/corp/1901749/', 'www.1111.com.tw/corp/403435/', 'www.1111.com.tw/corp/8962579/', 'www.1111.com.tw/corp/48881895/', 'www.1111.com.tw/corp/890105/']\n"
     ]
    },
    {
     "name": "stdout",
     "output_type": "stream",
     "text": [
      "['www.1111.com.tw/corp/1228/', 'www.1111.com.tw/corp/2786359/', 'www.1111.com.tw/corp/50505169/', 'www.1111.com.tw/corp/305260/', 'www.1111.com.tw/corp/67808935/', 'www.1111.com.tw/corp/2133824/', 'www.1111.com.tw/corp/535335/', 'www.1111.com.tw/corp/36070884/', 'www.1111.com.tw/corp/51692992/', 'www.1111.com.tw/corp/416030/', 'www.1111.com.tw/corp/50960171/', 'www.1111.com.tw/corp/51685739/', 'www.1111.com.tw/corp/505321/', 'www.1111.com.tw/corp/8310063/', 'www.1111.com.tw/corp/6646/', 'www.1111.com.tw/corp/50485337/', 'www.1111.com.tw/corp/2003577/', 'www.1111.com.tw/corp/2878/', 'www.1111.com.tw/corp/3226728/', 'www.1111.com.tw/corp/8961329/', 'www.1111.com.tw/corp/10067506/', 'www.1111.com.tw/corp/10390559/', 'www.1111.com.tw/corp/1285944/', 'www.1111.com.tw/corp/2132461/', 'www.1111.com.tw/corp/291060/', 'www.1111.com.tw/corp/9597422/', 'www.1111.com.tw/corp/300764/', 'www.1111.com.tw/corp/36005937/', 'www.1111.com.tw/corp/8962592/', 'www.1111.com.tw/corp/50497534/', 'www.1111.com.tw/corp/9526118/', 'www.1111.com.tw/corp/9446205/', 'www.1111.com.tw/corp/54510630/', 'www.1111.com.tw/corp/564/', 'www.1111.com.tw/corp/51737730/', 'www.1111.com.tw/corp/10395610/', 'www.1111.com.tw/corp/2133691/', 'www.1111.com.tw/corp/9615191/', 'www.1111.com.tw/corp/36058912/', 'www.1111.com.tw/corp/51456924/', 'www.1111.com.tw/corp/35970329/', 'www.1111.com.tw/corp/1903311/', 'www.1111.com.tw/corp/9900024/', 'www.1111.com.tw/corp/8635527/', 'www.1111.com.tw/corp/2191550/', 'www.1111.com.tw/corp/1085162/', 'www.1111.com.tw/corp/68626011/', 'www.1111.com.tw/corp/1175622/', 'www.1111.com.tw/corp/1263531/', 'www.1111.com.tw/corp/8945660/', 'www.1111.com.tw/corp/131063/', 'www.1111.com.tw/corp/50756536/', 'www.1111.com.tw/corp/54570945/', 'www.1111.com.tw/corp/50318/', 'www.1111.com.tw/corp/73158561/', 'www.1111.com.tw/corp/2765266/', 'www.1111.com.tw/corp/35970553/', 'www.1111.com.tw/corp/80002/', 'www.1111.com.tw/corp/1305047/', 'www.1111.com.tw/corp/890042/', 'www.1111.com.tw/corp/92674/', 'www.1111.com.tw/corp/2000715/', 'www.1111.com.tw/corp/36081969/', 'www.1111.com.tw/corp/2785177/', 'www.1111.com.tw/corp/54939138/', 'www.1111.com.tw/corp/1883029/', 'www.1111.com.tw/corp/4312/', 'www.1111.com.tw/corp/510344/', 'www.1111.com.tw/corp/50960932/', 'www.1111.com.tw/corp/5498/', 'www.1111.com.tw/corp/51745511/', 'www.1111.com.tw/corp/50037294/', 'www.1111.com.tw/corp/50743785/', 'www.1111.com.tw/corp/3227818/', 'www.1111.com.tw/corp/50010058/', 'www.1111.com.tw/corp/535647/', 'www.1111.com.tw/corp/542724/', 'www.1111.com.tw/corp/296521/', 'www.1111.com.tw/corp/48881928/', 'www.1111.com.tw/corp/1340195/', 'www.1111.com.tw/corp/10400097/', 'www.1111.com.tw/corp/2132985/', 'www.1111.com.tw/corp/98920/', 'www.1111.com.tw/corp/490030/', 'www.1111.com.tw/corp/942268/', 'www.1111.com.tw/corp/51583435/', 'www.1111.com.tw/corp/2787737/', 'www.1111.com.tw/corp/68640843/', 'www.1111.com.tw/corp/2003017/', 'www.1111.com.tw/corp/48361017/', 'www.1111.com.tw/corp/9591928/', 'www.1111.com.tw/corp/420250/', 'www.1111.com.tw/corp/69191386/', 'www.1111.com.tw/corp/51683537/', 'www.1111.com.tw/corp/8635542/', 'www.1111.com.tw/corp/1341475/', 'www.1111.com.tw/corp/9650078/', 'www.1111.com.tw/corp/9442981/', 'www.1111.com.tw/corp/541056/', 'www.1111.com.tw/corp/9992537/', 'www.1111.com.tw/corp/33940428/', 'www.1111.com.tw/corp/35872353/', 'www.1111.com.tw/corp/9780411/', 'www.1111.com.tw/corp/8960302/', 'www.1111.com.tw/corp/50080473/', 'www.1111.com.tw/corp/69446828/', 'www.1111.com.tw/corp/490302/', 'www.1111.com.tw/corp/1225223/', 'www.1111.com.tw/corp/4107/', 'www.1111.com.tw/corp/36201970/', 'www.1111.com.tw/corp/8555111/', 'www.1111.com.tw/corp/328629/', 'www.1111.com.tw/corp/3225300/', 'www.1111.com.tw/corp/67210284/', 'www.1111.com.tw/corp/4252/', 'www.1111.com.tw/corp/36201205/', 'www.1111.com.tw/corp/7623/', 'www.1111.com.tw/corp/68817379/', 'www.1111.com.tw/corp/4911/', 'www.1111.com.tw/corp/2787695/', 'www.1111.com.tw/corp/50743989/', 'www.1111.com.tw/corp/205176/', 'www.1111.com.tw/corp/105010/', 'www.1111.com.tw/corp/9628101/', 'www.1111.com.tw/corp/1096964/', 'www.1111.com.tw/corp/68787405/', 'www.1111.com.tw/corp/2786598/', 'www.1111.com.tw/corp/35945265/', 'www.1111.com.tw/corp/105143/', 'www.1111.com.tw/corp/73339/', 'www.1111.com.tw/corp/2787066/', 'www.1111.com.tw/corp/9590885/', 'www.1111.com.tw/corp/35868141/', 'www.1111.com.tw/corp/748/', 'www.1111.com.tw/corp/9720414/', 'www.1111.com.tw/corp/890117/', 'www.1111.com.tw/corp/2002893/', 'www.1111.com.tw/corp/575090/', 'www.1111.com.tw/corp/69392203/', 'www.1111.com.tw/corp/68819835/', 'www.1111.com.tw/corp/52106074/', 'www.1111.com.tw/corp/73480695/', 'www.1111.com.tw/corp/1177287/', 'www.1111.com.tw/corp/1250203/', 'www.1111.com.tw/corp/9721238/', 'www.1111.com.tw/corp/69191385/', 'www.1111.com.tw/corp/71637661/', 'www.1111.com.tw/corp/2850073/', 'www.1111.com.tw/corp/1096051/', 'www.1111.com.tw/corp/72570302/', 'www.1111.com.tw/corp/1289343/', 'www.1111.com.tw/corp/8945059/', 'www.1111.com.tw/corp/69399925/', 'www.1111.com.tw/corp/10070713/', 'www.1111.com.tw/corp/1816767/', 'www.1111.com.tw/corp/890071/', 'www.1111.com.tw/corp/2002986/', 'www.1111.com.tw/corp/9902757/', 'www.1111.com.tw/corp/10166/', 'www.1111.com.tw/corp/9780293/', 'www.1111.com.tw/corp/420365/', 'www.1111.com.tw/corp/51655865/', 'www.1111.com.tw/corp/49616149/', 'www.1111.com.tw/corp/36088708/', 'www.1111.com.tw/corp/298410/', 'www.1111.com.tw/corp/2192251/', 'www.1111.com.tw/corp/48931640/', 'www.1111.com.tw/corp/51829034/', 'www.1111.com.tw/corp/540791/', 'www.1111.com.tw/corp/1097131/', 'www.1111.com.tw/corp/1902613/', 'www.1111.com.tw/corp/1263586/', 'www.1111.com.tw/corp/8635828/', 'www.1111.com.tw/corp/11307/', 'www.1111.com.tw/corp/14126/', 'www.1111.com.tw/corp/1345601/', 'www.1111.com.tw/corp/2170018/', 'www.1111.com.tw/corp/33946475/', 'www.1111.com.tw/corp/69616222/', 'www.1111.com.tw/corp/51570393/', 'www.1111.com.tw/corp/50501234/', 'www.1111.com.tw/corp/48326759/', 'www.1111.com.tw/corp/73480692/', 'www.1111.com.tw/corp/1853093/', 'www.1111.com.tw/corp/505849/', 'www.1111.com.tw/corp/8795062/', 'www.1111.com.tw/corp/90324/', 'www.1111.com.tw/corp/9622349/', 'www.1111.com.tw/corp/50740053/', 'www.1111.com.tw/corp/73218015/', 'www.1111.com.tw/corp/68623018/', 'www.1111.com.tw/corp/72425231/', 'www.1111.com.tw/corp/435299/', 'www.1111.com.tw/corp/72428992/', 'www.1111.com.tw/corp/943048/', 'www.1111.com.tw/corp/48882437/', 'www.1111.com.tw/corp/131238/', 'www.1111.com.tw/corp/10396273/', 'www.1111.com.tw/corp/51686600/', 'www.1111.com.tw/corp/436040/', 'www.1111.com.tw/corp/35865902/', 'www.1111.com.tw/corp/50945316/', 'www.1111.com.tw/corp/69421462/', 'www.1111.com.tw/corp/1285919/', 'www.1111.com.tw/corp/71697219/', 'www.1111.com.tw/corp/50743132/', 'www.1111.com.tw/corp/542134/', 'www.1111.com.tw/corp/69393669/', 'www.1111.com.tw/corp/35975289/', 'www.1111.com.tw/corp/51935021/', 'www.1111.com.tw/corp/1947924/', 'www.1111.com.tw/corp/67569835/', 'www.1111.com.tw/corp/2000322/', 'www.1111.com.tw/corp/1961010/', 'www.1111.com.tw/corp/9441474/', 'www.1111.com.tw/corp/1096926/', 'www.1111.com.tw/corp/51077626/', 'www.1111.com.tw/corp/416146/', 'www.1111.com.tw/corp/151506/', 'www.1111.com.tw/corp/69447720/', 'www.1111.com.tw/corp/2000717/', 'www.1111.com.tw/corp/49860151/', 'www.1111.com.tw/corp/1903196/', 'www.1111.com.tw/corp/9912579/', 'www.1111.com.tw/corp/435745/', 'www.1111.com.tw/corp/542829/', 'www.1111.com.tw/corp/51530645/', 'www.1111.com.tw/corp/9996970/', 'www.1111.com.tw/corp/73131308/', 'www.1111.com.tw/corp/1355011/', 'www.1111.com.tw/corp/1850440/', 'www.1111.com.tw/corp/8325616/', 'www.1111.com.tw/corp/50928100/', 'www.1111.com.tw/corp/48541457/', 'www.1111.com.tw/corp/9720359/', 'www.1111.com.tw/corp/69059087/', 'www.1111.com.tw/corp/583705/', 'www.1111.com.tw/corp/1055292/', 'www.1111.com.tw/corp/73480694/', 'www.1111.com.tw/corp/50816449/', 'www.1111.com.tw/corp/51302399/', 'www.1111.com.tw/corp/51455599/', 'www.1111.com.tw/corp/291473/', 'www.1111.com.tw/corp/505103/', 'www.1111.com.tw/corp/51827858/', 'www.1111.com.tw/corp/8945462/', 'www.1111.com.tw/corp/9990404/', 'www.1111.com.tw/corp/51456137/', 'www.1111.com.tw/corp/9771792/', 'www.1111.com.tw/corp/8525468/', 'www.1111.com.tw/corp/51457412/', 'www.1111.com.tw/corp/50951070/', 'www.1111.com.tw/corp/9441695/', 'www.1111.com.tw/corp/2191656/', 'www.1111.com.tw/corp/69433321/', 'www.1111.com.tw/corp/9995275/', 'www.1111.com.tw/corp/71058265/', 'www.1111.com.tw/corp/9565216/', 'www.1111.com.tw/corp/49455889/', 'www.1111.com.tw/corp/3225951/', 'www.1111.com.tw/corp/9440050/', 'www.1111.com.tw/corp/131313/', 'www.1111.com.tw/corp/51688652/', 'www.1111.com.tw/corp/5163/', 'www.1111.com.tw/corp/69425985/', 'www.1111.com.tw/corp/583487/', 'www.1111.com.tw/corp/2132076/', 'www.1111.com.tw/corp/5877/', 'www.1111.com.tw/corp/69649077/', 'www.1111.com.tw/corp/795096/', 'www.1111.com.tw/corp/1790047/', 'www.1111.com.tw/corp/2133645/', 'www.1111.com.tw/corp/2901070/', 'www.1111.com.tw/corp/1690037/', 'www.1111.com.tw/corp/36071925/', 'www.1111.com.tw/corp/73515963/', 'www.1111.com.tw/corp/54530625/', 'www.1111.com.tw/corp/9722909/', 'www.1111.com.tw/corp/9526330/', 'www.1111.com.tw/corp/9591757/', 'www.1111.com.tw/corp/2130216/', 'www.1111.com.tw/corp/51466001/', 'www.1111.com.tw/corp/73174377/', 'www.1111.com.tw/corp/2131332/', 'www.1111.com.tw/corp/50758723/', 'www.1111.com.tw/corp/535237/', 'www.1111.com.tw/corp/49817291/', 'www.1111.com.tw/corp/390206/', 'www.1111.com.tw/corp/10000670/', 'www.1111.com.tw/corp/69191388/', 'www.1111.com.tw/corp/1845003/', 'www.1111.com.tw/corp/1175534/', 'www.1111.com.tw/corp/50504013/', 'www.1111.com.tw/corp/50922607/', 'www.1111.com.tw/corp/8961502/', 'www.1111.com.tw/corp/51650706/', 'www.1111.com.tw/corp/2850225/', 'www.1111.com.tw/corp/8535070/', 'www.1111.com.tw/corp/9995181/', 'www.1111.com.tw/corp/48510116/', 'www.1111.com.tw/corp/1817327/', 'www.1111.com.tw/corp/408627/', 'www.1111.com.tw/corp/543795/', 'www.1111.com.tw/corp/9720763/', 'www.1111.com.tw/corp/91792/', 'www.1111.com.tw/corp/2131367/', 'www.1111.com.tw/corp/400128/', 'www.1111.com.tw/corp/2190508/', 'www.1111.com.tw/corp/436068/', 'www.1111.com.tw/corp/9450296/', 'www.1111.com.tw/corp/1287891/', 'www.1111.com.tw/corp/3261/', 'www.1111.com.tw/corp/70673322/', 'www.1111.com.tw/corp/315729/', 'www.1111.com.tw/corp/9781561/', 'www.1111.com.tw/corp/52001268/', 'www.1111.com.tw/corp/10402559/', 'www.1111.com.tw/corp/69015778/', 'www.1111.com.tw/corp/405973/', 'www.1111.com.tw/corp/73515424/', 'www.1111.com.tw/corp/8960999/', 'www.1111.com.tw/corp/35771894/', 'www.1111.com.tw/corp/69117183/', 'www.1111.com.tw/corp/51582790/', 'www.1111.com.tw/corp/9480743/', 'www.1111.com.tw/corp/1346302/', 'www.1111.com.tw/corp/3226542/', 'www.1111.com.tw/corp/51945757/', 'www.1111.com.tw/corp/50928128/', 'www.1111.com.tw/corp/10390435/', 'www.1111.com.tw/corp/2765141/', 'www.1111.com.tw/corp/2000230/', 'www.1111.com.tw/corp/1915151/', 'www.1111.com.tw/corp/50280369/', 'www.1111.com.tw/corp/33940169/', 'www.1111.com.tw/corp/1341731/', 'www.1111.com.tw/corp/490284/', 'www.1111.com.tw/corp/48880036/', 'www.1111.com.tw/corp/2001332/', 'www.1111.com.tw/corp/305006/', 'www.1111.com.tw/corp/1263204/', 'www.1111.com.tw/corp/9703819/', 'www.1111.com.tw/corp/49788257/', 'www.1111.com.tw/corp/1267102/', 'www.1111.com.tw/corp/2787444/', 'www.1111.com.tw/corp/1960931/', 'www.1111.com.tw/corp/485124/', 'www.1111.com.tw/corp/54936975/', 'www.1111.com.tw/corp/50830597/', 'www.1111.com.tw/corp/20484/', 'www.1111.com.tw/corp/430016/', 'www.1111.com.tw/corp/50751183/', 'www.1111.com.tw/corp/182/', 'www.1111.com.tw/corp/9721259/', 'www.1111.com.tw/corp/69622091/', 'www.1111.com.tw/corp/6832/', 'www.1111.com.tw/corp/315695/', 'www.1111.com.tw/corp/2192184/', 'www.1111.com.tw/corp/69588457/', 'www.1111.com.tw/corp/291585/', 'www.1111.com.tw/corp/2850037/', 'www.1111.com.tw/corp/1365066/', 'www.1111.com.tw/corp/9997055/', 'www.1111.com.tw/corp/1096056/', 'www.1111.com.tw/corp/125672/', 'www.1111.com.tw/corp/73083947/', 'www.1111.com.tw/corp/72568817/', 'www.1111.com.tw/corp/1375084/', 'www.1111.com.tw/corp/10340485/', 'www.1111.com.tw/corp/8690106/', 'www.1111.com.tw/corp/2185081/', 'www.1111.com.tw/corp/107741/', 'www.1111.com.tw/corp/71730459/', 'www.1111.com.tw/corp/1252290/', 'www.1111.com.tw/corp/435167/', 'www.1111.com.tw/corp/9933/', 'www.1111.com.tw/corp/1225227/', 'www.1111.com.tw/corp/50496734/', 'www.1111.com.tw/corp/51561480/', 'www.1111.com.tw/corp/2786785/', 'www.1111.com.tw/corp/50133361/', 'www.1111.com.tw/corp/50487691/', 'www.1111.com.tw/corp/1947869/', 'www.1111.com.tw/corp/87115/', 'www.1111.com.tw/corp/527683/', 'www.1111.com.tw/corp/50928203/', 'www.1111.com.tw/corp/2002844/', 'www.1111.com.tw/corp/48513646/', 'www.1111.com.tw/corp/69589564/', 'www.1111.com.tw/corp/3471/', 'www.1111.com.tw/corp/9592083/', 'www.1111.com.tw/corp/50795672/', 'www.1111.com.tw/corp/1902939/', 'www.1111.com.tw/corp/315526/', 'www.1111.com.tw/corp/1880090/', 'www.1111.com.tw/corp/49786886/', 'www.1111.com.tw/corp/2788584/', 'www.1111.com.tw/corp/1070075/', 'www.1111.com.tw/corp/69620203/', 'www.1111.com.tw/corp/8325814/', 'www.1111.com.tw/corp/73487672/', 'www.1111.com.tw/corp/73088889/', 'www.1111.com.tw/corp/10065210/', 'www.1111.com.tw/corp/10066679/', 'www.1111.com.tw/corp/1267872/', 'www.1111.com.tw/corp/51656154/', 'www.1111.com.tw/corp/51545876/', 'www.1111.com.tw/corp/2785413/', 'www.1111.com.tw/corp/69442964/', 'www.1111.com.tw/corp/50017335/', 'www.1111.com.tw/corp/2800332/', 'www.1111.com.tw/corp/2132676/', 'www.1111.com.tw/corp/50497493/', 'www.1111.com.tw/corp/125793/', 'www.1111.com.tw/corp/71535079/', 'www.1111.com.tw/corp/34482427/', 'www.1111.com.tw/corp/9912669/', 'www.1111.com.tw/corp/9680097/', 'www.1111.com.tw/corp/435082/', 'www.1111.com.tw/corp/2788445/', 'www.1111.com.tw/corp/35866243/', 'www.1111.com.tw/corp/10396356/', 'www.1111.com.tw/corp/98054/', 'www.1111.com.tw/corp/9702196/', 'www.1111.com.tw/corp/600056/', 'www.1111.com.tw/corp/70505/', 'www.1111.com.tw/corp/50757694/', 'www.1111.com.tw/corp/50765126/', 'www.1111.com.tw/corp/2132822/', 'www.1111.com.tw/corp/2915115/', 'www.1111.com.tw/corp/9910605/', 'www.1111.com.tw/corp/1853333/', 'www.1111.com.tw/corp/9447423/', 'www.1111.com.tw/corp/8635354/', 'www.1111.com.tw/corp/1345485/', 'www.1111.com.tw/corp/3698/', 'www.1111.com.tw/corp/50515304/', 'www.1111.com.tw/corp/51546696/', 'www.1111.com.tw/corp/69429589/', 'www.1111.com.tw/corp/435781/', 'www.1111.com.tw/corp/68793089/', 'www.1111.com.tw/corp/10396932/', 'www.1111.com.tw/corp/230743/', 'www.1111.com.tw/corp/2133609/', 'www.1111.com.tw/corp/425310/', 'www.1111.com.tw/corp/50803123/', 'www.1111.com.tw/corp/1267145/', 'www.1111.com.tw/corp/105120/', 'www.1111.com.tw/corp/51360999/', 'www.1111.com.tw/corp/10002632/', 'www.1111.com.tw/corp/73140149/', 'www.1111.com.tw/corp/68856862/', 'www.1111.com.tw/corp/73480693/', 'www.1111.com.tw/corp/580587/', 'www.1111.com.tw/corp/1715036/', 'www.1111.com.tw/corp/51852249/', 'www.1111.com.tw/corp/73090753/', 'www.1111.com.tw/corp/33940022/', 'www.1111.com.tw/corp/595012/', 'www.1111.com.tw/corp/3502/', 'www.1111.com.tw/corp/51385034/', 'www.1111.com.tw/corp/153237/', 'www.1111.com.tw/corp/125324/', 'www.1111.com.tw/corp/50630945/', 'www.1111.com.tw/corp/51447295/', 'www.1111.com.tw/corp/403546/', 'www.1111.com.tw/corp/130171/', 'www.1111.com.tw/corp/296470/', 'www.1111.com.tw/corp/1252639/', 'www.1111.com.tw/corp/49831174/', 'www.1111.com.tw/corp/8325515/', 'www.1111.com.tw/corp/2000687/', 'www.1111.com.tw/corp/73480696/', 'www.1111.com.tw/corp/1250843/', 'www.1111.com.tw/corp/51472562/', 'www.1111.com.tw/corp/73174486/', 'www.1111.com.tw/corp/2786148/', 'www.1111.com.tw/corp/543290/', 'www.1111.com.tw/corp/302827/', 'www.1111.com.tw/corp/51301845/', 'www.1111.com.tw/corp/406773/', 'www.1111.com.tw/corp/2850100/', 'www.1111.com.tw/corp/2770014/', 'www.1111.com.tw/corp/95921/', 'www.1111.com.tw/corp/100765/', 'www.1111.com.tw/corp/51723035/', 'www.1111.com.tw/corp/1883631/', 'www.1111.com.tw/corp/205104/', 'www.1111.com.tw/corp/10410036/', 'www.1111.com.tw/corp/72424969/', 'www.1111.com.tw/corp/68854851/', 'www.1111.com.tw/corp/10342398/', 'www.1111.com.tw/corp/1266715/', 'www.1111.com.tw/corp/71722795/', 'www.1111.com.tw/corp/69616014/', 'www.1111.com.tw/corp/2133988/', 'www.1111.com.tw/corp/1816459/', 'www.1111.com.tw/corp/2902821/', 'www.1111.com.tw/corp/582263/', 'www.1111.com.tw/corp/1780034/', 'www.1111.com.tw/corp/9597607/', 'www.1111.com.tw/corp/2191688/', 'www.1111.com.tw/corp/1252393/', 'www.1111.com.tw/corp/52000069/', 'www.1111.com.tw/corp/67326876/', 'www.1111.com.tw/corp/48511653/', 'www.1111.com.tw/corp/535719/', 'www.1111.com.tw/corp/51545924/', 'www.1111.com.tw/corp/2902955/', 'www.1111.com.tw/corp/8325742/', 'www.1111.com.tw/corp/2800002/', 'www.1111.com.tw/corp/9623840/', 'www.1111.com.tw/corp/9635497/', 'www.1111.com.tw/corp/49615391/', 'www.1111.com.tw/corp/51585204/', 'www.1111.com.tw/corp/9781968/', 'www.1111.com.tw/corp/1251143/', 'www.1111.com.tw/corp/430420/', 'www.1111.com.tw/corp/2786443/', 'www.1111.com.tw/corp/8945197/', 'www.1111.com.tw/corp/50666278/', 'www.1111.com.tw/corp/291091/', 'www.1111.com.tw/corp/890210/', 'www.1111.com.tw/corp/47154/', 'www.1111.com.tw/corp/73075572/', 'www.1111.com.tw/corp/2131373/', 'www.1111.com.tw/corp/69012984/', 'www.1111.com.tw/corp/67037495/', 'www.1111.com.tw/corp/73545949/', 'www.1111.com.tw/corp/70655426/', 'www.1111.com.tw/corp/4092/', 'www.1111.com.tw/corp/1225106/', 'www.1111.com.tw/corp/69386196/', 'www.1111.com.tw/corp/51447771/', 'www.1111.com.tw/corp/2133987/', 'www.1111.com.tw/corp/8325568/', 'www.1111.com.tw/corp/2900109/', 'www.1111.com.tw/corp/71721918/', 'www.1111.com.tw/corp/1948066/', 'www.1111.com.tw/corp/69436253/', 'www.1111.com.tw/corp/1715033/', 'www.1111.com.tw/corp/1903234/', 'www.1111.com.tw/corp/69191387/', 'www.1111.com.tw/corp/9773986/', 'www.1111.com.tw/corp/9720013/', 'www.1111.com.tw/corp/10001780/', 'www.1111.com.tw/corp/69012870/', 'www.1111.com.tw/corp/73515907/', 'www.1111.com.tw/corp/9975332/', 'www.1111.com.tw/corp/69191479/', 'www.1111.com.tw/corp/1900134/', 'www.1111.com.tw/corp/2133852/', 'www.1111.com.tw/corp/9590084/', 'www.1111.com.tw/corp/69450235/', 'www.1111.com.tw/corp/2765181/', 'www.1111.com.tw/corp/67799278/', 'www.1111.com.tw/corp/33951225/', 'www.1111.com.tw/corp/3228617/', 'www.1111.com.tw/corp/48727632/', 'www.1111.com.tw/corp/2900221/', 'www.1111.com.tw/corp/505713/', 'www.1111.com.tw/corp/1845183/', 'www.1111.com.tw/corp/8665017/', 'www.1111.com.tw/corp/9530088/', 'www.1111.com.tw/corp/68758684/', 'www.1111.com.tw/corp/2130009/', 'www.1111.com.tw/corp/49845006/', 'www.1111.com.tw/corp/69009/', 'www.1111.com.tw/corp/8310034/', 'www.1111.com.tw/corp/1266717/', 'www.1111.com.tw/corp/70024632/', 'www.1111.com.tw/corp/12098/', 'www.1111.com.tw/corp/1263963/', 'www.1111.com.tw/corp/9695533/', 'www.1111.com.tw/corp/51052715/', 'www.1111.com.tw/corp/9105/', 'www.1111.com.tw/corp/50390580/', 'www.1111.com.tw/corp/1853011/', 'www.1111.com.tw/corp/105251/', 'www.1111.com.tw/corp/302400/', 'www.1111.com.tw/corp/10581/', 'www.1111.com.tw/corp/68778583/', 'www.1111.com.tw/corp/10400241/', 'www.1111.com.tw/corp/600117/', 'www.1111.com.tw/corp/1280296/', 'www.1111.com.tw/corp/71303836/', 'www.1111.com.tw/corp/943514/', 'www.1111.com.tw/corp/73515724/', 'www.1111.com.tw/corp/51530836/', 'www.1111.com.tw/corp/2132827/', 'www.1111.com.tw/corp/9782079/', 'www.1111.com.tw/corp/73189802/', 'www.1111.com.tw/corp/50816913/', 'www.1111.com.tw/corp/50920973/', 'www.1111.com.tw/corp/73504075/', 'www.1111.com.tw/corp/50168745/', 'www.1111.com.tw/corp/69442435/', 'www.1111.com.tw/corp/1881610/', 'www.1111.com.tw/corp/51556914/', 'www.1111.com.tw/corp/1341556/', 'www.1111.com.tw/corp/305256/', 'www.1111.com.tw/corp/941686/', 'www.1111.com.tw/corp/9720469/', 'www.1111.com.tw/corp/48350365/', 'www.1111.com.tw/corp/1881554/', 'www.1111.com.tw/corp/73538164/', 'www.1111.com.tw/corp/290855/', 'www.1111.com.tw/corp/54571143/', 'www.1111.com.tw/corp/9631350/', 'www.1111.com.tw/corp/9620473/', 'www.1111.com.tw/corp/69191389/', 'www.1111.com.tw/corp/54933783/', 'www.1111.com.tw/corp/50518444/', 'www.1111.com.tw/corp/2787317/', 'www.1111.com.tw/corp/436048/', 'www.1111.com.tw/corp/50640479/', 'www.1111.com.tw/corp/410000/', 'www.1111.com.tw/corp/10343476/', 'www.1111.com.tw/corp/7650/', 'www.1111.com.tw/corp/2131808/', 'www.1111.com.tw/corp/69444279/', 'www.1111.com.tw/corp/505452/', 'www.1111.com.tw/corp/290420/', 'www.1111.com.tw/corp/36006943/', 'www.1111.com.tw/corp/69129344/', 'www.1111.com.tw/corp/67005433/', 'www.1111.com.tw/corp/1345703/', 'www.1111.com.tw/corp/51395264/', 'www.1111.com.tw/corp/68651220/', 'www.1111.com.tw/corp/50488767/', 'www.1111.com.tw/corp/71719087/', 'www.1111.com.tw/corp/34483992/', 'www.1111.com.tw/corp/535161/', 'www.1111.com.tw/corp/9622725/', 'www.1111.com.tw/corp/2810/', 'www.1111.com.tw/corp/795019/', 'www.1111.com.tw/corp/1287418/', 'www.1111.com.tw/corp/51583609/', 'www.1111.com.tw/corp/68002732/', 'www.1111.com.tw/corp/50415616/', 'www.1111.com.tw/corp/69191392/', 'www.1111.com.tw/corp/50110067/', 'www.1111.com.tw/corp/8415/', 'www.1111.com.tw/corp/68643672/', 'www.1111.com.tw/corp/9620741/', 'www.1111.com.tw/corp/1346004/', 'www.1111.com.tw/corp/68947984/', 'www.1111.com.tw/corp/67801005/', 'www.1111.com.tw/corp/2132334/', 'www.1111.com.tw/corp/2003306/', 'www.1111.com.tw/corp/2745022/', 'www.1111.com.tw/corp/71688047/', 'www.1111.com.tw/corp/72563118/', 'www.1111.com.tw/corp/2191634/', 'www.1111.com.tw/corp/1945571/', 'www.1111.com.tw/corp/68639782/', 'www.1111.com.tw/corp/9525483/', 'www.1111.com.tw/corp/535185/', 'www.1111.com.tw/corp/490264/', 'www.1111.com.tw/corp/10066600/', 'www.1111.com.tw/corp/2180015/', 'www.1111.com.tw/corp/72459098/', 'www.1111.com.tw/corp/69431197/', 'www.1111.com.tw/corp/83/', 'www.1111.com.tw/corp/595024/', 'www.1111.com.tw/corp/535083/', 'www.1111.com.tw/corp/50498836/', 'www.1111.com.tw/corp/1097890/', 'www.1111.com.tw/corp/72518496/', 'www.1111.com.tw/corp/36203465/', 'www.1111.com.tw/corp/36065931/', 'www.1111.com.tw/corp/1342154/', 'www.1111.com.tw/corp/89762/', 'www.1111.com.tw/corp/4991/', 'www.1111.com.tw/corp/1252486/', 'www.1111.com.tw/corp/33866174/', 'www.1111.com.tw/corp/50131815/', 'www.1111.com.tw/corp/520011/', 'www.1111.com.tw/corp/69452056/', 'www.1111.com.tw/corp/71713333/', 'www.1111.com.tw/corp/71727937/', 'www.1111.com.tw/corp/69429471/', 'www.1111.com.tw/corp/73515666/', 'www.1111.com.tw/corp/10773/', 'www.1111.com.tw/corp/1220037/', 'www.1111.com.tw/corp/86010/', 'www.1111.com.tw/corp/69386131/', 'www.1111.com.tw/corp/50575193/', 'www.1111.com.tw/corp/1263525/', 'www.1111.com.tw/corp/68826126/', 'www.1111.com.tw/corp/1096867/', 'www.1111.com.tw/corp/8535469/', 'www.1111.com.tw/corp/1344596/', 'www.1111.com.tw/corp/51846710/', 'www.1111.com.tw/corp/130061/', 'www.1111.com.tw/corp/205268/', 'www.1111.com.tw/corp/50037593/', 'www.1111.com.tw/corp/2133906/', 'www.1111.com.tw/corp/69625866/', 'www.1111.com.tw/corp/2190019/', 'www.1111.com.tw/corp/536226/', 'www.1111.com.tw/corp/50758318/', 'www.1111.com.tw/corp/2002141/', 'www.1111.com.tw/corp/51550365/', 'www.1111.com.tw/corp/71717220/', 'www.1111.com.tw/corp/1263250/', 'www.1111.com.tw/corp/9450234/', 'www.1111.com.tw/corp/9722158/', 'www.1111.com.tw/corp/8370026/', 'www.1111.com.tw/corp/1285474/', 'www.1111.com.tw/corp/51525194/', 'www.1111.com.tw/corp/410198/', 'www.1111.com.tw/corp/1175152/', 'www.1111.com.tw/corp/50035676/', 'www.1111.com.tw/corp/49788816/', 'www.1111.com.tw/corp/7802/', 'www.1111.com.tw/corp/48883836/', 'www.1111.com.tw/corp/71954758/', 'www.1111.com.tw/corp/1266969/', 'www.1111.com.tw/corp/2788842/', 'www.1111.com.tw/corp/69013041/', 'www.1111.com.tw/corp/52006283/', 'www.1111.com.tw/corp/1340005/', 'www.1111.com.tw/corp/51350189/', 'www.1111.com.tw/corp/942217/', 'www.1111.com.tw/corp/73463638/', 'www.1111.com.tw/corp/2131168/', 'www.1111.com.tw/corp/505737/', 'www.1111.com.tw/corp/7039/', 'www.1111.com.tw/corp/2132422/', 'www.1111.com.tw/corp/10347259/', 'www.1111.com.tw/corp/72562150/', 'www.1111.com.tw/corp/2806487/', 'www.1111.com.tw/corp/48473514/', 'www.1111.com.tw/corp/68638741/', 'www.1111.com.tw/corp/35867211/', 'www.1111.com.tw/corp/329299/', 'www.1111.com.tw/corp/9850236/', 'www.1111.com.tw/corp/48512194/', 'www.1111.com.tw/corp/10470732/', 'www.1111.com.tw/corp/535375/', 'www.1111.com.tw/corp/1180043/', 'www.1111.com.tw/corp/71305132/', 'www.1111.com.tw/corp/436097/', 'www.1111.com.tw/corp/290896/', 'www.1111.com.tw/corp/1070076/', 'www.1111.com.tw/corp/296228/', 'www.1111.com.tw/corp/9720767/', 'www.1111.com.tw/corp/1815689/', 'www.1111.com.tw/corp/420387/', 'www.1111.com.tw/corp/435916/', 'www.1111.com.tw/corp/50665174/', 'www.1111.com.tw/corp/9780357/', 'www.1111.com.tw/corp/535999/', 'www.1111.com.tw/corp/125330/', 'www.1111.com.tw/corp/1050129/', 'www.1111.com.tw/corp/9700307/', 'www.1111.com.tw/corp/2000688/', 'www.1111.com.tw/corp/535254/', 'www.1111.com.tw/corp/2132530/', 'www.1111.com.tw/corp/8960741/', 'www.1111.com.tw/corp/1901854/', 'www.1111.com.tw/corp/51741080/', 'www.1111.com.tw/corp/34481988/', 'www.1111.com.tw/corp/1286545/', 'www.1111.com.tw/corp/1901749/', 'www.1111.com.tw/corp/403435/', 'www.1111.com.tw/corp/71712447/', 'www.1111.com.tw/corp/8962579/', 'www.1111.com.tw/corp/48881895/', 'www.1111.com.tw/corp/890105/']\n"
     ]
    },
    {
     "name": "stdout",
     "output_type": "stream",
     "text": [
      "['www.1111.com.tw/corp/1228/', 'www.1111.com.tw/corp/2786359/', 'www.1111.com.tw/corp/50505169/', 'www.1111.com.tw/corp/305260/', 'www.1111.com.tw/corp/67808935/', 'www.1111.com.tw/corp/2133824/', 'www.1111.com.tw/corp/535335/', 'www.1111.com.tw/corp/36070884/', 'www.1111.com.tw/corp/51692992/', 'www.1111.com.tw/corp/416030/', 'www.1111.com.tw/corp/50960171/', 'www.1111.com.tw/corp/51685739/', 'www.1111.com.tw/corp/505321/', 'www.1111.com.tw/corp/8310063/', 'www.1111.com.tw/corp/6646/', 'www.1111.com.tw/corp/50485337/', 'www.1111.com.tw/corp/2003577/', 'www.1111.com.tw/corp/2878/', 'www.1111.com.tw/corp/3226728/', 'www.1111.com.tw/corp/8961329/', 'www.1111.com.tw/corp/10067506/', 'www.1111.com.tw/corp/10390559/', 'www.1111.com.tw/corp/1285944/', 'www.1111.com.tw/corp/2132461/', 'www.1111.com.tw/corp/291060/', 'www.1111.com.tw/corp/9597422/', 'www.1111.com.tw/corp/300764/', 'www.1111.com.tw/corp/36005937/', 'www.1111.com.tw/corp/8962592/', 'www.1111.com.tw/corp/50497534/', 'www.1111.com.tw/corp/9526118/', 'www.1111.com.tw/corp/9446205/', 'www.1111.com.tw/corp/54510630/', 'www.1111.com.tw/corp/564/', 'www.1111.com.tw/corp/51737730/', 'www.1111.com.tw/corp/10395610/', 'www.1111.com.tw/corp/2133691/', 'www.1111.com.tw/corp/9615191/', 'www.1111.com.tw/corp/36058912/', 'www.1111.com.tw/corp/51456924/', 'www.1111.com.tw/corp/35970329/', 'www.1111.com.tw/corp/1903311/', 'www.1111.com.tw/corp/9900024/', 'www.1111.com.tw/corp/8635527/', 'www.1111.com.tw/corp/2191550/', 'www.1111.com.tw/corp/1085162/', 'www.1111.com.tw/corp/68626011/', 'www.1111.com.tw/corp/1175622/', 'www.1111.com.tw/corp/1263531/', 'www.1111.com.tw/corp/131063/', 'www.1111.com.tw/corp/8945660/', 'www.1111.com.tw/corp/50756536/', 'www.1111.com.tw/corp/54570945/', 'www.1111.com.tw/corp/9780828/', 'www.1111.com.tw/corp/50318/', 'www.1111.com.tw/corp/73158561/', 'www.1111.com.tw/corp/2765266/', 'www.1111.com.tw/corp/35970553/', 'www.1111.com.tw/corp/80002/', 'www.1111.com.tw/corp/1305047/', 'www.1111.com.tw/corp/890042/', 'www.1111.com.tw/corp/92674/', 'www.1111.com.tw/corp/2000715/', 'www.1111.com.tw/corp/36081969/', 'www.1111.com.tw/corp/2785177/', 'www.1111.com.tw/corp/54939138/', 'www.1111.com.tw/corp/1883029/', 'www.1111.com.tw/corp/4312/', 'www.1111.com.tw/corp/510344/', 'www.1111.com.tw/corp/50960932/', 'www.1111.com.tw/corp/5498/', 'www.1111.com.tw/corp/51745511/', 'www.1111.com.tw/corp/50037294/', 'www.1111.com.tw/corp/50743785/', 'www.1111.com.tw/corp/3227818/', 'www.1111.com.tw/corp/50010058/', 'www.1111.com.tw/corp/535647/', 'www.1111.com.tw/corp/542724/', 'www.1111.com.tw/corp/296521/', 'www.1111.com.tw/corp/48881928/', 'www.1111.com.tw/corp/1340195/', 'www.1111.com.tw/corp/10400097/', 'www.1111.com.tw/corp/2132985/', 'www.1111.com.tw/corp/98920/', 'www.1111.com.tw/corp/490030/', 'www.1111.com.tw/corp/942268/', 'www.1111.com.tw/corp/51583435/', 'www.1111.com.tw/corp/2787737/', 'www.1111.com.tw/corp/68640843/', 'www.1111.com.tw/corp/2003017/', 'www.1111.com.tw/corp/48361017/', 'www.1111.com.tw/corp/9591928/', 'www.1111.com.tw/corp/420250/', 'www.1111.com.tw/corp/69191386/', 'www.1111.com.tw/corp/51683537/', 'www.1111.com.tw/corp/8635542/', 'www.1111.com.tw/corp/1341475/', 'www.1111.com.tw/corp/9650078/', 'www.1111.com.tw/corp/9442981/', 'www.1111.com.tw/corp/541056/', 'www.1111.com.tw/corp/9992537/', 'www.1111.com.tw/corp/33940428/', 'www.1111.com.tw/corp/35872353/', 'www.1111.com.tw/corp/9780411/', 'www.1111.com.tw/corp/8960302/', 'www.1111.com.tw/corp/50080473/', 'www.1111.com.tw/corp/69446828/', 'www.1111.com.tw/corp/490302/', 'www.1111.com.tw/corp/1225223/', 'www.1111.com.tw/corp/4107/', 'www.1111.com.tw/corp/36201970/', 'www.1111.com.tw/corp/8555111/', 'www.1111.com.tw/corp/328629/', 'www.1111.com.tw/corp/3225300/', 'www.1111.com.tw/corp/67210284/', 'www.1111.com.tw/corp/4252/', 'www.1111.com.tw/corp/36201205/', 'www.1111.com.tw/corp/7623/', 'www.1111.com.tw/corp/9591238/', 'www.1111.com.tw/corp/68817379/', 'www.1111.com.tw/corp/4911/', 'www.1111.com.tw/corp/2787695/', 'www.1111.com.tw/corp/50743989/', 'www.1111.com.tw/corp/205176/', 'www.1111.com.tw/corp/105010/', 'www.1111.com.tw/corp/9628101/', 'www.1111.com.tw/corp/1096964/', 'www.1111.com.tw/corp/68787405/', 'www.1111.com.tw/corp/2786598/', 'www.1111.com.tw/corp/35945265/', 'www.1111.com.tw/corp/105143/', 'www.1111.com.tw/corp/73339/', 'www.1111.com.tw/corp/2787066/', 'www.1111.com.tw/corp/9590885/', 'www.1111.com.tw/corp/35868141/', 'www.1111.com.tw/corp/748/', 'www.1111.com.tw/corp/9720414/', 'www.1111.com.tw/corp/890117/', 'www.1111.com.tw/corp/2002893/', 'www.1111.com.tw/corp/575090/', 'www.1111.com.tw/corp/69392203/', 'www.1111.com.tw/corp/68819835/', 'www.1111.com.tw/corp/52106074/', 'www.1111.com.tw/corp/73480695/', 'www.1111.com.tw/corp/1177287/', 'www.1111.com.tw/corp/1250203/', 'www.1111.com.tw/corp/9721238/', 'www.1111.com.tw/corp/69191385/', 'www.1111.com.tw/corp/71637661/', 'www.1111.com.tw/corp/2850073/', 'www.1111.com.tw/corp/1096051/', 'www.1111.com.tw/corp/72570302/', 'www.1111.com.tw/corp/1289343/', 'www.1111.com.tw/corp/8945059/', 'www.1111.com.tw/corp/69399925/', 'www.1111.com.tw/corp/10070713/', 'www.1111.com.tw/corp/1816767/', 'www.1111.com.tw/corp/890071/', 'www.1111.com.tw/corp/2002986/', 'www.1111.com.tw/corp/9902757/', 'www.1111.com.tw/corp/68989548/', 'www.1111.com.tw/corp/10166/', 'www.1111.com.tw/corp/9780293/', 'www.1111.com.tw/corp/420365/', 'www.1111.com.tw/corp/51655865/', 'www.1111.com.tw/corp/49616149/', 'www.1111.com.tw/corp/36088708/', 'www.1111.com.tw/corp/298410/', 'www.1111.com.tw/corp/2192251/', 'www.1111.com.tw/corp/48931640/', 'www.1111.com.tw/corp/51829034/', 'www.1111.com.tw/corp/540791/', 'www.1111.com.tw/corp/1097131/', 'www.1111.com.tw/corp/1902613/', 'www.1111.com.tw/corp/1263586/', 'www.1111.com.tw/corp/8635828/', 'www.1111.com.tw/corp/11307/', 'www.1111.com.tw/corp/14126/', 'www.1111.com.tw/corp/1345601/', 'www.1111.com.tw/corp/2170018/', 'www.1111.com.tw/corp/33946475/', 'www.1111.com.tw/corp/69616222/', 'www.1111.com.tw/corp/51570393/', 'www.1111.com.tw/corp/50501234/', 'www.1111.com.tw/corp/48326759/', 'www.1111.com.tw/corp/73480692/', 'www.1111.com.tw/corp/1853093/', 'www.1111.com.tw/corp/505849/', 'www.1111.com.tw/corp/8795062/', 'www.1111.com.tw/corp/90324/', 'www.1111.com.tw/corp/9622349/', 'www.1111.com.tw/corp/50740053/', 'www.1111.com.tw/corp/73218015/', 'www.1111.com.tw/corp/68623018/', 'www.1111.com.tw/corp/72425231/', 'www.1111.com.tw/corp/435299/', 'www.1111.com.tw/corp/72428992/', 'www.1111.com.tw/corp/943048/', 'www.1111.com.tw/corp/48882437/', 'www.1111.com.tw/corp/131238/', 'www.1111.com.tw/corp/10396273/', 'www.1111.com.tw/corp/51686600/', 'www.1111.com.tw/corp/61361938/', 'www.1111.com.tw/corp/436040/', 'www.1111.com.tw/corp/35865902/', 'www.1111.com.tw/corp/50945316/', 'www.1111.com.tw/corp/69421462/', 'www.1111.com.tw/corp/1285919/', 'www.1111.com.tw/corp/71697219/', 'www.1111.com.tw/corp/50743132/', 'www.1111.com.tw/corp/542134/', 'www.1111.com.tw/corp/69393669/', 'www.1111.com.tw/corp/210438/', 'www.1111.com.tw/corp/35975289/', 'www.1111.com.tw/corp/51935021/', 'www.1111.com.tw/corp/1947924/', 'www.1111.com.tw/corp/67569835/', 'www.1111.com.tw/corp/2000322/', 'www.1111.com.tw/corp/1961010/', 'www.1111.com.tw/corp/9441474/', 'www.1111.com.tw/corp/1096926/', 'www.1111.com.tw/corp/51077626/', 'www.1111.com.tw/corp/416146/', 'www.1111.com.tw/corp/151506/', 'www.1111.com.tw/corp/69447720/', 'www.1111.com.tw/corp/2000717/', 'www.1111.com.tw/corp/49860151/', 'www.1111.com.tw/corp/1903196/', 'www.1111.com.tw/corp/9912579/', 'www.1111.com.tw/corp/435745/', 'www.1111.com.tw/corp/542829/', 'www.1111.com.tw/corp/51530645/', 'www.1111.com.tw/corp/9996970/', 'www.1111.com.tw/corp/73131308/', 'www.1111.com.tw/corp/1355011/', 'www.1111.com.tw/corp/1850440/', 'www.1111.com.tw/corp/8325616/', 'www.1111.com.tw/corp/50928100/', 'www.1111.com.tw/corp/48541457/', 'www.1111.com.tw/corp/9720359/', 'www.1111.com.tw/corp/69059087/', 'www.1111.com.tw/corp/583705/', 'www.1111.com.tw/corp/1055292/', 'www.1111.com.tw/corp/73480694/', 'www.1111.com.tw/corp/50816449/', 'www.1111.com.tw/corp/51302399/', 'www.1111.com.tw/corp/51455599/', 'www.1111.com.tw/corp/291473/', 'www.1111.com.tw/corp/505103/', 'www.1111.com.tw/corp/51827858/', 'www.1111.com.tw/corp/8945462/', 'www.1111.com.tw/corp/9990404/', 'www.1111.com.tw/corp/51456137/', 'www.1111.com.tw/corp/9771792/', 'www.1111.com.tw/corp/8525468/', 'www.1111.com.tw/corp/51457412/', 'www.1111.com.tw/corp/50951070/', 'www.1111.com.tw/corp/9441695/', 'www.1111.com.tw/corp/2191656/', 'www.1111.com.tw/corp/69433321/', 'www.1111.com.tw/corp/9995275/', 'www.1111.com.tw/corp/71058265/', 'www.1111.com.tw/corp/9565216/', 'www.1111.com.tw/corp/49455889/', 'www.1111.com.tw/corp/3225951/', 'www.1111.com.tw/corp/9440050/', 'www.1111.com.tw/corp/131313/', 'www.1111.com.tw/corp/51688652/', 'www.1111.com.tw/corp/5163/', 'www.1111.com.tw/corp/69425985/', 'www.1111.com.tw/corp/583487/', 'www.1111.com.tw/corp/2132076/', 'www.1111.com.tw/corp/5877/', 'www.1111.com.tw/corp/72197558/', 'www.1111.com.tw/corp/69649077/', 'www.1111.com.tw/corp/795096/', 'www.1111.com.tw/corp/1790047/', 'www.1111.com.tw/corp/2133645/', 'www.1111.com.tw/corp/2901070/', 'www.1111.com.tw/corp/1690037/', 'www.1111.com.tw/corp/36071925/', 'www.1111.com.tw/corp/54530625/', 'www.1111.com.tw/corp/73515963/', 'www.1111.com.tw/corp/9722909/', 'www.1111.com.tw/corp/9526330/', 'www.1111.com.tw/corp/9591757/', 'www.1111.com.tw/corp/2130216/', 'www.1111.com.tw/corp/51466001/', 'www.1111.com.tw/corp/73174377/', 'www.1111.com.tw/corp/50758723/', 'www.1111.com.tw/corp/2131332/', 'www.1111.com.tw/corp/535237/', 'www.1111.com.tw/corp/49817291/', 'www.1111.com.tw/corp/390206/', 'www.1111.com.tw/corp/10000670/', 'www.1111.com.tw/corp/69191388/', 'www.1111.com.tw/corp/1845003/', 'www.1111.com.tw/corp/1175534/', 'www.1111.com.tw/corp/50504013/', 'www.1111.com.tw/corp/50922607/', 'www.1111.com.tw/corp/8961502/', 'www.1111.com.tw/corp/51650706/', 'www.1111.com.tw/corp/2850225/', 'www.1111.com.tw/corp/8535070/', 'www.1111.com.tw/corp/9995181/', 'www.1111.com.tw/corp/48510116/', 'www.1111.com.tw/corp/1817327/', 'www.1111.com.tw/corp/408627/', 'www.1111.com.tw/corp/543795/', 'www.1111.com.tw/corp/9720763/', 'www.1111.com.tw/corp/91792/', 'www.1111.com.tw/corp/2131367/', 'www.1111.com.tw/corp/400128/', 'www.1111.com.tw/corp/2190508/', 'www.1111.com.tw/corp/436068/', 'www.1111.com.tw/corp/9450296/', 'www.1111.com.tw/corp/1287891/', 'www.1111.com.tw/corp/3261/', 'www.1111.com.tw/corp/70673322/', 'www.1111.com.tw/corp/315729/', 'www.1111.com.tw/corp/9781561/', 'www.1111.com.tw/corp/52001268/', 'www.1111.com.tw/corp/10402559/', 'www.1111.com.tw/corp/69015778/', 'www.1111.com.tw/corp/405973/', 'www.1111.com.tw/corp/73515424/', 'www.1111.com.tw/corp/8960999/', 'www.1111.com.tw/corp/35771894/', 'www.1111.com.tw/corp/69117183/', 'www.1111.com.tw/corp/51582790/', 'www.1111.com.tw/corp/9480743/', 'www.1111.com.tw/corp/1346302/', 'www.1111.com.tw/corp/3226542/', 'www.1111.com.tw/corp/51945757/', 'www.1111.com.tw/corp/50928128/', 'www.1111.com.tw/corp/10390435/', 'www.1111.com.tw/corp/2765141/', 'www.1111.com.tw/corp/2000230/', 'www.1111.com.tw/corp/1915151/', 'www.1111.com.tw/corp/50280369/', 'www.1111.com.tw/corp/33940169/', 'www.1111.com.tw/corp/1341731/', 'www.1111.com.tw/corp/490284/', 'www.1111.com.tw/corp/48880036/', 'www.1111.com.tw/corp/2001332/', 'www.1111.com.tw/corp/305006/', 'www.1111.com.tw/corp/1263204/', 'www.1111.com.tw/corp/9703819/', 'www.1111.com.tw/corp/49788257/', 'www.1111.com.tw/corp/1267102/', 'www.1111.com.tw/corp/71056968/', 'www.1111.com.tw/corp/2787444/', 'www.1111.com.tw/corp/1960931/', 'www.1111.com.tw/corp/485124/', 'www.1111.com.tw/corp/54936975/', 'www.1111.com.tw/corp/50830597/', 'www.1111.com.tw/corp/20484/', 'www.1111.com.tw/corp/430016/', 'www.1111.com.tw/corp/50751183/', 'www.1111.com.tw/corp/182/', 'www.1111.com.tw/corp/9721259/', 'www.1111.com.tw/corp/69622091/', 'www.1111.com.tw/corp/6832/', 'www.1111.com.tw/corp/315695/', 'www.1111.com.tw/corp/2192184/', 'www.1111.com.tw/corp/69588457/', 'www.1111.com.tw/corp/291585/', 'www.1111.com.tw/corp/2850037/', 'www.1111.com.tw/corp/2133718/', 'www.1111.com.tw/corp/1365066/', 'www.1111.com.tw/corp/9997055/', 'www.1111.com.tw/corp/1096056/', 'www.1111.com.tw/corp/125672/', 'www.1111.com.tw/corp/73083947/', 'www.1111.com.tw/corp/72568817/', 'www.1111.com.tw/corp/1375084/', 'www.1111.com.tw/corp/10340485/', 'www.1111.com.tw/corp/8690106/', 'www.1111.com.tw/corp/2185081/', 'www.1111.com.tw/corp/107741/', 'www.1111.com.tw/corp/71730459/', 'www.1111.com.tw/corp/1252290/', 'www.1111.com.tw/corp/435167/', 'www.1111.com.tw/corp/9933/', 'www.1111.com.tw/corp/1225227/', 'www.1111.com.tw/corp/50496734/', 'www.1111.com.tw/corp/51561480/', 'www.1111.com.tw/corp/2786785/', 'www.1111.com.tw/corp/50133361/', 'www.1111.com.tw/corp/50487691/', 'www.1111.com.tw/corp/1947869/', 'www.1111.com.tw/corp/87115/', 'www.1111.com.tw/corp/527683/', 'www.1111.com.tw/corp/94018/', 'www.1111.com.tw/corp/50928203/', 'www.1111.com.tw/corp/2002844/', 'www.1111.com.tw/corp/48513646/', 'www.1111.com.tw/corp/69589564/', 'www.1111.com.tw/corp/3471/', 'www.1111.com.tw/corp/9592083/', 'www.1111.com.tw/corp/50795672/', 'www.1111.com.tw/corp/1902939/', 'www.1111.com.tw/corp/315526/', 'www.1111.com.tw/corp/1880090/', 'www.1111.com.tw/corp/49786886/', 'www.1111.com.tw/corp/2788584/', 'www.1111.com.tw/corp/1070075/', 'www.1111.com.tw/corp/69620203/', 'www.1111.com.tw/corp/8325814/', 'www.1111.com.tw/corp/73487672/', 'www.1111.com.tw/corp/73088889/', 'www.1111.com.tw/corp/10065210/', 'www.1111.com.tw/corp/10066679/', 'www.1111.com.tw/corp/1267872/', 'www.1111.com.tw/corp/51656154/', 'www.1111.com.tw/corp/51545876/', 'www.1111.com.tw/corp/2785413/', 'www.1111.com.tw/corp/69442964/', 'www.1111.com.tw/corp/50017335/', 'www.1111.com.tw/corp/2800332/', 'www.1111.com.tw/corp/2132676/', 'www.1111.com.tw/corp/50497493/', 'www.1111.com.tw/corp/125793/', 'www.1111.com.tw/corp/48328058/', 'www.1111.com.tw/corp/71535079/', 'www.1111.com.tw/corp/34482427/', 'www.1111.com.tw/corp/9912669/', 'www.1111.com.tw/corp/9680097/', 'www.1111.com.tw/corp/435082/', 'www.1111.com.tw/corp/2788445/', 'www.1111.com.tw/corp/35866243/', 'www.1111.com.tw/corp/10396356/', 'www.1111.com.tw/corp/98054/', 'www.1111.com.tw/corp/9702196/', 'www.1111.com.tw/corp/600056/', 'www.1111.com.tw/corp/70505/', 'www.1111.com.tw/corp/50757694/', 'www.1111.com.tw/corp/50765126/', 'www.1111.com.tw/corp/2132822/', 'www.1111.com.tw/corp/2915115/', 'www.1111.com.tw/corp/9910605/', 'www.1111.com.tw/corp/1853333/', 'www.1111.com.tw/corp/9447423/', 'www.1111.com.tw/corp/8635354/', 'www.1111.com.tw/corp/1345485/', 'www.1111.com.tw/corp/3698/', 'www.1111.com.tw/corp/50515304/', 'www.1111.com.tw/corp/51546696/', 'www.1111.com.tw/corp/69429589/', 'www.1111.com.tw/corp/435781/', 'www.1111.com.tw/corp/68793089/', 'www.1111.com.tw/corp/10396932/', 'www.1111.com.tw/corp/230743/', 'www.1111.com.tw/corp/2133609/', 'www.1111.com.tw/corp/425310/', 'www.1111.com.tw/corp/50803123/', 'www.1111.com.tw/corp/1267145/', 'www.1111.com.tw/corp/105120/', 'www.1111.com.tw/corp/51360999/', 'www.1111.com.tw/corp/10002632/', 'www.1111.com.tw/corp/73140149/', 'www.1111.com.tw/corp/68856862/', 'www.1111.com.tw/corp/73480693/', 'www.1111.com.tw/corp/580587/', 'www.1111.com.tw/corp/1715036/', 'www.1111.com.tw/corp/51852249/', 'www.1111.com.tw/corp/73090753/', 'www.1111.com.tw/corp/33940022/', 'www.1111.com.tw/corp/595012/', 'www.1111.com.tw/corp/3502/', 'www.1111.com.tw/corp/51385034/', 'www.1111.com.tw/corp/153237/', 'www.1111.com.tw/corp/125324/', 'www.1111.com.tw/corp/50630945/', 'www.1111.com.tw/corp/51447295/', 'www.1111.com.tw/corp/403546/', 'www.1111.com.tw/corp/130171/', 'www.1111.com.tw/corp/296470/', 'www.1111.com.tw/corp/1252639/', 'www.1111.com.tw/corp/49831174/', 'www.1111.com.tw/corp/8325515/', 'www.1111.com.tw/corp/2000687/', 'www.1111.com.tw/corp/73480696/', 'www.1111.com.tw/corp/1250843/', 'www.1111.com.tw/corp/51472562/', 'www.1111.com.tw/corp/73174486/', 'www.1111.com.tw/corp/2786148/', 'www.1111.com.tw/corp/543290/', 'www.1111.com.tw/corp/302827/', 'www.1111.com.tw/corp/51301845/', 'www.1111.com.tw/corp/406773/', 'www.1111.com.tw/corp/2850100/', 'www.1111.com.tw/corp/2770014/', 'www.1111.com.tw/corp/95921/', 'www.1111.com.tw/corp/100765/', 'www.1111.com.tw/corp/51723035/', 'www.1111.com.tw/corp/1883631/', 'www.1111.com.tw/corp/205104/', 'www.1111.com.tw/corp/10410036/', 'www.1111.com.tw/corp/72424969/', 'www.1111.com.tw/corp/68854851/', 'www.1111.com.tw/corp/10342398/', 'www.1111.com.tw/corp/1266715/', 'www.1111.com.tw/corp/71722795/', 'www.1111.com.tw/corp/69616014/', 'www.1111.com.tw/corp/2133988/', 'www.1111.com.tw/corp/1816459/', 'www.1111.com.tw/corp/2902821/', 'www.1111.com.tw/corp/582263/', 'www.1111.com.tw/corp/1780034/', 'www.1111.com.tw/corp/9597607/', 'www.1111.com.tw/corp/2191688/', 'www.1111.com.tw/corp/1252393/', 'www.1111.com.tw/corp/52000069/', 'www.1111.com.tw/corp/67326876/', 'www.1111.com.tw/corp/48511653/', 'www.1111.com.tw/corp/535719/', 'www.1111.com.tw/corp/51545924/', 'www.1111.com.tw/corp/2902955/', 'www.1111.com.tw/corp/8325742/', 'www.1111.com.tw/corp/2800002/', 'www.1111.com.tw/corp/9623840/', 'www.1111.com.tw/corp/9635497/', 'www.1111.com.tw/corp/49615391/', 'www.1111.com.tw/corp/51585204/', 'www.1111.com.tw/corp/9781968/', 'www.1111.com.tw/corp/1251143/', 'www.1111.com.tw/corp/430420/', 'www.1111.com.tw/corp/2786443/', 'www.1111.com.tw/corp/8945197/', 'www.1111.com.tw/corp/50666278/', 'www.1111.com.tw/corp/291091/', 'www.1111.com.tw/corp/890210/', 'www.1111.com.tw/corp/47154/', 'www.1111.com.tw/corp/73075572/', 'www.1111.com.tw/corp/2131373/', 'www.1111.com.tw/corp/69012984/', 'www.1111.com.tw/corp/67037495/', 'www.1111.com.tw/corp/73545949/', 'www.1111.com.tw/corp/70655426/', 'www.1111.com.tw/corp/4092/', 'www.1111.com.tw/corp/1225106/', 'www.1111.com.tw/corp/69386196/', 'www.1111.com.tw/corp/51447771/', 'www.1111.com.tw/corp/2133987/', 'www.1111.com.tw/corp/8325568/', 'www.1111.com.tw/corp/2900109/', 'www.1111.com.tw/corp/71721918/', 'www.1111.com.tw/corp/1948066/', 'www.1111.com.tw/corp/69436253/', 'www.1111.com.tw/corp/1715033/', 'www.1111.com.tw/corp/1903234/', 'www.1111.com.tw/corp/69191387/', 'www.1111.com.tw/corp/9773986/', 'www.1111.com.tw/corp/9720013/', 'www.1111.com.tw/corp/10001780/', 'www.1111.com.tw/corp/69012870/', 'www.1111.com.tw/corp/73515907/', 'www.1111.com.tw/corp/9975332/', 'www.1111.com.tw/corp/69191479/', 'www.1111.com.tw/corp/1900134/', 'www.1111.com.tw/corp/2133852/', 'www.1111.com.tw/corp/9590084/', 'www.1111.com.tw/corp/69450235/', 'www.1111.com.tw/corp/2765181/', 'www.1111.com.tw/corp/67799278/', 'www.1111.com.tw/corp/33951225/', 'www.1111.com.tw/corp/3228617/', 'www.1111.com.tw/corp/48727632/', 'www.1111.com.tw/corp/2900221/', 'www.1111.com.tw/corp/505713/', 'www.1111.com.tw/corp/1845183/', 'www.1111.com.tw/corp/8665017/', 'www.1111.com.tw/corp/9530088/', 'www.1111.com.tw/corp/68758684/', 'www.1111.com.tw/corp/2130009/', 'www.1111.com.tw/corp/49845006/', 'www.1111.com.tw/corp/69009/', 'www.1111.com.tw/corp/8310034/', 'www.1111.com.tw/corp/1266717/', 'www.1111.com.tw/corp/70024632/', 'www.1111.com.tw/corp/12098/', 'www.1111.com.tw/corp/1263963/', 'www.1111.com.tw/corp/9695533/', 'www.1111.com.tw/corp/51052715/', 'www.1111.com.tw/corp/9105/', 'www.1111.com.tw/corp/50390580/', 'www.1111.com.tw/corp/1853011/', 'www.1111.com.tw/corp/105251/', 'www.1111.com.tw/corp/302400/', 'www.1111.com.tw/corp/10581/', 'www.1111.com.tw/corp/68778583/', 'www.1111.com.tw/corp/10400241/', 'www.1111.com.tw/corp/600117/', 'www.1111.com.tw/corp/1280296/', 'www.1111.com.tw/corp/71303836/', 'www.1111.com.tw/corp/943514/', 'www.1111.com.tw/corp/73515724/', 'www.1111.com.tw/corp/51530836/', 'www.1111.com.tw/corp/2132827/', 'www.1111.com.tw/corp/9782079/', 'www.1111.com.tw/corp/73189802/', 'www.1111.com.tw/corp/50816913/', 'www.1111.com.tw/corp/50920973/', 'www.1111.com.tw/corp/73504075/', 'www.1111.com.tw/corp/50168745/', 'www.1111.com.tw/corp/69442435/', 'www.1111.com.tw/corp/1881610/', 'www.1111.com.tw/corp/51556914/', 'www.1111.com.tw/corp/1341556/', 'www.1111.com.tw/corp/305256/', 'www.1111.com.tw/corp/941686/', 'www.1111.com.tw/corp/9720469/', 'www.1111.com.tw/corp/48350365/', 'www.1111.com.tw/corp/1881554/', 'www.1111.com.tw/corp/73538164/', 'www.1111.com.tw/corp/290855/', 'www.1111.com.tw/corp/54571143/', 'www.1111.com.tw/corp/9631350/', 'www.1111.com.tw/corp/9620473/', 'www.1111.com.tw/corp/69191389/', 'www.1111.com.tw/corp/54933783/', 'www.1111.com.tw/corp/50518444/', 'www.1111.com.tw/corp/2787317/', 'www.1111.com.tw/corp/436048/', 'www.1111.com.tw/corp/50640479/', 'www.1111.com.tw/corp/410000/', 'www.1111.com.tw/corp/10343476/', 'www.1111.com.tw/corp/7650/', 'www.1111.com.tw/corp/2131808/', 'www.1111.com.tw/corp/69444279/', 'www.1111.com.tw/corp/505452/', 'www.1111.com.tw/corp/290420/', 'www.1111.com.tw/corp/36006943/', 'www.1111.com.tw/corp/69129344/', 'www.1111.com.tw/corp/67005433/', 'www.1111.com.tw/corp/7618/', 'www.1111.com.tw/corp/1345703/', 'www.1111.com.tw/corp/51395264/', 'www.1111.com.tw/corp/68651220/', 'www.1111.com.tw/corp/50488767/', 'www.1111.com.tw/corp/71719087/', 'www.1111.com.tw/corp/34483992/', 'www.1111.com.tw/corp/535161/', 'www.1111.com.tw/corp/9622725/', 'www.1111.com.tw/corp/2810/', 'www.1111.com.tw/corp/795019/', 'www.1111.com.tw/corp/1287418/', 'www.1111.com.tw/corp/51583609/', 'www.1111.com.tw/corp/68002732/', 'www.1111.com.tw/corp/50415616/', 'www.1111.com.tw/corp/69191392/', 'www.1111.com.tw/corp/50110067/', 'www.1111.com.tw/corp/8415/', 'www.1111.com.tw/corp/68643672/', 'www.1111.com.tw/corp/9620741/', 'www.1111.com.tw/corp/1346004/', 'www.1111.com.tw/corp/68947984/', 'www.1111.com.tw/corp/67801005/', 'www.1111.com.tw/corp/2132334/', 'www.1111.com.tw/corp/2003306/', 'www.1111.com.tw/corp/2745022/', 'www.1111.com.tw/corp/71688047/', 'www.1111.com.tw/corp/72563118/', 'www.1111.com.tw/corp/2191634/', 'www.1111.com.tw/corp/1945571/', 'www.1111.com.tw/corp/68639782/', 'www.1111.com.tw/corp/67788888/', 'www.1111.com.tw/corp/9525483/', 'www.1111.com.tw/corp/535185/', 'www.1111.com.tw/corp/490264/', 'www.1111.com.tw/corp/10066600/', 'www.1111.com.tw/corp/2180015/', 'www.1111.com.tw/corp/72459098/', 'www.1111.com.tw/corp/69431197/', 'www.1111.com.tw/corp/83/', 'www.1111.com.tw/corp/595024/', 'www.1111.com.tw/corp/535083/', 'www.1111.com.tw/corp/50498836/', 'www.1111.com.tw/corp/1097890/', 'www.1111.com.tw/corp/72518496/', 'www.1111.com.tw/corp/2788388/', 'www.1111.com.tw/corp/36203465/', 'www.1111.com.tw/corp/36065931/', 'www.1111.com.tw/corp/1342154/', 'www.1111.com.tw/corp/89762/', 'www.1111.com.tw/corp/4991/', 'www.1111.com.tw/corp/1252486/', 'www.1111.com.tw/corp/33866174/', 'www.1111.com.tw/corp/50131815/', 'www.1111.com.tw/corp/520011/', 'www.1111.com.tw/corp/69452056/', 'www.1111.com.tw/corp/71713333/', 'www.1111.com.tw/corp/71727937/', 'www.1111.com.tw/corp/69429471/', 'www.1111.com.tw/corp/73515666/', 'www.1111.com.tw/corp/10773/', 'www.1111.com.tw/corp/1220037/', 'www.1111.com.tw/corp/1945898/', 'www.1111.com.tw/corp/86010/', 'www.1111.com.tw/corp/69386131/', 'www.1111.com.tw/corp/50575193/', 'www.1111.com.tw/corp/1263525/', 'www.1111.com.tw/corp/68826126/', 'www.1111.com.tw/corp/1096867/', 'www.1111.com.tw/corp/8535469/', 'www.1111.com.tw/corp/1344596/', 'www.1111.com.tw/corp/51846710/', 'www.1111.com.tw/corp/130061/', 'www.1111.com.tw/corp/205268/', 'www.1111.com.tw/corp/50037593/', 'www.1111.com.tw/corp/2133906/', 'www.1111.com.tw/corp/69625866/', 'www.1111.com.tw/corp/2190019/', 'www.1111.com.tw/corp/536226/', 'www.1111.com.tw/corp/510508/', 'www.1111.com.tw/corp/50758318/', 'www.1111.com.tw/corp/2002141/', 'www.1111.com.tw/corp/51550365/', 'www.1111.com.tw/corp/71717220/', 'www.1111.com.tw/corp/1263250/', 'www.1111.com.tw/corp/9450234/', 'www.1111.com.tw/corp/9722158/', 'www.1111.com.tw/corp/8370026/', 'www.1111.com.tw/corp/1285474/', 'www.1111.com.tw/corp/51525194/', 'www.1111.com.tw/corp/410198/', 'www.1111.com.tw/corp/1175152/', 'www.1111.com.tw/corp/50035676/', 'www.1111.com.tw/corp/49788816/', 'www.1111.com.tw/corp/7802/', 'www.1111.com.tw/corp/48883836/', 'www.1111.com.tw/corp/71954758/', 'www.1111.com.tw/corp/1266969/', 'www.1111.com.tw/corp/2788842/', 'www.1111.com.tw/corp/69013041/', 'www.1111.com.tw/corp/52006283/', 'www.1111.com.tw/corp/1340005/', 'www.1111.com.tw/corp/51350189/', 'www.1111.com.tw/corp/942217/', 'www.1111.com.tw/corp/73463638/', 'www.1111.com.tw/corp/2131168/', 'www.1111.com.tw/corp/505737/', 'www.1111.com.tw/corp/12558/', 'www.1111.com.tw/corp/315148/', 'www.1111.com.tw/corp/7039/', 'www.1111.com.tw/corp/11268/', 'www.1111.com.tw/corp/2132422/', 'www.1111.com.tw/corp/10347259/', 'www.1111.com.tw/corp/72562150/', 'www.1111.com.tw/corp/2806487/', 'www.1111.com.tw/corp/48473514/', 'www.1111.com.tw/corp/68638741/', 'www.1111.com.tw/corp/35867211/', 'www.1111.com.tw/corp/329299/', 'www.1111.com.tw/corp/9850236/', 'www.1111.com.tw/corp/48512194/', 'www.1111.com.tw/corp/10470732/', 'www.1111.com.tw/corp/535375/', 'www.1111.com.tw/corp/1180043/', 'www.1111.com.tw/corp/71305132/', 'www.1111.com.tw/corp/436097/', 'www.1111.com.tw/corp/290896/', 'www.1111.com.tw/corp/1070076/', 'www.1111.com.tw/corp/296228/', 'www.1111.com.tw/corp/9720767/', 'www.1111.com.tw/corp/1815689/', 'www.1111.com.tw/corp/420387/', 'www.1111.com.tw/corp/435916/', 'www.1111.com.tw/corp/50665174/', 'www.1111.com.tw/corp/9780357/', 'www.1111.com.tw/corp/535999/', 'www.1111.com.tw/corp/125330/', 'www.1111.com.tw/corp/1050129/', 'www.1111.com.tw/corp/9700307/', 'www.1111.com.tw/corp/2000688/', 'www.1111.com.tw/corp/535254/', 'www.1111.com.tw/corp/2132530/', 'www.1111.com.tw/corp/8960741/', 'www.1111.com.tw/corp/1901854/', 'www.1111.com.tw/corp/51741080/', 'www.1111.com.tw/corp/34481988/', 'www.1111.com.tw/corp/1286545/', 'www.1111.com.tw/corp/1901749/', 'www.1111.com.tw/corp/403435/', 'www.1111.com.tw/corp/71712447/', 'www.1111.com.tw/corp/8962579/', 'www.1111.com.tw/corp/48881895/', 'www.1111.com.tw/corp/890105/']\n"
     ]
    }
   ],
   "source": [
    "#找500人以上的公司\n",
    "urls = []\n",
    "for i in range(150):\n",
    "    page = 'https://www.1111.com.tw/job-bank/job-index.asp?si=2&fs=1&ps=100&page={}&sf=501*'.format(str(i+1))\n",
    "    #page = 'https://www.1111.com.tw/job-bank/job-index.asp?si=2&fs=1&ps=100&page={}&sf=101~500'.format(str(i+1))\n",
    "    resp = requests.get(page, headers=headers)\n",
    "    nurls = list(set(re.findall('www.1111.com.tw/corp/[0-9]{1,}/', resp.text)))\n",
    "    \n",
    "    # 如果加載新分頁沒有抓到新的資料，就停止迴圈\n",
    "    if len(urls) == len(list(set(urls + nurls))):\n",
    "        break\n",
    "    urls = list(set(urls + nurls))\n",
    "    print(urls)"
   ]
  },
  {
   "cell_type": "code",
   "execution_count": 8,
   "id": "27393ef0",
   "metadata": {
    "scrolled": false
   },
   "outputs": [
    {
     "data": {
      "text/plain": [
       "789"
      ]
     },
     "execution_count": 8,
     "metadata": {},
     "output_type": "execute_result"
    }
   ],
   "source": [
    "#處理網址資料\n",
    "url_b=[]\n",
    "for i in urls:\n",
    "    a='http://'+str(i)\n",
    "    url_b.append(a)\n",
    "url_b=list(set(url_b))\n",
    "len(url_b)"
   ]
  },
  {
   "cell_type": "code",
   "execution_count": 9,
   "id": "f27ec7e5",
   "metadata": {},
   "outputs": [
    {
     "name": "stderr",
     "output_type": "stream",
     "text": [
      "\r",
      "  0%|          | 0/789 [00:00<?, ?it/s]"
     ]
    },
    {
     "name": "stdout",
     "output_type": "stream",
     "text": [
      "34.145.226.144:8080  Fetching  http://www.1111.com.tw/corp/2000715/  timeout:  20\n",
      "retrying:  1\n",
      "34.145.226.144:8080  Fetching  http://www.1111.com.tw/corp/2000715/  timeout:  25\n",
      "retrying:  2\n",
      "34.145.226.144:8080  Fetching  http://www.1111.com.tw/corp/2000715/  timeout:  30\n",
      "retrying:  3\n",
      "194.169.167.199:8080  Fetching  http://www.1111.com.tw/corp/2000715/  timeout:  20\n"
     ]
    },
    {
     "name": "stderr",
     "output_type": "stream",
     "text": [
      "\r",
      "  0%|          | 1/789 [01:34<20:45:07, 94.81s/it]"
     ]
    },
    {
     "name": "stdout",
     "output_type": "stream",
     "text": [
      "Success\n",
      "185.58.221.99:8090  Fetching  http://www.1111.com.tw/corp/72428992/  timeout:  20\n"
     ]
    },
    {
     "name": "stderr",
     "output_type": "stream",
     "text": [
      "\r",
      "  0%|          | 2/789 [01:56<11:22:03, 52.00s/it]"
     ]
    },
    {
     "name": "stdout",
     "output_type": "stream",
     "text": [
      "Success\n",
      "54.216.254.207:9000  Fetching  http://www.1111.com.tw/corp/490284/  timeout:  20\n"
     ]
    },
    {
     "name": "stderr",
     "output_type": "stream",
     "text": [
      "\r",
      "  0%|          | 2/789 [02:08<14:00:27, 64.08s/it]"
     ]
    },
    {
     "name": "stdout",
     "output_type": "stream",
     "text": [
      "Success\n",
      "['http://www.1111.com.tw/corp/2000715/', 'http://www.1111.com.tw/corp/72428992/', 'http://www.1111.com.tw/corp/490284/', 'http://www.1111.com.tw/corp/1340005/', 'http://www.1111.com.tw/corp/315695/', 'http://www.1111.com.tw/corp/2130009/', 'http://www.1111.com.tw/corp/890117/', 'http://www.1111.com.tw/corp/1263204/', 'http://www.1111.com.tw/corp/1252393/', 'http://www.1111.com.tw/corp/9720767/', 'http://www.1111.com.tw/corp/72563118/', 'http://www.1111.com.tw/corp/1177287/', 'http://www.1111.com.tw/corp/73480696/', 'http://www.1111.com.tw/corp/1960931/', 'http://www.1111.com.tw/corp/52001268/', 'http://www.1111.com.tw/corp/302400/', 'http://www.1111.com.tw/corp/69649077/', 'http://www.1111.com.tw/corp/2788584/', 'http://www.1111.com.tw/corp/68819835/', 'http://www.1111.com.tw/corp/291585/', 'http://www.1111.com.tw/corp/406773/', 'http://www.1111.com.tw/corp/1903234/', 'http://www.1111.com.tw/corp/68651220/', 'http://www.1111.com.tw/corp/1375084/', 'http://www.1111.com.tw/corp/2133824/', 'http://www.1111.com.tw/corp/12558/', 'http://www.1111.com.tw/corp/410198/', 'http://www.1111.com.tw/corp/11268/', 'http://www.1111.com.tw/corp/1263525/', 'http://www.1111.com.tw/corp/50415616/', 'http://www.1111.com.tw/corp/3228617/', 'http://www.1111.com.tw/corp/50390580/', 'http://www.1111.com.tw/corp/51655865/', 'http://www.1111.com.tw/corp/9615191/', 'http://www.1111.com.tw/corp/582263/', 'http://www.1111.com.tw/corp/54530625/', 'http://www.1111.com.tw/corp/3226542/', 'http://www.1111.com.tw/corp/36070884/', 'http://www.1111.com.tw/corp/69429589/', 'http://www.1111.com.tw/corp/2000322/', 'http://www.1111.com.tw/corp/2900221/', 'http://www.1111.com.tw/corp/50168745/', 'http://www.1111.com.tw/corp/8962579/', 'http://www.1111.com.tw/corp/50920973/', 'http://www.1111.com.tw/corp/1915151/', 'http://www.1111.com.tw/corp/69442964/', 'http://www.1111.com.tw/corp/1850440/', 'http://www.1111.com.tw/corp/69436253/', 'http://www.1111.com.tw/corp/10581/', 'http://www.1111.com.tw/corp/48881928/', 'http://www.1111.com.tw/corp/51686600/', 'http://www.1111.com.tw/corp/54936975/', 'http://www.1111.com.tw/corp/230743/', 'http://www.1111.com.tw/corp/8325515/', 'http://www.1111.com.tw/corp/36201205/', 'http://www.1111.com.tw/corp/748/', 'http://www.1111.com.tw/corp/2133988/', 'http://www.1111.com.tw/corp/9721238/', 'http://www.1111.com.tw/corp/1947924/', 'http://www.1111.com.tw/corp/50758723/', 'http://www.1111.com.tw/corp/795096/', 'http://www.1111.com.tw/corp/9780828/', 'http://www.1111.com.tw/corp/403435/', 'http://www.1111.com.tw/corp/35975289/', 'http://www.1111.com.tw/corp/3471/', 'http://www.1111.com.tw/corp/51077626/', 'http://www.1111.com.tw/corp/71722795/', 'http://www.1111.com.tw/corp/50497493/', 'http://www.1111.com.tw/corp/2788842/', 'http://www.1111.com.tw/corp/10067506/', 'http://www.1111.com.tw/corp/9591928/', 'http://www.1111.com.tw/corp/69444279/', 'http://www.1111.com.tw/corp/50795672/', 'http://www.1111.com.tw/corp/1903311/', 'http://www.1111.com.tw/corp/583487/', 'http://www.1111.com.tw/corp/1225227/', 'http://www.1111.com.tw/corp/68643672/', 'http://www.1111.com.tw/corp/73158561/', 'http://www.1111.com.tw/corp/8665017/', 'http://www.1111.com.tw/corp/71303836/', 'http://www.1111.com.tw/corp/48473514/', 'http://www.1111.com.tw/corp/10396273/', 'http://www.1111.com.tw/corp/535083/', 'http://www.1111.com.tw/corp/9722158/', 'http://www.1111.com.tw/corp/35872353/', 'http://www.1111.com.tw/corp/9902757/', 'http://www.1111.com.tw/corp/51550365/', 'http://www.1111.com.tw/corp/73515907/', 'http://www.1111.com.tw/corp/2002141/', 'http://www.1111.com.tw/corp/51385034/', 'http://www.1111.com.tw/corp/69191388/', 'http://www.1111.com.tw/corp/69429471/', 'http://www.1111.com.tw/corp/2190019/', 'http://www.1111.com.tw/corp/5498/', 'http://www.1111.com.tw/corp/73515963/', 'http://www.1111.com.tw/corp/51556914/', 'http://www.1111.com.tw/corp/1880090/', 'http://www.1111.com.tw/corp/9720359/', 'http://www.1111.com.tw/corp/9622349/', 'http://www.1111.com.tw/corp/69450235/', 'http://www.1111.com.tw/corp/1790047/', 'http://www.1111.com.tw/corp/1342154/', 'http://www.1111.com.tw/corp/70673322/', 'http://www.1111.com.tw/corp/1285474/', 'http://www.1111.com.tw/corp/10002632/', 'http://www.1111.com.tw/corp/51472562/', 'http://www.1111.com.tw/corp/9975332/', 'http://www.1111.com.tw/corp/50945316/', 'http://www.1111.com.tw/corp/1280296/', 'http://www.1111.com.tw/corp/8525468/', 'http://www.1111.com.tw/corp/1901854/', 'http://www.1111.com.tw/corp/290855/', 'http://www.1111.com.tw/corp/80002/', 'http://www.1111.com.tw/corp/1345703/', 'http://www.1111.com.tw/corp/9620741/', 'http://www.1111.com.tw/corp/10343476/', 'http://www.1111.com.tw/corp/51457412/', 'http://www.1111.com.tw/corp/1175534/', 'http://www.1111.com.tw/corp/69117183/', 'http://www.1111.com.tw/corp/51052715/', 'http://www.1111.com.tw/corp/8415/', 'http://www.1111.com.tw/corp/10340485/', 'http://www.1111.com.tw/corp/131238/', 'http://www.1111.com.tw/corp/210438/', 'http://www.1111.com.tw/corp/51583609/', 'http://www.1111.com.tw/corp/2192184/', 'http://www.1111.com.tw/corp/50487691/', 'http://www.1111.com.tw/corp/9702196/', 'http://www.1111.com.tw/corp/67788888/', 'http://www.1111.com.tw/corp/9721259/', 'http://www.1111.com.tw/corp/520011/', 'http://www.1111.com.tw/corp/35868141/', 'http://www.1111.com.tw/corp/69421462/', 'http://www.1111.com.tw/corp/1817327/', 'http://www.1111.com.tw/corp/50665174/', 'http://www.1111.com.tw/corp/943048/', 'http://www.1111.com.tw/corp/6646/', 'http://www.1111.com.tw/corp/1097131/', 'http://www.1111.com.tw/corp/68638741/', 'http://www.1111.com.tw/corp/535254/', 'http://www.1111.com.tw/corp/10066679/', 'http://www.1111.com.tw/corp/9680097/', 'http://www.1111.com.tw/corp/1853333/', 'http://www.1111.com.tw/corp/130061/', 'http://www.1111.com.tw/corp/50830597/', 'http://www.1111.com.tw/corp/2192251/', 'http://www.1111.com.tw/corp/1096056/', 'http://www.1111.com.tw/corp/72568817/', 'http://www.1111.com.tw/corp/52000069/', 'http://www.1111.com.tw/corp/182/', 'http://www.1111.com.tw/corp/48513646/', 'http://www.1111.com.tw/corp/50496734/', 'http://www.1111.com.tw/corp/50743785/', 'http://www.1111.com.tw/corp/1252290/', 'http://www.1111.com.tw/corp/8690106/', 'http://www.1111.com.tw/corp/1341475/', 'http://www.1111.com.tw/corp/51466001/', 'http://www.1111.com.tw/corp/9720469/', 'http://www.1111.com.tw/corp/69191479/', 'http://www.1111.com.tw/corp/9623840/', 'http://www.1111.com.tw/corp/52006283/', 'http://www.1111.com.tw/corp/505103/', 'http://www.1111.com.tw/corp/9992537/', 'http://www.1111.com.tw/corp/72570302/', 'http://www.1111.com.tw/corp/50575193/', 'http://www.1111.com.tw/corp/35867211/', 'http://www.1111.com.tw/corp/2800002/', 'http://www.1111.com.tw/corp/49860151/', 'http://www.1111.com.tw/corp/1050129/', 'http://www.1111.com.tw/corp/68639782/', 'http://www.1111.com.tw/corp/73083947/', 'http://www.1111.com.tw/corp/69452056/', 'http://www.1111.com.tw/corp/2131332/', 'http://www.1111.com.tw/corp/542134/', 'http://www.1111.com.tw/corp/8945660/', 'http://www.1111.com.tw/corp/1220037/', 'http://www.1111.com.tw/corp/9525483/', 'http://www.1111.com.tw/corp/68989548/', 'http://www.1111.com.tw/corp/51688652/', 'http://www.1111.com.tw/corp/1180043/', 'http://www.1111.com.tw/corp/2003577/', 'http://www.1111.com.tw/corp/2785177/', 'http://www.1111.com.tw/corp/9933/', 'http://www.1111.com.tw/corp/9635497/', 'http://www.1111.com.tw/corp/10066600/', 'http://www.1111.com.tw/corp/71721918/', 'http://www.1111.com.tw/corp/2002844/', 'http://www.1111.com.tw/corp/73090753/', 'http://www.1111.com.tw/corp/51585204/', 'http://www.1111.com.tw/corp/50960171/', 'http://www.1111.com.tw/corp/71712447/', 'http://www.1111.com.tw/corp/535161/', 'http://www.1111.com.tw/corp/2000717/', 'http://www.1111.com.tw/corp/291060/', 'http://www.1111.com.tw/corp/69012870/', 'http://www.1111.com.tw/corp/405973/', 'http://www.1111.com.tw/corp/1267872/', 'http://www.1111.com.tw/corp/70024632/', 'http://www.1111.com.tw/corp/50504013/', 'http://www.1111.com.tw/corp/8635354/', 'http://www.1111.com.tw/corp/4252/', 'http://www.1111.com.tw/corp/51456137/', 'http://www.1111.com.tw/corp/69059087/', 'http://www.1111.com.tw/corp/20484/', 'http://www.1111.com.tw/corp/51395264/', 'http://www.1111.com.tw/corp/1948066/', 'http://www.1111.com.tw/corp/1881554/', 'http://www.1111.com.tw/corp/54570945/', 'http://www.1111.com.tw/corp/9722909/', 'http://www.1111.com.tw/corp/4092/', 'http://www.1111.com.tw/corp/2132422/', 'http://www.1111.com.tw/corp/7802/', 'http://www.1111.com.tw/corp/49615391/', 'http://www.1111.com.tw/corp/1845183/', 'http://www.1111.com.tw/corp/595012/', 'http://www.1111.com.tw/corp/73515666/', 'http://www.1111.com.tw/corp/1853011/', 'http://www.1111.com.tw/corp/69616222/', 'http://www.1111.com.tw/corp/36005937/', 'http://www.1111.com.tw/corp/51656154/', 'http://www.1111.com.tw/corp/36071925/', 'http://www.1111.com.tw/corp/2786359/', 'http://www.1111.com.tw/corp/583705/', 'http://www.1111.com.tw/corp/290420/', 'http://www.1111.com.tw/corp/9650078/', 'http://www.1111.com.tw/corp/73480692/', 'http://www.1111.com.tw/corp/49786886/', 'http://www.1111.com.tw/corp/2745022/', 'http://www.1111.com.tw/corp/535185/', 'http://www.1111.com.tw/corp/305006/', 'http://www.1111.com.tw/corp/51525194/', 'http://www.1111.com.tw/corp/543290/', 'http://www.1111.com.tw/corp/1287418/', 'http://www.1111.com.tw/corp/600117/', 'http://www.1111.com.tw/corp/9700307/', 'http://www.1111.com.tw/corp/2770014/', 'http://www.1111.com.tw/corp/9620473/', 'http://www.1111.com.tw/corp/2786598/', 'http://www.1111.com.tw/corp/71305132/', 'http://www.1111.com.tw/corp/403546/', 'http://www.1111.com.tw/corp/9631350/', 'http://www.1111.com.tw/corp/69392203/', 'http://www.1111.com.tw/corp/71954758/', 'http://www.1111.com.tw/corp/105010/', 'http://www.1111.com.tw/corp/2788445/', 'http://www.1111.com.tw/corp/69625866/', 'http://www.1111.com.tw/corp/2190508/', 'http://www.1111.com.tw/corp/51582790/', 'http://www.1111.com.tw/corp/296470/', 'http://www.1111.com.tw/corp/51737730/', 'http://www.1111.com.tw/corp/2185081/', 'http://www.1111.com.tw/corp/73131308/', 'http://www.1111.com.tw/corp/50666278/', 'http://www.1111.com.tw/corp/73218015/', 'http://www.1111.com.tw/corp/436040/', 'http://www.1111.com.tw/corp/1263531/', 'http://www.1111.com.tw/corp/2902821/', 'http://www.1111.com.tw/corp/68826126/', 'http://www.1111.com.tw/corp/1263963/', 'http://www.1111.com.tw/corp/51945757/', 'http://www.1111.com.tw/corp/35866243/', 'http://www.1111.com.tw/corp/72459098/', 'http://www.1111.com.tw/corp/430420/', 'http://www.1111.com.tw/corp/35945265/', 'http://www.1111.com.tw/corp/73140149/', 'http://www.1111.com.tw/corp/50816913/', 'http://www.1111.com.tw/corp/125330/', 'http://www.1111.com.tw/corp/51741080/', 'http://www.1111.com.tw/corp/72425231/', 'http://www.1111.com.tw/corp/51360999/', 'http://www.1111.com.tw/corp/2132822/', 'http://www.1111.com.tw/corp/541056/', 'http://www.1111.com.tw/corp/535999/', 'http://www.1111.com.tw/corp/9480743/', 'http://www.1111.com.tw/corp/1266717/', 'http://www.1111.com.tw/corp/1250843/', 'http://www.1111.com.tw/corp/71637661/', 'http://www.1111.com.tw/corp/890071/', 'http://www.1111.com.tw/corp/9912669/', 'http://www.1111.com.tw/corp/131063/', 'http://www.1111.com.tw/corp/2003306/', 'http://www.1111.com.tw/corp/435916/', 'http://www.1111.com.tw/corp/9910605/', 'http://www.1111.com.tw/corp/1096867/', 'http://www.1111.com.tw/corp/34482427/', 'http://www.1111.com.tw/corp/2133987/', 'http://www.1111.com.tw/corp/8961502/', 'http://www.1111.com.tw/corp/73545949/', 'http://www.1111.com.tw/corp/50765126/', 'http://www.1111.com.tw/corp/9530088/', 'http://www.1111.com.tw/corp/151506/', 'http://www.1111.com.tw/corp/1715036/', 'http://www.1111.com.tw/corp/9441474/', 'http://www.1111.com.tw/corp/8310034/', 'http://www.1111.com.tw/corp/12098/', 'http://www.1111.com.tw/corp/1096051/', 'http://www.1111.com.tw/corp/51302399/', 'http://www.1111.com.tw/corp/48510116/', 'http://www.1111.com.tw/corp/7650/', 'http://www.1111.com.tw/corp/1365066/', 'http://www.1111.com.tw/corp/33866174/', 'http://www.1111.com.tw/corp/490030/', 'http://www.1111.com.tw/corp/67799278/', 'http://www.1111.com.tw/corp/51683537/', 'http://www.1111.com.tw/corp/3698/', 'http://www.1111.com.tw/corp/600056/', 'http://www.1111.com.tw/corp/9597607/', 'http://www.1111.com.tw/corp/8945462/', 'http://www.1111.com.tw/corp/33940169/', 'http://www.1111.com.tw/corp/6832/', 'http://www.1111.com.tw/corp/67005433/', 'http://www.1111.com.tw/corp/50501234/', 'http://www.1111.com.tw/corp/2133645/', 'http://www.1111.com.tw/corp/70655426/', 'http://www.1111.com.tw/corp/595024/', 'http://www.1111.com.tw/corp/125672/', 'http://www.1111.com.tw/corp/9912579/', 'http://www.1111.com.tw/corp/1305047/', 'http://www.1111.com.tw/corp/50505169/', 'http://www.1111.com.tw/corp/11307/', 'http://www.1111.com.tw/corp/1070075/', 'http://www.1111.com.tw/corp/1355011/', 'http://www.1111.com.tw/corp/35771894/', 'http://www.1111.com.tw/corp/9447423/', 'http://www.1111.com.tw/corp/425310/', 'http://www.1111.com.tw/corp/50630945/', 'http://www.1111.com.tw/corp/1285919/', 'http://www.1111.com.tw/corp/1263250/', 'http://www.1111.com.tw/corp/52106074/', 'http://www.1111.com.tw/corp/2806487/', 'http://www.1111.com.tw/corp/51745511/', 'http://www.1111.com.tw/corp/36203465/', 'http://www.1111.com.tw/corp/73174486/', 'http://www.1111.com.tw/corp/2786443/', 'http://www.1111.com.tw/corp/2787444/', 'http://www.1111.com.tw/corp/2810/', 'http://www.1111.com.tw/corp/296228/', 'http://www.1111.com.tw/corp/2002893/', 'http://www.1111.com.tw/corp/10402559/', 'http://www.1111.com.tw/corp/2878/', 'http://www.1111.com.tw/corp/70505/', 'http://www.1111.com.tw/corp/10470732/', 'http://www.1111.com.tw/corp/505321/', 'http://www.1111.com.tw/corp/8555111/', 'http://www.1111.com.tw/corp/69015778/', 'http://www.1111.com.tw/corp/67801005/', 'http://www.1111.com.tw/corp/50010058/', 'http://www.1111.com.tw/corp/1853093/', 'http://www.1111.com.tw/corp/51350189/', 'http://www.1111.com.tw/corp/50803123/', 'http://www.1111.com.tw/corp/48931640/', 'http://www.1111.com.tw/corp/3261/', 'http://www.1111.com.tw/corp/8325814/', 'http://www.1111.com.tw/corp/90324/', 'http://www.1111.com.tw/corp/54939138/', 'http://www.1111.com.tw/corp/9703819/', 'http://www.1111.com.tw/corp/73487672/', 'http://www.1111.com.tw/corp/98054/', 'http://www.1111.com.tw/corp/9996970/', 'http://www.1111.com.tw/corp/50515304/', 'http://www.1111.com.tw/corp/105143/', 'http://www.1111.com.tw/corp/51829034/', 'http://www.1111.com.tw/corp/1096926/', 'http://www.1111.com.tw/corp/2800332/', 'http://www.1111.com.tw/corp/505713/', 'http://www.1111.com.tw/corp/1845003/', 'http://www.1111.com.tw/corp/107741/', 'http://www.1111.com.tw/corp/527683/', 'http://www.1111.com.tw/corp/50037294/', 'http://www.1111.com.tw/corp/1055292/', 'http://www.1111.com.tw/corp/68787405/', 'http://www.1111.com.tw/corp/105251/', 'http://www.1111.com.tw/corp/54571143/', 'http://www.1111.com.tw/corp/51545876/', 'http://www.1111.com.tw/corp/1285944/', 'http://www.1111.com.tw/corp/420365/', 'http://www.1111.com.tw/corp/485124/', 'http://www.1111.com.tw/corp/73174377/', 'http://www.1111.com.tw/corp/9720763/', 'http://www.1111.com.tw/corp/10001780/', 'http://www.1111.com.tw/corp/390206/', 'http://www.1111.com.tw/corp/542829/', 'http://www.1111.com.tw/corp/50928203/', 'http://www.1111.com.tw/corp/328629/', 'http://www.1111.com.tw/corp/67326876/', 'http://www.1111.com.tw/corp/543795/', 'http://www.1111.com.tw/corp/51561480/', 'http://www.1111.com.tw/corp/125793/', 'http://www.1111.com.tw/corp/36088708/', 'http://www.1111.com.tw/corp/51530836/', 'http://www.1111.com.tw/corp/3225300/', 'http://www.1111.com.tw/corp/35970329/', 'http://www.1111.com.tw/corp/2002986/', 'http://www.1111.com.tw/corp/51455599/', 'http://www.1111.com.tw/corp/535237/', 'http://www.1111.com.tw/corp/35865902/', 'http://www.1111.com.tw/corp/48512194/', 'http://www.1111.com.tw/corp/1085162/', 'http://www.1111.com.tw/corp/8535469/', 'http://www.1111.com.tw/corp/205176/', 'http://www.1111.com.tw/corp/51685739/', 'http://www.1111.com.tw/corp/73538164/', 'http://www.1111.com.tw/corp/50131815/', 'http://www.1111.com.tw/corp/10400097/', 'http://www.1111.com.tw/corp/9695533/', 'http://www.1111.com.tw/corp/436048/', 'http://www.1111.com.tw/corp/86010/', 'http://www.1111.com.tw/corp/73075572/', 'http://www.1111.com.tw/corp/535335/', 'http://www.1111.com.tw/corp/795019/', 'http://www.1111.com.tw/corp/2850037/', 'http://www.1111.com.tw/corp/10070713/', 'http://www.1111.com.tw/corp/9997055/', 'http://www.1111.com.tw/corp/50017335/', 'http://www.1111.com.tw/corp/2000688/', 'http://www.1111.com.tw/corp/2787737/', 'http://www.1111.com.tw/corp/69589564/', 'http://www.1111.com.tw/corp/943514/', 'http://www.1111.com.tw/corp/69431197/', 'http://www.1111.com.tw/corp/416030/', 'http://www.1111.com.tw/corp/83/', 'http://www.1111.com.tw/corp/51723035/', 'http://www.1111.com.tw/corp/71713333/', 'http://www.1111.com.tw/corp/1344596/', 'http://www.1111.com.tw/corp/1340195/', 'http://www.1111.com.tw/corp/535647/', 'http://www.1111.com.tw/corp/48882437/', 'http://www.1111.com.tw/corp/505452/', 'http://www.1111.com.tw/corp/2133906/', 'http://www.1111.com.tw/corp/50035676/', 'http://www.1111.com.tw/corp/2850225/', 'http://www.1111.com.tw/corp/2132461/', 'http://www.1111.com.tw/corp/2191550/', 'http://www.1111.com.tw/corp/49817291/', 'http://www.1111.com.tw/corp/505849/', 'http://www.1111.com.tw/corp/291473/', 'http://www.1111.com.tw/corp/91792/', 'http://www.1111.com.tw/corp/50951070/', 'http://www.1111.com.tw/corp/205104/', 'http://www.1111.com.tw/corp/8945059/', 'http://www.1111.com.tw/corp/51852249/', 'http://www.1111.com.tw/corp/2788388/', 'http://www.1111.com.tw/corp/72562150/', 'http://www.1111.com.tw/corp/10342398/', 'http://www.1111.com.tw/corp/510344/', 'http://www.1111.com.tw/corp/1715033/', 'http://www.1111.com.tw/corp/49831174/', 'http://www.1111.com.tw/corp/50080473/', 'http://www.1111.com.tw/corp/50928128/', 'http://www.1111.com.tw/corp/36058912/', 'http://www.1111.com.tw/corp/69588457/', 'http://www.1111.com.tw/corp/1780034/', 'http://www.1111.com.tw/corp/2131808/', 'http://www.1111.com.tw/corp/1252639/', 'http://www.1111.com.tw/corp/4911/', 'http://www.1111.com.tw/corp/305260/', 'http://www.1111.com.tw/corp/50757694/', 'http://www.1111.com.tw/corp/5163/', 'http://www.1111.com.tw/corp/1286545/', 'http://www.1111.com.tw/corp/1346302/', 'http://www.1111.com.tw/corp/50960932/', 'http://www.1111.com.tw/corp/9526330/', 'http://www.1111.com.tw/corp/9597422/', 'http://www.1111.com.tw/corp/69129344/', 'http://www.1111.com.tw/corp/9720013/', 'http://www.1111.com.tw/corp/1900134/', 'http://www.1111.com.tw/corp/8961329/', 'http://www.1111.com.tw/corp/1816767/', 'http://www.1111.com.tw/corp/71697219/', 'http://www.1111.com.tw/corp/2191656/', 'http://www.1111.com.tw/corp/69191386/', 'http://www.1111.com.tw/corp/100765/', 'http://www.1111.com.tw/corp/51456924/', 'http://www.1111.com.tw/corp/69191385/', 'http://www.1111.com.tw/corp/48511653/', 'http://www.1111.com.tw/corp/2901070/', 'http://www.1111.com.tw/corp/153237/', 'http://www.1111.com.tw/corp/2001332/', 'http://www.1111.com.tw/corp/51935021/', 'http://www.1111.com.tw/corp/942268/', 'http://www.1111.com.tw/corp/2133718/', 'http://www.1111.com.tw/corp/10396932/', 'http://www.1111.com.tw/corp/14126/', 'http://www.1111.com.tw/corp/9780411/', 'http://www.1111.com.tw/corp/1267102/', 'http://www.1111.com.tw/corp/2765266/', 'http://www.1111.com.tw/corp/34483992/', 'http://www.1111.com.tw/corp/9771792/', 'http://www.1111.com.tw/corp/510508/', 'http://www.1111.com.tw/corp/1225223/', 'http://www.1111.com.tw/corp/68002732/', 'http://www.1111.com.tw/corp/9995181/', 'http://www.1111.com.tw/corp/2132676/', 'http://www.1111.com.tw/corp/1903196/', 'http://www.1111.com.tw/corp/69386196/', 'http://www.1111.com.tw/corp/2132985/', 'http://www.1111.com.tw/corp/73088889/', 'http://www.1111.com.tw/corp/420250/', 'http://www.1111.com.tw/corp/1175152/', 'http://www.1111.com.tw/corp/1901749/', 'http://www.1111.com.tw/corp/4312/', 'http://www.1111.com.tw/corp/4991/', 'http://www.1111.com.tw/corp/73480694/', 'http://www.1111.com.tw/corp/1225106/', 'http://www.1111.com.tw/corp/36081969/', 'http://www.1111.com.tw/corp/1345601/', 'http://www.1111.com.tw/corp/48541457/', 'http://www.1111.com.tw/corp/48350365/', 'http://www.1111.com.tw/corp/1881610/', 'http://www.1111.com.tw/corp/291091/', 'http://www.1111.com.tw/corp/9591757/', 'http://www.1111.com.tw/corp/71717220/', 'http://www.1111.com.tw/corp/8635542/', 'http://www.1111.com.tw/corp/315526/', 'http://www.1111.com.tw/corp/48727632/', 'http://www.1111.com.tw/corp/68817379/', 'http://www.1111.com.tw/corp/87115/', 'http://www.1111.com.tw/corp/69393669/', 'http://www.1111.com.tw/corp/300764/', 'http://www.1111.com.tw/corp/71719087/', 'http://www.1111.com.tw/corp/9781561/', 'http://www.1111.com.tw/corp/51545924/', 'http://www.1111.com.tw/corp/35970553/', 'http://www.1111.com.tw/corp/7618/', 'http://www.1111.com.tw/corp/10395610/', 'http://www.1111.com.tw/corp/61361938/', 'http://www.1111.com.tw/corp/50488767/', 'http://www.1111.com.tw/corp/8325568/', 'http://www.1111.com.tw/corp/51650706/', 'http://www.1111.com.tw/corp/490302/', 'http://www.1111.com.tw/corp/67210284/', 'http://www.1111.com.tw/corp/9782079/', 'http://www.1111.com.tw/corp/71058265/', 'http://www.1111.com.tw/corp/542724/', 'http://www.1111.com.tw/corp/2765141/', 'http://www.1111.com.tw/corp/50498836/', 'http://www.1111.com.tw/corp/50740053/', 'http://www.1111.com.tw/corp/69446828/', 'http://www.1111.com.tw/corp/2003017/', 'http://www.1111.com.tw/corp/2180015/', 'http://www.1111.com.tw/corp/9850236/', 'http://www.1111.com.tw/corp/130171/', 'http://www.1111.com.tw/corp/9781968/', 'http://www.1111.com.tw/corp/9622725/', 'http://www.1111.com.tw/corp/435781/', 'http://www.1111.com.tw/corp/68626011/', 'http://www.1111.com.tw/corp/941686/', 'http://www.1111.com.tw/corp/8325742/', 'http://www.1111.com.tw/corp/1815689/', 'http://www.1111.com.tw/corp/69013041/', 'http://www.1111.com.tw/corp/98920/', 'http://www.1111.com.tw/corp/9780357/', 'http://www.1111.com.tw/corp/10400241/', 'http://www.1111.com.tw/corp/1345485/', 'http://www.1111.com.tw/corp/69191392/', 'http://www.1111.com.tw/corp/315729/', 'http://www.1111.com.tw/corp/48881895/', 'http://www.1111.com.tw/corp/67569835/', 'http://www.1111.com.tw/corp/8960999/', 'http://www.1111.com.tw/corp/7623/', 'http://www.1111.com.tw/corp/305256/', 'http://www.1111.com.tw/corp/50743132/', 'http://www.1111.com.tw/corp/10396356/', 'http://www.1111.com.tw/corp/435745/', 'http://www.1111.com.tw/corp/49788257/', 'http://www.1111.com.tw/corp/2850073/', 'http://www.1111.com.tw/corp/48328058/', 'http://www.1111.com.tw/corp/490264/', 'http://www.1111.com.tw/corp/9565216/', 'http://www.1111.com.tw/corp/33940022/', 'http://www.1111.com.tw/corp/9590084/', 'http://www.1111.com.tw/corp/1096964/', 'http://www.1111.com.tw/corp/73189802/', 'http://www.1111.com.tw/corp/9628101/', 'http://www.1111.com.tw/corp/36006943/', 'http://www.1111.com.tw/corp/69386131/', 'http://www.1111.com.tw/corp/68640843/', 'http://www.1111.com.tw/corp/1175622/', 'http://www.1111.com.tw/corp/298410/', 'http://www.1111.com.tw/corp/67037495/', 'http://www.1111.com.tw/corp/2132334/', 'http://www.1111.com.tw/corp/51827858/', 'http://www.1111.com.tw/corp/9592083/', 'http://www.1111.com.tw/corp/9900024/', 'http://www.1111.com.tw/corp/131313/', 'http://www.1111.com.tw/corp/51846710/', 'http://www.1111.com.tw/corp/10410036/', 'http://www.1111.com.tw/corp/2133852/', 'http://www.1111.com.tw/corp/8310063/', 'http://www.1111.com.tw/corp/50751183/', 'http://www.1111.com.tw/corp/50756536/', 'http://www.1111.com.tw/corp/73480695/', 'http://www.1111.com.tw/corp/4107/', 'http://www.1111.com.tw/corp/69620203/', 'http://www.1111.com.tw/corp/71056968/', 'http://www.1111.com.tw/corp/68778583/', 'http://www.1111.com.tw/corp/1251143/', 'http://www.1111.com.tw/corp/1816459/', 'http://www.1111.com.tw/corp/47154/', 'http://www.1111.com.tw/corp/8795062/', 'http://www.1111.com.tw/corp/410000/', 'http://www.1111.com.tw/corp/50110067/', 'http://www.1111.com.tw/corp/2132827/', 'http://www.1111.com.tw/corp/8960302/', 'http://www.1111.com.tw/corp/51301845/', 'http://www.1111.com.tw/corp/8962592/', 'http://www.1111.com.tw/corp/68947984/', 'http://www.1111.com.tw/corp/69425985/', 'http://www.1111.com.tw/corp/2786785/', 'http://www.1111.com.tw/corp/48883836/', 'http://www.1111.com.tw/corp/72518496/', 'http://www.1111.com.tw/corp/51692992/', 'http://www.1111.com.tw/corp/1902613/', 'http://www.1111.com.tw/corp/1945898/', 'http://www.1111.com.tw/corp/435082/', 'http://www.1111.com.tw/corp/67808935/', 'http://www.1111.com.tw/corp/68623018/', 'http://www.1111.com.tw/corp/890105/', 'http://www.1111.com.tw/corp/290896/', 'http://www.1111.com.tw/corp/73515724/', 'http://www.1111.com.tw/corp/49788816/', 'http://www.1111.com.tw/corp/8635527/', 'http://www.1111.com.tw/corp/205268/', 'http://www.1111.com.tw/corp/2131168/', 'http://www.1111.com.tw/corp/50485337/', 'http://www.1111.com.tw/corp/68758684/', 'http://www.1111.com.tw/corp/1945571/', 'http://www.1111.com.tw/corp/2191688/', 'http://www.1111.com.tw/corp/33946475/', 'http://www.1111.com.tw/corp/50280369/', 'http://www.1111.com.tw/corp/1341731/', 'http://www.1111.com.tw/corp/33951225/', 'http://www.1111.com.tw/corp/89762/', 'http://www.1111.com.tw/corp/69399925/', 'http://www.1111.com.tw/corp/1070076/', 'http://www.1111.com.tw/corp/2130216/', 'http://www.1111.com.tw/corp/2133691/', 'http://www.1111.com.tw/corp/50758318/', 'http://www.1111.com.tw/corp/3502/', 'http://www.1111.com.tw/corp/2131373/', 'http://www.1111.com.tw/corp/72197558/', 'http://www.1111.com.tw/corp/540791/', 'http://www.1111.com.tw/corp/536226/', 'http://www.1111.com.tw/corp/50922607/', 'http://www.1111.com.tw/corp/68856862/', 'http://www.1111.com.tw/corp/1883631/', 'http://www.1111.com.tw/corp/69191387/', 'http://www.1111.com.tw/corp/10390435/', 'http://www.1111.com.tw/corp/8635828/', 'http://www.1111.com.tw/corp/9441695/', 'http://www.1111.com.tw/corp/329299/', 'http://www.1111.com.tw/corp/535375/', 'http://www.1111.com.tw/corp/49616149/', 'http://www.1111.com.tw/corp/2902955/', 'http://www.1111.com.tw/corp/7039/', 'http://www.1111.com.tw/corp/1228/', 'http://www.1111.com.tw/corp/408627/', 'http://www.1111.com.tw/corp/50133361/', 'http://www.1111.com.tw/corp/9780293/', 'http://www.1111.com.tw/corp/1341556/', 'http://www.1111.com.tw/corp/1250203/', 'http://www.1111.com.tw/corp/435167/', 'http://www.1111.com.tw/corp/10000670/', 'http://www.1111.com.tw/corp/1961010/', 'http://www.1111.com.tw/corp/2787317/', 'http://www.1111.com.tw/corp/1690037/', 'http://www.1111.com.tw/corp/105120/', 'http://www.1111.com.tw/corp/50318/', 'http://www.1111.com.tw/corp/436068/', 'http://www.1111.com.tw/corp/5877/', 'http://www.1111.com.tw/corp/69012984/', 'http://www.1111.com.tw/corp/54510630/', 'http://www.1111.com.tw/corp/69433321/', 'http://www.1111.com.tw/corp/94018/', 'http://www.1111.com.tw/corp/73339/', 'http://www.1111.com.tw/corp/2133609/', 'http://www.1111.com.tw/corp/73480693/', 'http://www.1111.com.tw/corp/51447295/', 'http://www.1111.com.tw/corp/1252486/', 'http://www.1111.com.tw/corp/71727937/', 'http://www.1111.com.tw/corp/69616014/', 'http://www.1111.com.tw/corp/1902939/', 'http://www.1111.com.tw/corp/535719/', 'http://www.1111.com.tw/corp/580587/', 'http://www.1111.com.tw/corp/1289343/', 'http://www.1111.com.tw/corp/2915115/', 'http://www.1111.com.tw/corp/400128/', 'http://www.1111.com.tw/corp/71688047/', 'http://www.1111.com.tw/corp/48326759/', 'http://www.1111.com.tw/corp/9440050/', 'http://www.1111.com.tw/corp/942217/', 'http://www.1111.com.tw/corp/50640479/', 'http://www.1111.com.tw/corp/9590885/', 'http://www.1111.com.tw/corp/50928100/', 'http://www.1111.com.tw/corp/1097890/', 'http://www.1111.com.tw/corp/10773/', 'http://www.1111.com.tw/corp/95921/', 'http://www.1111.com.tw/corp/72424969/', 'http://www.1111.com.tw/corp/2900109/', 'http://www.1111.com.tw/corp/2785413/', 'http://www.1111.com.tw/corp/8325616/', 'http://www.1111.com.tw/corp/69191389/', 'http://www.1111.com.tw/corp/9720414/', 'http://www.1111.com.tw/corp/2787695/', 'http://www.1111.com.tw/corp/2765181/', 'http://www.1111.com.tw/corp/36065931/', 'http://www.1111.com.tw/corp/33940428/', 'http://www.1111.com.tw/corp/9442981/', 'http://www.1111.com.tw/corp/1346004/', 'http://www.1111.com.tw/corp/9526118/', 'http://www.1111.com.tw/corp/564/', 'http://www.1111.com.tw/corp/2132076/', 'http://www.1111.com.tw/corp/890210/', 'http://www.1111.com.tw/corp/69442435/', 'http://www.1111.com.tw/corp/9450296/', 'http://www.1111.com.tw/corp/2000230/', 'http://www.1111.com.tw/corp/9450234/', 'http://www.1111.com.tw/corp/51570393/', 'http://www.1111.com.tw/corp/436097/', 'http://www.1111.com.tw/corp/50816449/', 'http://www.1111.com.tw/corp/69622091/', 'http://www.1111.com.tw/corp/2787066/', 'http://www.1111.com.tw/corp/54933783/', 'http://www.1111.com.tw/corp/73504075/', 'http://www.1111.com.tw/corp/575090/', 'http://www.1111.com.tw/corp/2132530/', 'http://www.1111.com.tw/corp/1883029/', 'http://www.1111.com.tw/corp/3226728/', 'http://www.1111.com.tw/corp/73515424/', 'http://www.1111.com.tw/corp/69447720/', 'http://www.1111.com.tw/corp/1266969/', 'http://www.1111.com.tw/corp/10347259/', 'http://www.1111.com.tw/corp/92674/', 'http://www.1111.com.tw/corp/315148/', 'http://www.1111.com.tw/corp/10065210/', 'http://www.1111.com.tw/corp/49455889/', 'http://www.1111.com.tw/corp/71535079/', 'http://www.1111.com.tw/corp/1287891/', 'http://www.1111.com.tw/corp/50743989/', 'http://www.1111.com.tw/corp/49845006/', 'http://www.1111.com.tw/corp/9105/', 'http://www.1111.com.tw/corp/420387/', 'http://www.1111.com.tw/corp/69009/', 'http://www.1111.com.tw/corp/2850100/', 'http://www.1111.com.tw/corp/2170018/', 'http://www.1111.com.tw/corp/50518444/', 'http://www.1111.com.tw/corp/8535070/', 'http://www.1111.com.tw/corp/9591238/', 'http://www.1111.com.tw/corp/34481988/', 'http://www.1111.com.tw/corp/2000687/', 'http://www.1111.com.tw/corp/302827/', 'http://www.1111.com.tw/corp/10166/', 'http://www.1111.com.tw/corp/435299/', 'http://www.1111.com.tw/corp/8945197/', 'http://www.1111.com.tw/corp/51583435/', 'http://www.1111.com.tw/corp/51447771/', 'http://www.1111.com.tw/corp/50497534/', 'http://www.1111.com.tw/corp/36201970/', 'http://www.1111.com.tw/corp/9773986/', 'http://www.1111.com.tw/corp/73463638/', 'http://www.1111.com.tw/corp/48361017/', 'http://www.1111.com.tw/corp/51530645/', 'http://www.1111.com.tw/corp/8370026/', 'http://www.1111.com.tw/corp/296521/', 'http://www.1111.com.tw/corp/1267145/', 'http://www.1111.com.tw/corp/9995275/', 'http://www.1111.com.tw/corp/2131367/', 'http://www.1111.com.tw/corp/68793089/', 'http://www.1111.com.tw/corp/1947869/', 'http://www.1111.com.tw/corp/505737/', 'http://www.1111.com.tw/corp/3225951/', 'http://www.1111.com.tw/corp/50037593/', 'http://www.1111.com.tw/corp/125324/', 'http://www.1111.com.tw/corp/48880036/', 'http://www.1111.com.tw/corp/430016/', 'http://www.1111.com.tw/corp/1266715/', 'http://www.1111.com.tw/corp/68854851/', 'http://www.1111.com.tw/corp/8960741/', 'http://www.1111.com.tw/corp/2191634/', 'http://www.1111.com.tw/corp/416146/', 'http://www.1111.com.tw/corp/71730459/', 'http://www.1111.com.tw/corp/2786148/', 'http://www.1111.com.tw/corp/890042/', 'http://www.1111.com.tw/corp/3227818/', 'http://www.1111.com.tw/corp/9446205/', 'http://www.1111.com.tw/corp/10390559/', 'http://www.1111.com.tw/corp/51546696/', 'http://www.1111.com.tw/corp/9990404/', 'http://www.1111.com.tw/corp/1263586/']   網址發生錯誤 \n",
      "'NoneType' object has no attribute 'getText'\n",
      "總執行時間為2.135940933227539分\n"
     ]
    },
    {
     "name": "stderr",
     "output_type": "stream",
     "text": [
      "\n"
     ]
    }
   ],
   "source": [
    "import time\n",
    "#測試新的架構\n",
    "start_time=time.time() #起始執行時間\n",
    "\n",
    "cmp_name=[]#公司名稱\n",
    "industry_name=[]#產業類別\n",
    "cmp_address=[]#公司地址\n",
    "boss=[]#負責人\n",
    "cmp_id=[]#統編\n",
    "cmp_cnt=[]#公司人數\n",
    "cmp_url=[]#公司網址\n",
    "capital=[]#資本額\n",
    "set_time=[]#成立時間\n",
    "interview=[]#面試須知\n",
    "cmp_phone=[]#公司電話\n",
    "cmp_fax=[]#公司傳真\n",
    "work_cnt=[]#工作機會\n",
    "\n",
    "#設定防檔參數\n",
    "maxtimes_changeIp = 5\n",
    "maxtimes_retry = 3\n",
    "\n",
    "#迴圈抓不同網址\n",
    "try:\n",
    "    for i in tqdm(url_b):\n",
    "        time.sleep(random.randint(10,15)) #隨機等待\n",
    "        #init_page = requests.get(i,headers=headers).content\n",
    "        #加入防檔機制\n",
    "        init_page = changeUserAgentNProxy(\n",
    "        maxtimes_changeIp=maxtimes_changeIp, maxtimes_retry=maxtimes_retry, valid_ips=valid_ips, url=i, method=\"get\", payload=None)\n",
    "        init_soup = BeautifulSoup(init_page, 'lxml') \n",
    "        aa = init_soup.find('div', class_=\"corp_detail\")\n",
    "        #處理公司名稱\n",
    "        bb=init_soup.find('title')\n",
    "        bb=bb.getText().split('｜')[0]\n",
    "        cmp_name.append(bb)\n",
    "        #處理工作機會 \n",
    "        try:\n",
    "            cc = init_soup.find_all('div',{\"id\": \"Job-Detail\"})\n",
    "            for k in cc:\n",
    "                all_cc_tag = k.find_all('a')\n",
    "                work_op=all_cc_tag[5].text\n",
    "                s=[s for s in re.findall(r'-?\\d+\\.?\\d*', work_op)][0]\n",
    "                work_cnt.append(s)\n",
    "        except:\n",
    "            cmp_id.append(np.nan)\n",
    "\n",
    "        for j in aa.find_all('ul', class_=\"UI_list_dots\"):\n",
    "            all_li_tag = j.find_all('li')\n",
    "           #處理公司統編\n",
    "            try:\n",
    "                t=aa.find('ul',class_=\"UI_list_dots\").getText().strip().split(\"\\n\")\n",
    "                matching = [s for s in t if \"統編\" in s]\n",
    "                cmp_id.append(\"\".join(map(str,matching)))\n",
    "            except:\n",
    "                cmp_id.append(np.nan)\n",
    "            #處理公司位置\n",
    "            try:\n",
    "                t=aa.find('ul',class_=\"UI_list_dots\").getText().strip().split(\"\\n\")\n",
    "                matching = [s for s in t if \"公司位置\" in s]\n",
    "                tt=t[t.index(\"\".join((map(str,matching))))+2] #返回html腳本中，公司位置後的第二個元素，index是查找list中元素的位置\n",
    "                cmp_address.append(tt.strip())\n",
    "            except:\n",
    "                cmp_address.append(np.nan)\n",
    "           #處理公司人數\n",
    "            try:\n",
    "                t=aa.find('ul',class_=\"UI_list_dots\").getText().strip().split(\"\\n\")\n",
    "                matching = [s for s in t if \"公司人數\" in s]\n",
    "                cmp_cnt.append(\"\".join(map(str,matching)))\n",
    "            except:\n",
    "                cmp_cnt.append(np.nan)    \n",
    "            #處理資本額\n",
    "            try:\n",
    "                t=aa.find('ul',class_=\"UI_list_dots\").getText().strip().split(\"\\n\")\n",
    "                matching = [s for s in t if \"資本額\" in s]\n",
    "                capital.append(\"\".join(map(str,matching)))\n",
    "            except:\n",
    "                capital.append(np.nan)\n",
    "            #處理負責人\n",
    "            try:\n",
    "                t=aa.find('ul',class_=\"UI_list_dots\").getText().strip().split(\"\\n\")\n",
    "                matching = [s for s in t if \"負責人\" in s]\n",
    "                boss.append(\"\".join(map(str,matching)))\n",
    "            except:\n",
    "                boss.append(np.nan)\n",
    "            #處理成立時間\n",
    "            try:\n",
    "                t=aa.find('ul',class_=\"UI_list_dots\").getText().strip().split(\"\\n\")\n",
    "                matching = [s for s in t if \"成立時間\" in s]\n",
    "                tt=t[t.index(\"\".join((map(str,matching))))+1] #返回html腳本中，公司位置後的第二個元素，index是查找list中元素的位置\n",
    "                set_time.append(tt.strip())\n",
    "            except:\n",
    "                set_time.append(np.nan)\n",
    "            #處理公司電話\n",
    "            try:\n",
    "                t=aa.find('ul',class_=\"UI_list_dots\").getText().strip().split(\"\\n\")\n",
    "                matching = [s for s in t if \"公司電話\" in s]\n",
    "                tt=t[t.index(\"\".join((map(str,matching))))+2]\n",
    "                cmp_phone.append(tt.strip())\n",
    "            except:\n",
    "                cmp_phone.append(np.nan)\n",
    "            #處理公司傳真\n",
    "            try:\n",
    "                t=aa.find('ul',class_=\"UI_list_dots\").getText().strip().split(\"\\n\")\n",
    "                matching = [s for s in t if \"公司傳真\" in s]\n",
    "                tt=t[t.index(\"\".join((map(str,matching))))+2]\n",
    "                cmp_fax.append(tt.strip())\n",
    "            except:\n",
    "                cmp_fax.append(np.nan)\n",
    "            #處理公司網址\n",
    "            try:\n",
    "                t=aa.find('ul',class_=\"UI_list_dots\").getText().strip().split(\"\\n\")\n",
    "                matching = [s for s in t if \"公司網址\" in s]\n",
    "                cmp_url.append(\"\".join(map(str,matching)))\n",
    "            except:\n",
    "                cmp_url.append(np.nan)\n",
    "\n",
    "            #處理產業類別\n",
    "            for s in all_li_tag:\n",
    "                try:\n",
    "                    if '產業類別' in s.text: #產業類別\n",
    "                        ins_name=all_li_tag[0].text.strip().split(\"\\n\")\n",
    "                        ins_name=ins_name[-1].strip()\n",
    "                        industry_name.append(ins_name)\n",
    "                except:\n",
    "                    industry_name.append(np.nan)\n",
    "\n",
    "\n",
    "              \n",
    "\n",
    "except Exception as err: #例外處理，並印出錯誤訊息\n",
    "    print(f\"{url_b}   網址發生錯誤 \")\n",
    "    print(err)\n",
    "    pass\n",
    "              \n",
    "end_time=time.time()\n",
    "print(\"總執行時間為{total_time}分\".format(total_time=(end_time-start_time)/60))"
   ]
  },
  {
   "cell_type": "code",
   "execution_count": 10,
   "id": "5dfcc61c",
   "metadata": {
    "scrolled": false
   },
   "outputs": [
    {
     "name": "stdout",
     "output_type": "stream",
     "text": [
      "(3, 12)\n"
     ]
    },
    {
     "data": {
      "text/html": [
       "<div>\n",
       "<style scoped>\n",
       "    .dataframe tbody tr th:only-of-type {\n",
       "        vertical-align: middle;\n",
       "    }\n",
       "\n",
       "    .dataframe tbody tr th {\n",
       "        vertical-align: top;\n",
       "    }\n",
       "\n",
       "    .dataframe thead th {\n",
       "        text-align: right;\n",
       "    }\n",
       "</style>\n",
       "<table border=\"1\" class=\"dataframe\">\n",
       "  <thead>\n",
       "    <tr style=\"text-align: right;\">\n",
       "      <th></th>\n",
       "      <th>cmp_name</th>\n",
       "      <th>industry_name</th>\n",
       "      <th>cmp_address</th>\n",
       "      <th>cmp_url</th>\n",
       "      <th>cmp_id</th>\n",
       "      <th>boss</th>\n",
       "      <th>cmp_cnt</th>\n",
       "      <th>capital</th>\n",
       "      <th>set_time</th>\n",
       "      <th>cmp_phone</th>\n",
       "      <th>cmp_fax</th>\n",
       "      <th>work_cnt</th>\n",
       "    </tr>\n",
       "  </thead>\n",
       "  <tbody>\n",
       "    <tr>\n",
       "      <th>0</th>\n",
       "      <td>台聚管理顧問股份有限公司</td>\n",
       "      <td>其他石油╱煤製品製造</td>\n",
       "      <td>[內湖科技園區]</td>\n",
       "      <td>公司網址 : http://www.usig.com.tw</td>\n",
       "      <td>NaN</td>\n",
       "      <td></td>\n",
       "      <td></td>\n",
       "      <td></td>\n",
       "      <td></td>\n",
       "      <td></td>\n",
       "      <td></td>\n",
       "      <td>909</td>\n",
       "    </tr>\n",
       "    <tr>\n",
       "      <th>1</th>\n",
       "      <td>三商家購股份有限公司</td>\n",
       "      <td>量販流通相關</td>\n",
       "      <td>台北市中山區民權東路三段4號地下一樓</td>\n",
       "      <td>公司網址 : http://www.simplemart.com.tw/</td>\n",
       "      <td></td>\n",
       "      <td></td>\n",
       "      <td></td>\n",
       "      <td>資本額 : 5億5000萬</td>\n",
       "      <td></td>\n",
       "      <td></td>\n",
       "      <td></td>\n",
       "      <td>None</td>\n",
       "    </tr>\n",
       "    <tr>\n",
       "      <th>2</th>\n",
       "      <td>None</td>\n",
       "      <td>None</td>\n",
       "      <td>None</td>\n",
       "      <td>None</td>\n",
       "      <td></td>\n",
       "      <td>None</td>\n",
       "      <td>None</td>\n",
       "      <td>None</td>\n",
       "      <td>None</td>\n",
       "      <td>None</td>\n",
       "      <td>None</td>\n",
       "      <td>None</td>\n",
       "    </tr>\n",
       "  </tbody>\n",
       "</table>\n",
       "</div>"
      ],
      "text/plain": [
       "       cmp_name industry_name         cmp_address  \\\n",
       "0  台聚管理顧問股份有限公司    其他石油╱煤製品製造            [內湖科技園區]   \n",
       "1    三商家購股份有限公司        量販流通相關  台北市中山區民權東路三段4號地下一樓   \n",
       "2          None          None                None   \n",
       "\n",
       "                                cmp_url cmp_id  boss cmp_cnt        capital  \\\n",
       "0         公司網址 : http://www.usig.com.tw    NaN                                \n",
       "1  公司網址 : http://www.simplemart.com.tw/                       資本額 : 5億5000萬   \n",
       "2                                  None         None    None           None   \n",
       "\n",
       "  set_time                   cmp_phone cmp_fax work_cnt  \n",
       "0                         909  \n",
       "1                                                  None  \n",
       "2     None                        None    None     None  "
      ]
     },
     "execution_count": 10,
     "metadata": {},
     "output_type": "execute_result"
    }
   ],
   "source": [
    "#創建dataframe\n",
    "\n",
    "dict_1111 = {\"cmp_name\":cmp_name,\n",
    "            \"industry_name\": industry_name,\n",
    "            \"cmp_address\": cmp_address,\n",
    "            \"cmp_url\": cmp_url,\n",
    "            \"cmp_id\": cmp_id,\n",
    "            \"boss\":boss,\n",
    "            \"cmp_cnt\":cmp_cnt,\n",
    "            \"capital\":capital,\n",
    "            \"set_time\":set_time,\n",
    "            \"cmp_phone\":cmp_phone,\n",
    "            \"cmp_fax\":cmp_fax,\n",
    "            \"work_cnt\":work_cnt\n",
    "}\n",
    "df=pd.DataFrame.from_dict(dict_1111, orient='index') #若不加from_dict會出現array長度的錯誤\n",
    "df=df.T\n",
    "print(df.shape)\n",
    "df.head()\n"
   ]
  },
  {
   "cell_type": "code",
   "execution_count": 11,
   "id": "64558bdc",
   "metadata": {},
   "outputs": [
    {
     "data": {
      "text/html": [
       "<div>\n",
       "<style scoped>\n",
       "    .dataframe tbody tr th:only-of-type {\n",
       "        vertical-align: middle;\n",
       "    }\n",
       "\n",
       "    .dataframe tbody tr th {\n",
       "        vertical-align: top;\n",
       "    }\n",
       "\n",
       "    .dataframe thead th {\n",
       "        text-align: right;\n",
       "    }\n",
       "</style>\n",
       "<table border=\"1\" class=\"dataframe\">\n",
       "  <thead>\n",
       "    <tr style=\"text-align: right;\">\n",
       "      <th></th>\n",
       "      <th>cmp_name</th>\n",
       "      <th>industry_name</th>\n",
       "      <th>cmp_address</th>\n",
       "      <th>cmp_url</th>\n",
       "      <th>cmp_id</th>\n",
       "      <th>boss</th>\n",
       "      <th>cmp_cnt</th>\n",
       "      <th>capital</th>\n",
       "      <th>set_time</th>\n",
       "      <th>cmp_phone</th>\n",
       "      <th>cmp_fax</th>\n",
       "      <th>work_cnt</th>\n",
       "      <th>etl_date</th>\n",
       "    </tr>\n",
       "  </thead>\n",
       "  <tbody>\n",
       "    <tr>\n",
       "      <th>0</th>\n",
       "      <td>台聚管理顧問股份有限公司</td>\n",
       "      <td>其他石油╱煤製品製造</td>\n",
       "      <td>[內湖科技園區]</td>\n",
       "      <td>http://www.usig.com.tw</td>\n",
       "      <td>NaN</td>\n",
       "      <td></td>\n",
       "      <td>nan</td>\n",
       "      <td>NaN</td>\n",
       "      <td></td>\n",
       "      <td></td>\n",
       "      <td></td>\n",
       "      <td>909</td>\n",
       "      <td>2022-06-19 23:58:42.352466</td>\n",
       "    </tr>\n",
       "    <tr>\n",
       "      <th>1</th>\n",
       "      <td>三商家購股份有限公司</td>\n",
       "      <td>量販流通相關</td>\n",
       "      <td>台北市中山區民權東路三段4號地下一樓</td>\n",
       "      <td>http://www.simplemart.com.tw/</td>\n",
       "      <td></td>\n",
       "      <td></td>\n",
       "      <td>nan</td>\n",
       "      <td>5億5000萬</td>\n",
       "      <td></td>\n",
       "      <td></td>\n",
       "      <td></td>\n",
       "      <td>None</td>\n",
       "      <td>2022-06-19 23:58:42.352466</td>\n",
       "    </tr>\n",
       "    <tr>\n",
       "      <th>2</th>\n",
       "      <td>None</td>\n",
       "      <td>None</td>\n",
       "      <td>None</td>\n",
       "      <td>None</td>\n",
       "      <td></td>\n",
       "      <td>None</td>\n",
       "      <td>nan</td>\n",
       "      <td>None</td>\n",
       "      <td>None</td>\n",
       "      <td>None</td>\n",
       "      <td>None</td>\n",
       "      <td>None</td>\n",
       "      <td>2022-06-19 23:58:42.352466</td>\n",
       "    </tr>\n",
       "  </tbody>\n",
       "</table>\n",
       "</div>"
      ],
      "text/plain": [
       "       cmp_name industry_name         cmp_address  \\\n",
       "0  台聚管理顧問股份有限公司    其他石油╱煤製品製造            [內湖科技園區]   \n",
       "1    三商家購股份有限公司        量販流通相關  台北市中山區民權東路三段4號地下一樓   \n",
       "2          None          None                None   \n",
       "\n",
       "                          cmp_url cmp_id  boss  cmp_cnt   capital set_time  \\\n",
       "0          http://www.usig.com.tw    NaN            nan       NaN            \n",
       "1   http://www.simplemart.com.tw/                   nan   5億5000萬            \n",
       "2                            None         None      nan      None     None   \n",
       "\n",
       "                    cmp_phone cmp_fax work_cnt                   etl_date  \n",
       "0                909 2022-06-19 23:58:42.352466  \n",
       "1                                         None 2022-06-19 23:58:42.352466  \n",
       "2                        None    None     None 2022-06-19 23:58:42.352466  "
      ]
     },
     "execution_count": 11,
     "metadata": {},
     "output_type": "execute_result"
    }
   ],
   "source": [
    "#DataFrame資料處理\n",
    "df['cmp_url']=df.cmp_url.str.split('公司網址 :').str.get(1) #公司網址\n",
    "df['cmp_cnt']=df.cmp_cnt.str.split(':').str.get(1) #公司人數\n",
    "df['capital']=df.capital.str.split(':').str.get(1) #資本額\n",
    "df['etl_date']=datetime.datetime.today()\n",
    "df.head()"
   ]
  },
  {
   "cell_type": "code",
   "execution_count": null,
   "id": "b1cbda74",
   "metadata": {},
   "outputs": [],
   "source": [
    "df.shape"
   ]
  },
  {
   "cell_type": "code",
   "execution_count": null,
   "id": "d2df1adc",
   "metadata": {},
   "outputs": [],
   "source": []
  }
 ],
 "metadata": {
  "kernelspec": {
   "display_name": "Python 3",
   "language": "python",
   "name": "python3"
  },
  "language_info": {
   "codemirror_mode": {
    "name": "ipython",
    "version": 3
   },
   "file_extension": ".py",
   "mimetype": "text/x-python",
   "name": "python",
   "nbconvert_exporter": "python",
   "pygments_lexer": "ipython3",
   "version": "3.8.8"
  }
 },
 "nbformat": 4,
 "nbformat_minor": 5
}
